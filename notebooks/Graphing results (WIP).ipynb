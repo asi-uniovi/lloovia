{
 "cells": [
  {
   "cell_type": "code",
   "execution_count": 273,
   "metadata": {
    "ExecuteTime": {
     "end_time": "2016-12-14T18:19:12.627782",
     "start_time": "2016-12-14T18:19:12.618750"
    },
    "collapsed": false,
    "hide_input": true
   },
   "outputs": [],
   "source": [
    "import pickle\n",
    "import os,sys,inspect\n",
    "currentdir = os.path.dirname(\n",
    "    os.path.abspath(inspect.getfile(inspect.currentframe()))\n",
    "        )\n",
    "sys.path.insert(0, os.path.join(currentdir, os.path.pardir, \"src/solve\"))\n",
    "sys.path.insert(0, os.path.join(currentdir, os.path.pardir, \"src/visualization\"))\n",
    "sys.path.insert(0, os.path.join(currentdir, os.path.pardir, \"src/data\"))\n",
    "import lloovia\n",
    "%matplotlib inline\n",
    "import matplotlib.pyplot as plt\n",
    "import pandas as pd\n",
    "import numpy as np"
   ]
  },
  {
   "cell_type": "code",
   "execution_count": 275,
   "metadata": {
    "ExecuteTime": {
     "end_time": "2016-12-14T18:19:18.391091",
     "start_time": "2016-12-14T18:19:18.376351"
    },
    "collapsed": true,
    "hide_input": true
   },
   "outputs": [],
   "source": [
    "import matplotlib\n",
    "# Parámetros de las gráficas para publicación en artículo\n",
    "sb_white=dict(matplotlib.style.library[\"seaborn-whitegrid\"])\n",
    "sb_paper=dict(matplotlib.style.library[\"seaborn-paper\"])\n",
    "my_settings = {\n",
    "    \"axes.titlesize\": 8,\n",
    "    \"axes.labelsize\": 8,\n",
    "    \"xtick.labelsize\": 6,\n",
    "    \"ytick.labelsize\": 6,\n",
    "    \"figure.figsize\": (3.5, 2.5),\n",
    "    'grid.linestyle': '-',\n",
    "    \"grid.linewidth\": 0.5,\n",
    "    \"grid.alpha\": 0.5,\n",
    "    \"lines.markersize\": 3,\n",
    "    \"lines.linewidth\": 0.8,\n",
    "    \"text.usetex\": False,   \n",
    "    \"font.family\": \"serif\",\n",
    "    \"pgf.rcfonts\": False,\n",
    "    \"font.serif\": [],   \n",
    "    \"font.sans-serif\": [],\n",
    "    \"font.monospace\": [],\n",
    "}\n",
    "paper_style = {}\n",
    "for x in [sb_white, sb_paper, my_settings]:\n",
    "    paper_style.update(x)\n",
    "    \n",
    "# Parámetros para verlas en el notebook\n",
    "notebook_style = {}\n",
    "my_settings = {\n",
    "   \"figure.figsize\": (7, 5)\n",
    "}\n",
    "for x in [dict(matplotlib.style.library[\"seaborn-darkgrid\"]),\n",
    "          dict(matplotlib.style.library[\"seaborn-notebook\"])]:\n",
    "    notebook_style.update(x)"
   ]
  },
  {
   "cell_type": "markdown",
   "metadata": {},
   "source": [
    "# Synthetic experiments"
   ]
  },
  {
   "cell_type": "markdown",
   "metadata": {},
   "source": [
    "## Cloud infrastructure parameters"
   ]
  },
  {
   "cell_type": "markdown",
   "metadata": {},
   "source": [
    "The set of instace classes used in the synthetic experiments can be read from a pickle, and processed using Pandas to provide a summary table similar to Table 5 in the paper."
   ]
  },
  {
   "cell_type": "code",
   "execution_count": 428,
   "metadata": {
    "ExecuteTime": {
     "end_time": "2016-12-15T10:03:01.779397",
     "start_time": "2016-12-15T10:03:01.741873"
    },
    "collapsed": false
   },
   "outputs": [
    {
     "data": {
      "text/html": [
       "<div>\n",
       "<table border=\"1\" class=\"dataframe\">\n",
       "  <thead>\n",
       "    <tr>\n",
       "      <th></th>\n",
       "      <th></th>\n",
       "      <th colspan=\"2\" halign=\"left\">performance</th>\n",
       "      <th colspan=\"2\" halign=\"left\">price</th>\n",
       "    </tr>\n",
       "    <tr>\n",
       "      <th></th>\n",
       "      <th>reserved</th>\n",
       "      <th>False</th>\n",
       "      <th>True</th>\n",
       "      <th>False</th>\n",
       "      <th>True</th>\n",
       "    </tr>\n",
       "    <tr>\n",
       "      <th>name</th>\n",
       "      <th>region</th>\n",
       "      <th></th>\n",
       "      <th></th>\n",
       "      <th></th>\n",
       "      <th></th>\n",
       "    </tr>\n",
       "  </thead>\n",
       "  <tbody>\n",
       "    <tr>\n",
       "      <th rowspan=\"2\" valign=\"top\">c3.2xlarge</th>\n",
       "      <th>EU</th>\n",
       "      <td>46000.0</td>\n",
       "      <td>46000.0</td>\n",
       "      <td>0.478</td>\n",
       "      <td>0.307534</td>\n",
       "    </tr>\n",
       "    <tr>\n",
       "      <th>US</th>\n",
       "      <td>46000.0</td>\n",
       "      <td>46000.0</td>\n",
       "      <td>0.420</td>\n",
       "      <td>0.247717</td>\n",
       "    </tr>\n",
       "    <tr>\n",
       "      <th rowspan=\"2\" valign=\"top\">c3.large</th>\n",
       "      <th>EU</th>\n",
       "      <td>18000.0</td>\n",
       "      <td>18000.0</td>\n",
       "      <td>0.120</td>\n",
       "      <td>0.076598</td>\n",
       "    </tr>\n",
       "    <tr>\n",
       "      <th>US</th>\n",
       "      <td>18000.0</td>\n",
       "      <td>18000.0</td>\n",
       "      <td>0.105</td>\n",
       "      <td>0.061872</td>\n",
       "    </tr>\n",
       "    <tr>\n",
       "      <th rowspan=\"2\" valign=\"top\">c3.xlarge</th>\n",
       "      <th>EU</th>\n",
       "      <td>27000.0</td>\n",
       "      <td>27000.0</td>\n",
       "      <td>0.239</td>\n",
       "      <td>0.154224</td>\n",
       "    </tr>\n",
       "    <tr>\n",
       "      <th>US</th>\n",
       "      <td>27000.0</td>\n",
       "      <td>27000.0</td>\n",
       "      <td>0.210</td>\n",
       "      <td>0.124772</td>\n",
       "    </tr>\n",
       "    <tr>\n",
       "      <th rowspan=\"2\" valign=\"top\">m3.large</th>\n",
       "      <th>EU</th>\n",
       "      <td>11000.0</td>\n",
       "      <td>11000.0</td>\n",
       "      <td>0.146</td>\n",
       "      <td>0.100114</td>\n",
       "    </tr>\n",
       "    <tr>\n",
       "      <th>US</th>\n",
       "      <td>11000.0</td>\n",
       "      <td>11000.0</td>\n",
       "      <td>0.133</td>\n",
       "      <td>0.081393</td>\n",
       "    </tr>\n",
       "    <tr>\n",
       "      <th rowspan=\"2\" valign=\"top\">m3.medium</th>\n",
       "      <th>EU</th>\n",
       "      <td>9000.0</td>\n",
       "      <td>9000.0</td>\n",
       "      <td>0.073</td>\n",
       "      <td>0.049543</td>\n",
       "    </tr>\n",
       "    <tr>\n",
       "      <th>US</th>\n",
       "      <td>9000.0</td>\n",
       "      <td>9000.0</td>\n",
       "      <td>0.067</td>\n",
       "      <td>0.040297</td>\n",
       "    </tr>\n",
       "    <tr>\n",
       "      <th rowspan=\"2\" valign=\"top\">m3.xlarge</th>\n",
       "      <th>EU</th>\n",
       "      <td>39000.0</td>\n",
       "      <td>39000.0</td>\n",
       "      <td>0.293</td>\n",
       "      <td>0.199315</td>\n",
       "    </tr>\n",
       "    <tr>\n",
       "      <th>US</th>\n",
       "      <td>39000.0</td>\n",
       "      <td>39000.0</td>\n",
       "      <td>0.266</td>\n",
       "      <td>0.163014</td>\n",
       "    </tr>\n",
       "  </tbody>\n",
       "</table>\n",
       "</div>"
      ],
      "text/plain": [
       "                  performance           price          \n",
       "reserved                False    True   False     True \n",
       "name       region                                      \n",
       "c3.2xlarge EU         46000.0  46000.0  0.478  0.307534\n",
       "           US         46000.0  46000.0  0.420  0.247717\n",
       "c3.large   EU         18000.0  18000.0  0.120  0.076598\n",
       "           US         18000.0  18000.0  0.105  0.061872\n",
       "c3.xlarge  EU         27000.0  27000.0  0.239  0.154224\n",
       "           US         27000.0  27000.0  0.210  0.124772\n",
       "m3.large   EU         11000.0  11000.0  0.146  0.100114\n",
       "           US         11000.0  11000.0  0.133  0.081393\n",
       "m3.medium  EU          9000.0   9000.0  0.073  0.049543\n",
       "           US          9000.0   9000.0  0.067  0.040297\n",
       "m3.xlarge  EU         39000.0  39000.0  0.293  0.199315\n",
       "           US         39000.0  39000.0  0.266  0.163014"
      ]
     },
     "execution_count": 428,
     "metadata": {},
     "output_type": "execute_result"
    }
   ],
   "source": [
    "# Show the characteristics of the instances used in the experiments\n",
    "instances = pd.read_pickle(\"/tmp/interim/instances_for_synthetic_experiments.pickle\")\n",
    "(pd.DataFrame([i.__dict__ for i in instances])\n",
    " [[\"name\", \"cloud\", \"performance\", \"price\", \"reserved\"]]\n",
    " .assign(region=lambda x: x.cloud.astype(str).str.replace(\" .*\", \"\"))\n",
    " .drop(\"cloud\", axis=1)\n",
    "# .reset_index()\n",
    " .pivot_table(index=[\"name\", \"region\"], columns=\"reserved\", values=[\"price\", \"performance\"])\n",
    " .sort_index()\n",
    " )"
   ]
  },
  {
   "cell_type": "markdown",
   "metadata": {},
   "source": [
    "## Workload parameters"
   ]
  },
  {
   "cell_type": "markdown",
   "metadata": {},
   "source": [
    "Several workload shapes were used in each experiment. They are stored in `.csv` files, each one containing several columns for different base-level. There are two files for each workload shape, one is used as LTWP for Phase I and the other as STWP for Phase II in the \"realization\" experiment. All were synthetically generated and they can be regenerated to perform a new set of experiments if desired. Refer to README.\n",
    "\n",
    "This is the complete set of `.csv` files\n"
   ]
  },
  {
   "cell_type": "code",
   "execution_count": 429,
   "metadata": {
    "ExecuteTime": {
     "end_time": "2016-12-15T10:05:21.567141",
     "start_time": "2016-12-15T10:05:21.428100"
    },
    "collapsed": false,
    "scrolled": true
   },
   "outputs": [
    {
     "name": "stdout",
     "output_type": "stream",
     "text": [
      "../data/paper/traces_synthetic_decreasing_LTWP.csv\r\n",
      "../data/paper/traces_synthetic_decreasing_STWP.csv\r\n",
      "../data/paper/traces_synthetic_everything_LTWP.csv\r\n",
      "../data/paper/traces_synthetic_everything_STWP.csv\r\n",
      "../data/paper/traces_synthetic_increasing_LTWP.csv\r\n",
      "../data/paper/traces_synthetic_increasing_STWP.csv\r\n",
      "../data/paper/traces_synthetic_once_LTWP.csv\r\n",
      "../data/paper/traces_synthetic_once_STWP.csv\r\n",
      "../data/paper/traces_synthetic_periodic_LTWP.csv\r\n",
      "../data/paper/traces_synthetic_periodic_STWP.csv\r\n",
      "../data/paper/traces_synthetic_static_LTWP.csv\r\n",
      "../data/paper/traces_synthetic_static_STWP.csv\r\n",
      "../data/paper/traces_synthetic_unpredictable_LTWP.csv\r\n",
      "../data/paper/traces_synthetic_unpredictable_STWP.csv\r\n"
     ]
    }
   ],
   "source": [
    "!ls ../data/paper/traces_synthetic_*"
   ]
  },
  {
   "cell_type": "markdown",
   "metadata": {},
   "source": [
    "This is a plot which shows each workload shape, all for the LTWP version and base-level = 3000000. This is Fig. 8 in the paper"
   ]
  },
  {
   "cell_type": "code",
   "execution_count": 742,
   "metadata": {
    "ExecuteTime": {
     "end_time": "2016-12-16T10:37:04.093328",
     "start_time": "2016-12-16T10:37:01.521248"
    },
    "code_folding": [
     6
    ],
    "collapsed": false
   },
   "outputs": [
    {
     "data": {
      "image/png": "[encoded data removed]",
      "text/plain": [
       "<matplotlib.figure.Figure at 0x7f48f67e0668>"
      ]
     },
     "metadata": {},
     "output_type": "display_data"
    }
   ],
   "source": [
    "# Load all workloads from CSVs\n",
    "cases = df.index.levels[0]            # Names of each case\n",
    "dfw = pd.DataFrame()\n",
    "for case in cases:\n",
    "    data = pd.read_csv(\"../data/processed/traces_synthetic_{}_LTWP.csv\".format(case.lower()),\n",
    "                       index_col=0).T\n",
    "    data[\"Case\"] = case\n",
    "    data[\"Level\"] = data.index\n",
    "    data.set_index([\"Case\", \"Level\"])\n",
    "    dfw = dfw.append(data)\n",
    "dfw = dfw.set_index([\"Case\", \"Level\"]).reindex().sort_index().T\n",
    "\n",
    "# Plot them all in a single graph (only for base_level=3000000)\n",
    "\n",
    "# Workloads\n",
    "k = dfw.loc[:, pd.IndexSlice[:, \"3000000\"]].astype(float)\n",
    "k.index.name = \"Time slot\"\n",
    "# Nombres de los casos\n",
    "k.columns = k.columns.get_level_values(0)\n",
    "\n",
    "# Force this given order in the subplots\n",
    "selection = [\"Static\", \"Periodic\", \"Increasing\", \n",
    "             \"Decreasing\", \"Unpredictable\", \"Once\", \"Everything\"]\n",
    "\n",
    "with matplotlib.style.context(paper_style):\n",
    "    axarr = k[selection].plot(subplots=True, sharex=True, layout=(4,2),\n",
    "                              lw=0.4, color=\"steelblue\", alpha=0.7, legend=False, \n",
    "                              rot=90,\n",
    "                              figsize=(3.3,5))#, fontsize=7)\n",
    "    plt.subplots_adjust(left=None, bottom=0.3, right=None, top=None,\n",
    "                        wspace=0.3,  hspace=0.4)\n",
    "    for ax, title in zip(axarr.flat, selection):\n",
    "        ax.set_title(title)#, fontsize=11)\n",
    "        # Lo siguiente fuerza a usar notación científica\n",
    "        ax.yaxis.get_major_formatter().set_powerlimits((0, 1))\n",
    "        ax.set_ylim(1e6,6.5e6)\n",
    "for ax in axarr[:,0]:\n",
    "    ax.set_ylabel(\"rph\", rotation=90)\n",
    "plt.gcf().savefig(\"../reports/figures/fig-008-synthetic-workloads.pgf\", bbox_inches=\"tight\")"
   ]
  },
  {
   "cell_type": "markdown",
   "metadata": {},
   "source": [
    "## Solutions"
   ]
  },
  {
   "cell_type": "markdown",
   "metadata": {},
   "source": [
    "There are 7 workload shapes, and each one in 4 different \"base level\", which makes a total of 28 scenarios. Each of these scenarios is solved several times: \n",
    "\n",
    "* Phase I is run 11 times over each scenario, for different value of `max_bins`, plus another one without binning (the \"optimal\"). This makes 28*12=336 experiments. We call this phase \"I\"\n",
    "* Phase II is run 11 times, using the same prediction than phase I (perfect prediction) and using the number of reserved instances given by Phase I for each of the 11 cases of binning. This makes 28*11=308 additional experiments. We call this phase \"II\".\n",
    "* Phase II is run again 11 times, for each solution with bins in phase \"I\", but using this time different workloads as STWP, to evaluate the sensibilty of the solution to the accuracy of the prediction. This makes 28*11=308 additional experiments. We call this phase \"R\" (Realization).\n",
    "* An \"Oracle\" solution is found for each of the 28 scenarios. This oracle knows the future STWP and is able to obtain an optimal solution for the STWP. It is implemented by running phase I of lloovia without binning, but passing the STWP instead of the LTWP as input. This makes additional 28 experiments. We call this phase \"O\" (Oracle).\n",
    "\n",
    "In total there are 980 experiments. In order to bound the total time required for running them all, we set timeouts to find the solution in each experiment. Phase \"I\" experiments are limited to 15 minutes for the cases with binning, and 1 hour for the cases without binning. Phase \"II\" and \"R\" do not use binning and they have a time limit per timeslot which is never reached (because a single timeslot solves usually very fast), so in practice they do not require any timeout. Phase \"O\" is run without binning and with a timeout of 1h.\n",
    "\n",
    "Given the large number of experiments, the time to complete all of them is large (around 32h in a Intel(R) Xeon(R) CPU E5-2660 0 @ 2.20GHz). You can replicate the experiment using the Snakefiles provided, which automate all the workflow. Alternatively you can use the provided pickle which summarizes the results of all these experiments in a single dataframe, useful to explore and plot the data. All intermediate pickles produced during the analysis are not provided in this repository, because they take a large space in disk (~1.5Gb). Those pickles contain the individual allocation found by Lllovia for each timeslot of each of the 980 experiments.\n",
    "\n"
   ]
  },
  {
   "cell_type": "markdown",
   "metadata": {
    "ExecuteTime": {
     "end_time": "2016-12-15T10:33:58.416065",
     "start_time": "2016-12-15T10:33:58.204856"
    }
   },
   "source": [
    "### Read the final solution from file"
   ]
  },
  {
   "cell_type": "code",
   "execution_count": 463,
   "metadata": {
    "ExecuteTime": {
     "end_time": "2016-12-15T11:10:29.105181",
     "start_time": "2016-12-15T11:10:29.095915"
    },
    "collapsed": true
   },
   "outputs": [],
   "source": [
    "df = pd.read_pickle(\"../data/processed/all_experiments_result.pickle\")"
   ]
  },
  {
   "cell_type": "markdown",
   "metadata": {},
   "source": [
    "The resulting dataframe is multi-indexed by the name of each case, the base-level, the phase and the number of `max_bins` used. There is one row per experiment. Fore example, here is the first one:"
   ]
  },
  {
   "cell_type": "code",
   "execution_count": 446,
   "metadata": {
    "ExecuteTime": {
     "end_time": "2016-12-15T10:36:43.846536",
     "start_time": "2016-12-15T10:36:43.235955"
    },
    "collapsed": false
   },
   "outputs": [
    {
     "data": {
      "text/html": [
       "<div>\n",
       "<table border=\"1\" class=\"dataframe\">\n",
       "  <thead>\n",
       "    <tr style=\"text-align: right;\">\n",
       "      <th></th>\n",
       "      <th></th>\n",
       "      <th></th>\n",
       "      <th></th>\n",
       "      <th>cost</th>\n",
       "      <th>seconds_to_solve</th>\n",
       "      <th>seconds_to_create</th>\n",
       "      <th>frac_gap</th>\n",
       "      <th>max_seconds</th>\n",
       "      <th>status</th>\n",
       "    </tr>\n",
       "    <tr>\n",
       "      <th>Case</th>\n",
       "      <th>Base level</th>\n",
       "      <th>Phase</th>\n",
       "      <th>max_bins</th>\n",
       "      <th></th>\n",
       "      <th></th>\n",
       "      <th></th>\n",
       "      <th></th>\n",
       "      <th></th>\n",
       "      <th></th>\n",
       "    </tr>\n",
       "  </thead>\n",
       "  <tbody>\n",
       "    <tr>\n",
       "      <th>Decreasing</th>\n",
       "      <th>50000</th>\n",
       "      <th>I</th>\n",
       "      <th>5</th>\n",
       "      <td>1677.188</td>\n",
       "      <td>0.048798</td>\n",
       "      <td>0.014099</td>\n",
       "      <td>0.01</td>\n",
       "      <td>900.0</td>\n",
       "      <td>optimal</td>\n",
       "    </tr>\n",
       "  </tbody>\n",
       "</table>\n",
       "</div>"
      ],
      "text/plain": [
       "                                          cost  seconds_to_solve  \\\n",
       "Case       Base level Phase max_bins                               \n",
       "Decreasing 50000      I     5         1677.188          0.048798   \n",
       "\n",
       "                                      seconds_to_create frac_gap  max_seconds  \\\n",
       "Case       Base level Phase max_bins                                            \n",
       "Decreasing 50000      I     5                  0.014099     0.01        900.0   \n",
       "\n",
       "                                       status  \n",
       "Case       Base level Phase max_bins           \n",
       "Decreasing 50000      I     5         optimal  "
      ]
     },
     "execution_count": 446,
     "metadata": {},
     "output_type": "execute_result"
    }
   ],
   "source": [
    "df.head(1)"
   ]
  },
  {
   "cell_type": "markdown",
   "metadata": {},
   "source": [
    "It shows data about the case \"Decreasing\" with base level 50000, phase \"I\" with 5 bins. The only data stored per experiment is the final cost of the solution, the time required to create and solve the problem, some parameters passed to cbc (frac_gap and the timeout max_seconds), and the status of the solution. This status can be one of:\n",
    "\n",
    "* `optimal` The solver ran until the end and found the optimal solution (for that number of bins)\n",
    "* `aborted` The time limit given in `max_seconds` was reached, and no solution was found. In this case, the value of column `cost` is the best lower bound known by the solver at that point. \n",
    "* `overfull` This can only happen in phase \"R\", when the actual workload (STWP) is creater than predicted in LTWP. In this csae, is it possible that at some timeslots the workload cannot be fulfilled with the available ondemand instances. In this case Lloovia tries to maximize the performance during those timeslots, no matter the cost.\n",
    "\n",
    "**Note about the timeout:** The value of `max_seconds` passed to the cbc solver is not \"wall time\". Cbc divides that time between the number of execution threads. In our case, we used a machine with two cores and ran cbc in two threads. This means that, when `max_seconds=900`, the solver will abort the execution if it runs for more than 450 seconds."
   ]
  },
  {
   "cell_type": "code",
   "execution_count": 454,
   "metadata": {
    "ExecuteTime": {
     "end_time": "2016-12-15T10:51:24.207909",
     "start_time": "2016-12-15T10:51:24.157965"
    },
    "collapsed": false
   },
   "outputs": [
    {
     "name": "stdout",
     "output_type": "stream",
     "text": [
      "Number of experiment results in phase I  = 336\n",
      "Number of experiment results in phase II = 308\n",
      "Number of experiment results in phase R  = 28\n",
      "Number of experiment results in phase O  = 28\n"
     ]
    }
   ],
   "source": [
    "for phase in [\"I\", \"II\", \"R\", \"O\"]:\n",
    "    print(\"Number of experiment results in phase %-2s = %d\" % \n",
    "          (phase, len(df.query(\"Phase=='%s'\" % phase ))))"
   ]
  },
  {
   "cell_type": "markdown",
   "metadata": {},
   "source": [
    "Some general statistics about the number of solved/aborted experiments, per phase. "
   ]
  },
  {
   "cell_type": "code",
   "execution_count": 455,
   "metadata": {
    "ExecuteTime": {
     "end_time": "2016-12-15T10:55:44.961826",
     "start_time": "2016-12-15T10:55:44.801746"
    },
    "collapsed": false
   },
   "outputs": [
    {
     "data": {
      "text/plain": [
       "Phase  status  \n",
       "I      optimal     294\n",
       "       aborted      42\n",
       "II     optimal     281\n",
       "O      aborted      14\n",
       "       optimal      14\n",
       "R      optimal      27\n",
       "       overfull      1\n",
       "Name: status, dtype: int64"
      ]
     },
     "execution_count": 455,
     "metadata": {},
     "output_type": "execute_result"
    }
   ],
   "source": [
    "df.reset_index().groupby(\"Phase\").status.value_counts()"
   ]
  },
  {
   "cell_type": "markdown",
   "metadata": {},
   "source": [
    "## Phase I"
   ]
  },
  {
   "cell_type": "markdown",
   "metadata": {},
   "source": [
    "### Graphics of solving time"
   ]
  },
  {
   "cell_type": "code",
   "execution_count": 748,
   "metadata": {
    "ExecuteTime": {
     "end_time": "2016-12-16T10:45:39.216981",
     "start_time": "2016-12-16T10:45:39.164286"
    },
    "collapsed": false
   },
   "outputs": [],
   "source": [
    "def time_plot(all_data, case, level, \n",
    "              ax=None, legend=True, title=True, plot_phase_II=True):\n",
    "    # Get the data for the given case and level\n",
    "    data = all_data.loc[(case, level, \"I\"), \n",
    "                        [\"seconds_to_create\", \"seconds_to_solve\", \"status\"]\n",
    "                       ].reset_index()   \n",
    "    if title:\n",
    "        title=\"{} {}\".format(case, level)\n",
    "    else:\n",
    "        title=\"\"\n",
    "    labels = [\"sec to create\", \"sec to solve\"]\n",
    "    ax = data.plot(x=\"max_bins\", y=\"seconds_to_create\",\n",
    "                   title=title, marker=\"o\", color=\"RoyalBlue\",\n",
    "                   ax=ax, legend=legend)\n",
    "    ax = data.plot(x=\"max_bins\", y=\"seconds_to_solve\",\n",
    "                  marker=\"s\", ls=\"solid\", color=\"DarkRed\",\n",
    "                  ax=ax, legend=legend)\n",
    "    \n",
    "    if plot_phase_II:\n",
    "        data2 = all_data.loc[(case, level, \"II\"), \n",
    "                [\"seconds_to_create\", \"seconds_to_solve\"]].reset_index()\n",
    "        data2.plot(x=\"max_bins\", y=[\"seconds_to_create\", \"seconds_to_solve\"], \n",
    "                         marker=\"s\", markersize=3, ax=ax, legend=legend)\n",
    "        labels = [x + \" I\" for x in labels]\n",
    "        labels+= [\"sec to create II\", \"sec to solve II\"]\n",
    "\n",
    "    aborted = data[data.status.str.contains(\"aborted\") |\n",
    "                   data.status.str.contains(\"error\")]\n",
    "    if len(aborted):\n",
    "        aborted.plot(ax=ax, x=\"max_bins\", y=[\"seconds_to_solve\"], \n",
    "                     linestyle=\"\", color=\"y\", \n",
    "                     marker = \"D\", markerfacecolor=\"white\",\n",
    "                     markeredgecolor=\"k\", \n",
    "                     markeredgewidth=0.5,\n",
    "                     legend=legend)\n",
    "        labels+=[\"aborted\"]\n",
    "        \n",
    "    ax.set_yscale(\"log\")\n",
    "    ax.set_xscale(\"log\")\n",
    "    requested_bins = [int(x) for x in data.max_bins.tolist()]\n",
    "    requested_bins = [5, 20, 80, 400, 1600, 8760]\n",
    "    ax.set_xticks(requested_bins)\n",
    "    ax.set_xticklabels(requested_bins[:-1] + [\"No bins\"], rotation='vertical')\n",
    "    ax.set_xlabel(\"Bins\")\n",
    "    ax.set_yticks([0.1, 1, 10, 60, 60*10, 60*60])\n",
    "    ax.set_yticklabels([\"0.1s\", \"1s\", \"10s\", \"1min\", \"10min\", \"1h\"])\n",
    "    ax.set_ylim(0,60*80)\n",
    "    ax.set_xlim(0,10000)\n",
    "    ax.spines[\"top\"].set_visible(False)\n",
    "    ax.spines[\"right\"].set_visible(False)\n",
    "    if legend:\n",
    "        L=ax.legend(labels=labels, loc=\"best\")\n",
    "    return ax"
   ]
  },
  {
   "cell_type": "markdown",
   "metadata": {},
   "source": [
    "This function allows us to plot the relationship between the value of `max_bins` and the time required to create and solve each problem, for any of the cases and load-levels. For exmple:"
   ]
  },
  {
   "cell_type": "code",
   "execution_count": 747,
   "metadata": {
    "ExecuteTime": {
     "end_time": "2016-12-16T10:45:20.931030",
     "start_time": "2016-12-16T10:45:20.435645"
    },
    "collapsed": false
   },
   "outputs": [
    {
     "data": {
      "image/png": "[encoded data removed]",
      "text/plain": [
       "<matplotlib.figure.Figure at 0x7f48f1cf82e8>"
      ]
     },
     "metadata": {},
     "output_type": "display_data"
    }
   ],
   "source": [
    "with matplotlib.style.context(notebook_style):\n",
    "    time_plot(df, \"Decreasing\", 3000000, plot_phase_II=False)\n",
    "    plt.gcf().set_size_inches((4,2))"
   ]
  },
  {
   "cell_type": "markdown",
   "metadata": {},
   "source": [
    "The following code plots a grid with all cases and levels. It is Fig. 9 in the paper"
   ]
  },
  {
   "cell_type": "code",
   "execution_count": 749,
   "metadata": {
    "ExecuteTime": {
     "end_time": "2016-12-16T10:48:19.949435",
     "start_time": "2016-12-16T10:48:03.925139"
    },
    "collapsed": false
   },
   "outputs": [
    {
     "data": {
      "image/png": "[encoded data removed]",
      "text/plain": [
       "<matplotlib.figure.Figure at 0x7f48f17a2240>"
      ]
     },
     "metadata": {},
     "output_type": "display_data"
    }
   ],
   "source": [
    "# Set the order of the rows in the grid of plots\n",
    "casetitles = [\"Static\", \"Periodic\", \"Increasing\", \"Decreasing\",\n",
    "              \"Unpredictable\", \"Once\", \"Everything\"]\n",
    "\n",
    "# Select the order of the columns in the grid of plots\n",
    "levels = [50000,100000,1000000,3000000]\n",
    "\n",
    "with matplotlib.style.context(paper_style):\n",
    "    # Create the subplots array\n",
    "    f, axarr = plt.subplots (len(casetitles), len(levels), sharex=True, \n",
    "                             sharey=True, figsize=(15,30))\n",
    "\n",
    "    # Plot each subplot\n",
    "    for i,case in enumerate(casetitles):\n",
    "        for j,level in enumerate(levels):\n",
    "            a = time_plot(df, case, level, \n",
    "                          ax=axarr[i,j], legend=False, title=False, \n",
    "                          plot_phase_II=False)\n",
    "            \n",
    "    # Set the size of the figure for the paper\n",
    "    f.set_size_inches(3.5,5)\n",
    "\n",
    "    # Create titles for rows and columns. Some case names are abridged\n",
    "    # to fit in the small space\n",
    "    for ax, casetitle in zip(axarr[:,0], \n",
    "            [\"Static\", \"Periodic\", \"Increas.\", \"Decreas.\", \n",
    "             \"Unpredict.\", \"Once\", \"Everything\"]):\n",
    "        ax.set_ylabel(casetitle, rotation=90)\n",
    "        \n",
    "    # For the column titles we use scientific notation to save space\n",
    "    for ax, level in zip(axarr[0,:], [\"5\\cdot10^4\", \n",
    "                                      \"10^5\", \n",
    "                                      \"10^6\", \n",
    "                                      \"3\\cdot10^6\" ]):\n",
    "        ax.set_title(\"Level ${}$\".format(level))\n",
    "\n",
    "    # Create a custom legend\n",
    "    patches, labels = axarr[-1,-1].get_legend_handles_labels()\n",
    "    f.legend(patches, labels=[\"creating\", \"solving\", \"aborted\"], \n",
    "             bbox_to_anchor=(0.5, 0.05), loc=\"center\",\n",
    "             markerscale=1.3,\n",
    "             ncol=3, shadow=False, fancybox=True, framealpha=0.8, \n",
    "             frameon=True)\n",
    "    f.subplots_adjust(bottom=0.2, left=0.15,right=0.95, top=0.95)\n",
    "    f.savefig(\"../reports/figures/fig-009-binning-analysis-time.pgf\", \n",
    "          bbox_inches = matplotlib.transforms.Bbox([[-0.05,0.05], [3.5, 5.1]]))"
   ]
  },
  {
   "cell_type": "markdown",
   "metadata": {},
   "source": [
    "## Phase II (Perfect Prediction)"
   ]
  },
  {
   "cell_type": "markdown",
   "metadata": {
    "collapsed": true
   },
   "source": [
    "### Overcost"
   ]
  },
  {
   "cell_type": "markdown",
   "metadata": {},
   "source": [
    "In the dataframe we have the total cost (in dollars) of each solution. In order to compare each solution which used binning with the optimal solution which used no binning, it is more relevant to compute the percentage of overcost. It is defined as:\n",
    "\n",
    "```\n",
    "overcost = 100*(cost_of_solution_with_binning - cost_of_solution_without_binning)/cost_of_solution_without_binning\n",
    "```\n",
    "\n",
    "However in some cases the solution without binning is not available because the solver was aborted due to the timeout. In those cases, instead of the optimal cost we use the lower bound of the optimal cost. This comparison is conservative, in the sense that the actual overcost would be smaller."
   ]
  },
  {
   "cell_type": "code",
   "execution_count": 476,
   "metadata": {
    "ExecuteTime": {
     "end_time": "2016-12-15T11:18:49.961014",
     "start_time": "2016-12-15T11:18:49.615717"
    },
    "collapsed": false
   },
   "outputs": [],
   "source": [
    "import itertools\n",
    "for case, level in itertools.product(df.index.levels[0], df.index.levels[1]):\n",
    "    # We get the optimal solution from phase I, for each case/level\n",
    "    optimal = df.loc[(case, level, \"I\"), \"cost\"].loc[8760]\n",
    "    # Compute the overcost, and add it as a new column in the dataframe\n",
    "    df.loc[pd.IndexSlice[case, level, \"I\":\"II\", :], \"% overcost\"] = (df.loc[\n",
    "                           pd.IndexSlice[case, level, \"I\":\"II\", :],\"cost\"]\n",
    "                                            -optimal)*100/optimal\n",
    "    # For the realization phase we compare against the oracle\n",
    "    oracle = df.loc[(case, level, \"O\"), \"cost\"].loc[8760]\n",
    "    df.loc[pd.IndexSlice[case, level, \"R\", :], \"% overcost\"] = (df.loc[\n",
    "                           pd.IndexSlice[case, level, \"R\", :],\"cost\"]\n",
    "                                            -oracle)*100/oracle"
   ]
  },
  {
   "cell_type": "markdown",
   "metadata": {},
   "source": [
    "The overcost is computed for both phases I, II and R, but in phase I it does not have much sense. Using binning, the solution in phase I is not optimal, and thus the overcost can be large. However, phase II will refine the result by recomputing the optimal number of ondemand instances with the actual workload, without binning, and this will reduce the overcost. So we will study only the overcost for phase II (both in \"II\" and \"R\" cases)"
   ]
  },
  {
   "cell_type": "code",
   "execution_count": 485,
   "metadata": {
    "ExecuteTime": {
     "end_time": "2016-12-15T11:21:26.774975",
     "start_time": "2016-12-15T11:21:26.754171"
    },
    "collapsed": false
   },
   "outputs": [
    {
     "data": {
      "text/html": [
       "<div>\n",
       "<table border=\"1\" class=\"dataframe\">\n",
       "  <thead>\n",
       "    <tr style=\"text-align: right;\">\n",
       "      <th></th>\n",
       "      <th></th>\n",
       "      <th></th>\n",
       "      <th></th>\n",
       "      <th>cost</th>\n",
       "      <th>seconds_to_solve</th>\n",
       "      <th>seconds_to_create</th>\n",
       "      <th>frac_gap</th>\n",
       "      <th>max_seconds</th>\n",
       "      <th>status</th>\n",
       "      <th>% overcost</th>\n",
       "    </tr>\n",
       "    <tr>\n",
       "      <th>Case</th>\n",
       "      <th>Base level</th>\n",
       "      <th>Phase</th>\n",
       "      <th>max_bins</th>\n",
       "      <th></th>\n",
       "      <th></th>\n",
       "      <th></th>\n",
       "      <th></th>\n",
       "      <th></th>\n",
       "      <th></th>\n",
       "      <th></th>\n",
       "    </tr>\n",
       "  </thead>\n",
       "  <tbody>\n",
       "    <tr>\n",
       "      <th rowspan=\"5\" valign=\"top\">Decreasing</th>\n",
       "      <th rowspan=\"5\" valign=\"top\">50000</th>\n",
       "      <th rowspan=\"5\" valign=\"top\">II</th>\n",
       "      <th>5</th>\n",
       "      <td>1626.268</td>\n",
       "      <td>0.151164</td>\n",
       "      <td>0.007354</td>\n",
       "      <td>None</td>\n",
       "      <td>600.0</td>\n",
       "      <td>optimal</td>\n",
       "      <td>5.905092e+00</td>\n",
       "    </tr>\n",
       "    <tr>\n",
       "      <th>10</th>\n",
       "      <td>1535.590</td>\n",
       "      <td>151.136600</td>\n",
       "      <td>11.808506</td>\n",
       "      <td>None</td>\n",
       "      <td>600.0</td>\n",
       "      <td>optimal</td>\n",
       "      <td>3.287138e-12</td>\n",
       "    </tr>\n",
       "    <tr>\n",
       "      <th>20</th>\n",
       "      <td>1535.590</td>\n",
       "      <td>168.320099</td>\n",
       "      <td>12.977067</td>\n",
       "      <td>None</td>\n",
       "      <td>600.0</td>\n",
       "      <td>optimal</td>\n",
       "      <td>3.287138e-12</td>\n",
       "    </tr>\n",
       "    <tr>\n",
       "      <th>40</th>\n",
       "      <td>1535.590</td>\n",
       "      <td>170.825480</td>\n",
       "      <td>12.589924</td>\n",
       "      <td>None</td>\n",
       "      <td>600.0</td>\n",
       "      <td>optimal</td>\n",
       "      <td>3.287138e-12</td>\n",
       "    </tr>\n",
       "    <tr>\n",
       "      <th>80</th>\n",
       "      <td>1535.590</td>\n",
       "      <td>162.678686</td>\n",
       "      <td>12.354026</td>\n",
       "      <td>None</td>\n",
       "      <td>600.0</td>\n",
       "      <td>optimal</td>\n",
       "      <td>3.287138e-12</td>\n",
       "    </tr>\n",
       "  </tbody>\n",
       "</table>\n",
       "</div>"
      ],
      "text/plain": [
       "                                          cost  seconds_to_solve  \\\n",
       "Case       Base level Phase max_bins                               \n",
       "Decreasing 50000      II    5         1626.268          0.151164   \n",
       "                            10        1535.590        151.136600   \n",
       "                            20        1535.590        168.320099   \n",
       "                            40        1535.590        170.825480   \n",
       "                            80        1535.590        162.678686   \n",
       "\n",
       "                                      seconds_to_create frac_gap  max_seconds  \\\n",
       "Case       Base level Phase max_bins                                            \n",
       "Decreasing 50000      II    5                  0.007354     None        600.0   \n",
       "                            10                11.808506     None        600.0   \n",
       "                            20                12.977067     None        600.0   \n",
       "                            40                12.589924     None        600.0   \n",
       "                            80                12.354026     None        600.0   \n",
       "\n",
       "                                       status    % overcost  \n",
       "Case       Base level Phase max_bins                         \n",
       "Decreasing 50000      II    5         optimal  5.905092e+00  \n",
       "                            10        optimal  3.287138e-12  \n",
       "                            20        optimal  3.287138e-12  \n",
       "                            40        optimal  3.287138e-12  \n",
       "                            80        optimal  3.287138e-12  "
      ]
     },
     "execution_count": 485,
     "metadata": {},
     "output_type": "execute_result"
    }
   ],
   "source": [
    "df.query(\"Phase=='II'\").head()"
   ]
  },
  {
   "cell_type": "markdown",
   "metadata": {},
   "source": [
    "### Graphics of overcost"
   ]
  },
  {
   "cell_type": "code",
   "execution_count": 497,
   "metadata": {
    "ExecuteTime": {
     "end_time": "2016-12-15T11:26:22.457386",
     "start_time": "2016-12-15T11:26:22.414050"
    },
    "collapsed": true
   },
   "outputs": [],
   "source": [
    "def plot_cost(all_data, case, level, ax = None,\n",
    "              plot_phase_I = False, legend=True):  \n",
    "    phase1 = all_data.loc[(case, level, \"I\"), :].reset_index()\n",
    "    phase2 = all_data.loc[(case, level, \"II\"), :].reset_index()\n",
    "    optimal_status = phase1.status.iloc[-1]\n",
    "    if optimal_status==\"aborted\":\n",
    "        label=\"% resp. best lower bound\"\n",
    "        style1 = dict(color=\"orange\", ls=\"solid\",\n",
    "                     # dashes=(1,1),\n",
    "                     marker=\"o\", markerfacecolor=\"white\",\n",
    "                     markeredgecolor=\"k\", \n",
    "                     markeredgewidth=0.5,\n",
    "                     markersize=2.5,\n",
    "                     label=label)\n",
    "        style2 = style1.copy()\n",
    "        style2.update(dict(color=\"red\", marker=\"s\"))\n",
    "    elif optimal_status == \"optimal\":\n",
    "        label = \"% resp. optimal\"\n",
    "        style1 = dict(color=\"blue\", ls=\"solid\",\n",
    "                     marker=\"o\",\n",
    "                     label=label)\n",
    "        style2 = style1.copy()\n",
    "        style2.update(dict(color=\"green\", marker=\"o\"))\n",
    "    else:\n",
    "        style1 = dict(color=\"orange\", ls=\"solid\",\n",
    "                     marker=\"D\",\n",
    "                     label=\"% unknown\")\n",
    "        style2 = style1.copy().update(dict(color=\"red\", marker=\"d\"))\n",
    "        \n",
    "    labels = []\n",
    "    if plot_phase_I:\n",
    "        ax = phase1.plot(x=\"max_bins\", y=\"% overcost\", \n",
    "                         **style1, #marker=marker1,  label=\"% overcost I\", color=color1, ls=ls, dashes=dashes,\n",
    "                         ax=ax, legend=legend)\n",
    "        labels.append(\"% overcost I\")\n",
    "        \n",
    "    phase2.plot(x=\"max_bins\", y=\"% overcost\",\n",
    "                **style2, # marker=marker2,  label=label, color=color2, ls=ls, dashes=dashes,\n",
    "                ax=ax, legend=legend)\n",
    "    labels.append(label)\n",
    "    \n",
    "    requested_bins = [int(x) for x in phase1.max_bins.tolist()]\n",
    "    requested_bins = [5, 20, 80, 400, 1600, 8760]\n",
    "    if ax==None:\n",
    "        ax=plt.gca()\n",
    "\n",
    "    ax.set_xscale(\"log\")\n",
    "    ax.set_xticks(requested_bins)\n",
    "    ax.set_xlabel(\"Bins\")\n",
    "    if legend: \n",
    "        ax.legend(labels=labels, loc='upper right')\n",
    "    ax.set_xticklabels(requested_bins[:-1] + [\"No bins\"], rotation='vertical')\n",
    "    return ax"
   ]
  },
  {
   "cell_type": "markdown",
   "metadata": {},
   "source": [
    "This function allows us to plot the relationship between the value of `max_bins` and the overcost of the solution with respect the optimal (or its lower bound), for any of the cases and load-levels. The graph is depicted in blue if the overcost is with respect the optimal, or in red if it is with respect to the best lower bound"
   ]
  },
  {
   "cell_type": "code",
   "execution_count": 750,
   "metadata": {
    "ExecuteTime": {
     "end_time": "2016-12-16T10:48:31.934406",
     "start_time": "2016-12-16T10:48:31.626874"
    },
    "collapsed": false
   },
   "outputs": [
    {
     "data": {
      "image/png": "[encoded data removed]",
      "text/plain": [
       "<matplotlib.figure.Figure at 0x7f48e80c8860>"
      ]
     },
     "metadata": {},
     "output_type": "display_data"
    }
   ],
   "source": [
    "with matplotlib.style.context(paper_style):\n",
    "    ax = plot_cost(df, \"Periodic\", 1000000, plot_phase_I=False)"
   ]
  },
  {
   "cell_type": "code",
   "execution_count": 751,
   "metadata": {
    "ExecuteTime": {
     "end_time": "2016-12-16T10:48:35.390406",
     "start_time": "2016-12-16T10:48:35.062539"
    },
    "collapsed": false
   },
   "outputs": [
    {
     "data": {
      "image/png": "[encoded data removed]",
      "text/plain": [
       "<matplotlib.figure.Figure at 0x7f48e845ec18>"
      ]
     },
     "metadata": {},
     "output_type": "display_data"
    }
   ],
   "source": [
    "with matplotlib.style.context(paper_style):\n",
    "    ax = plot_cost(df, \"Periodic\", 3000000, plot_phase_I=False)"
   ]
  },
  {
   "cell_type": "markdown",
   "metadata": {},
   "source": [
    "As it can be seen in the above plot, the graph can be incomplete. In the example above there is no points for `max_bins` above 200. This happens when the solution of Phase I is not available for that number of bins, because of the timeout which aborted the solver. In such a case phase II cannot be performed (because Phase II needs as input the allocation found in phase I)"
   ]
  },
  {
   "cell_type": "code",
   "execution_count": 752,
   "metadata": {
    "ExecuteTime": {
     "end_time": "2016-12-16T10:51:06.679477",
     "start_time": "2016-12-16T10:50:57.907841"
    },
    "collapsed": false,
    "hide_input": false,
    "scrolled": false
   },
   "outputs": [
    {
     "data": {
      "image/png": "[encoded data removed]",
      "text/plain": [
       "<matplotlib.figure.Figure at 0x7f48e84a2710>"
      ]
     },
     "metadata": {},
     "output_type": "display_data"
    }
   ],
   "source": [
    "# Set a given ordering of the rows\n",
    "casetitles = [\"Static\", \"Periodic\", \"Increasing\", \"Decreasing\",\n",
    "              \"Unpredictable\", \"Once\", \"Everything\"]\n",
    "levels = [5,10,100,300]\n",
    "\n",
    "with matplotlib.style.context(paper_style):\n",
    "    # Array of subplots\n",
    "    f, axarr = plt.subplots (len(casetitles), len(levels), \n",
    "                             sharex=True, sharey=True, figsize=(15,30))\n",
    "\n",
    "    for i,case in enumerate(casetitles):\n",
    "        for j,level in enumerate(levels):\n",
    "            plot_cost(df, case, level*10000, ax=axarr[i,j],\n",
    "                          plot_phase_I = False, legend=False)\n",
    "\n",
    "    f.set_size_inches(3.5,5)\n",
    "\n",
    "    # Rows and columns titles (abridge some to fit in the available space)\n",
    "    for ax, casetitle in zip(axarr[:,0], \n",
    "            [\"Static\", \"Periodic\", \"Increas.\", \"Decreas.\", \n",
    "             \"Unpredict.\", \"Once\", \"Everything\"]\n",
    "            ):\n",
    "        ax.set_ylabel(casetitle, rotation=90)\n",
    "        ax.set_ylim([-0.5,10])\n",
    "    \n",
    "    for ax, level in zip(axarr[0,:], [\"5\\cdot10^4\", \"10^5\", \"10^6\", \n",
    "                                      \"3\\cdot10^6\" ]):\n",
    "        ax.set_title(\"Level ${}$\".format(level))\n",
    "        ax.set_xlim(0,8760)\n",
    "    patches0, labels = axarr[0,0].get_legend_handles_labels()\n",
    "    patches1, labels = axarr[-1,-1].get_legend_handles_labels()\n",
    "    patches = patches0 + patches1\n",
    "    f.legend(patches, labels=[\"% resp. optimal\", \"% resp. best lower bound\"], \n",
    "             bbox_to_anchor=(0.5, 0.05), loc=\"center\",\n",
    "             markerscale=1.3,\n",
    "             ncol=2, shadow=False, fancybox=True, framealpha=1, \n",
    "             frameon=True)\n",
    "    f.subplots_adjust(bottom=0.2, left=0.15,right=0.95, top=0.95)\n",
    "    f.savefig(\"../reports/figures/fig-010-binning-analysis-error.pgf\",\n",
    "        bbox_inches = matplotlib.transforms.Bbox([[-0.05,0.05], [3.5, 5.1]]))"
   ]
  },
  {
   "cell_type": "markdown",
   "metadata": {},
   "source": [
    "## Phase II (imperfect prediction)"
   ]
  },
  {
   "cell_type": "code",
   "execution_count": 778,
   "metadata": {
    "ExecuteTime": {
     "end_time": "2016-12-16T11:43:29.647418",
     "start_time": "2016-12-16T11:43:29.628504"
    },
    "collapsed": false
   },
   "outputs": [],
   "source": [
    "agg_data = (df.loc[pd.IndexSlice[     # Seleccionar qué procesa:\n",
    "                          :,          # Todos los Cases\n",
    "                          :,     # Niveles de 50000 en adelante\n",
    "                          \"R\",          # Fase 3 (realization)\n",
    "                          20],]       # bins = 20\n",
    "                       .reset_index() # Convertir multi-index en columnas\n",
    "        .pivot_table(values=\"% overcost\", \n",
    "                     index=[\"Case\"], \n",
    "                     columns=[\"Base level\"], \n",
    "                     aggfunc=np.max)\n",
    "        )\n",
    "\n",
    "# Select order of cases\n",
    "cases = [\"Static\", \"Periodic\", \n",
    "         \"Decreasing\", \"Increasing\", \"Once\",\n",
    "        \"Everything\", \"Unpredictable\"]\n",
    "agg_data = agg_data.T[cases].T # Reorder rows"
   ]
  },
  {
   "cell_type": "code",
   "execution_count": 780,
   "metadata": {
    "ExecuteTime": {
     "end_time": "2016-12-16T11:43:43.433683",
     "start_time": "2016-12-16T11:43:43.423692"
    },
    "collapsed": false
   },
   "outputs": [
    {
     "data": {
      "text/html": [
       "<div>\n",
       "<table border=\"1\" class=\"dataframe\">\n",
       "  <thead>\n",
       "    <tr style=\"text-align: right;\">\n",
       "      <th>Base level</th>\n",
       "      <th>50000</th>\n",
       "      <th>100000</th>\n",
       "      <th>1000000</th>\n",
       "      <th>3000000</th>\n",
       "    </tr>\n",
       "    <tr>\n",
       "      <th>Case</th>\n",
       "      <th></th>\n",
       "      <th></th>\n",
       "      <th></th>\n",
       "      <th></th>\n",
       "    </tr>\n",
       "  </thead>\n",
       "  <tbody>\n",
       "    <tr>\n",
       "      <th>Static</th>\n",
       "      <td>0.00%</td>\n",
       "      <td>0.00%</td>\n",
       "      <td>0.14%</td>\n",
       "      <td>0.24%</td>\n",
       "    </tr>\n",
       "    <tr>\n",
       "      <th>Periodic</th>\n",
       "      <td>0.00%</td>\n",
       "      <td>0.00%</td>\n",
       "      <td>0.04%</td>\n",
       "      <td>0.20%</td>\n",
       "    </tr>\n",
       "    <tr>\n",
       "      <th>Decreasing</th>\n",
       "      <td>0.00%</td>\n",
       "      <td>0.10%</td>\n",
       "      <td>0.13%</td>\n",
       "      <td>0.04%</td>\n",
       "    </tr>\n",
       "    <tr>\n",
       "      <th>Increasing</th>\n",
       "      <td>0.04%</td>\n",
       "      <td>0.03%</td>\n",
       "      <td>0.21%</td>\n",
       "      <td>1.07%</td>\n",
       "    </tr>\n",
       "    <tr>\n",
       "      <th>Once</th>\n",
       "      <td>0.00%</td>\n",
       "      <td>0.00%</td>\n",
       "      <td>1.73%</td>\n",
       "      <td>0.00%</td>\n",
       "    </tr>\n",
       "    <tr>\n",
       "      <th>Everything</th>\n",
       "      <td>0.00%</td>\n",
       "      <td>0.13%</td>\n",
       "      <td>0.40%</td>\n",
       "      <td>-27.15%</td>\n",
       "    </tr>\n",
       "    <tr>\n",
       "      <th>Unpredictable</th>\n",
       "      <td>11.67%</td>\n",
       "      <td>44.80%</td>\n",
       "      <td>63.94%</td>\n",
       "      <td>114.21%</td>\n",
       "    </tr>\n",
       "  </tbody>\n",
       "</table>\n",
       "</div>"
      ],
      "text/plain": [
       "Base level     50000    100000   1000000  3000000\n",
       "Case                                             \n",
       "Static           0.00%    0.00%    0.14%    0.24%\n",
       "Periodic         0.00%    0.00%    0.04%    0.20%\n",
       "Decreasing       0.00%    0.10%    0.13%    0.04%\n",
       "Increasing       0.04%    0.03%    0.21%    1.07%\n",
       "Once             0.00%    0.00%    1.73%    0.00%\n",
       "Everything       0.00%    0.13%    0.40%  -27.15%\n",
       "Unpredictable   11.67%   44.80%   63.94%  114.21%"
      ]
     },
     "execution_count": 780,
     "metadata": {},
     "output_type": "execute_result"
    }
   ],
   "source": [
    "agg_data"
   ]
  },
  {
   "cell_type": "code",
   "execution_count": 779,
   "metadata": {
    "ExecuteTime": {
     "end_time": "2016-12-16T11:43:32.248657",
     "start_time": "2016-12-16T11:43:32.229606"
    },
    "collapsed": false
   },
   "outputs": [
    {
     "name": "stdout",
     "output_type": "stream",
     "text": [
      "\\begin{tabular}{lllrl}\n",
      "\\toprule\n",
      "Base level & 50000   & 100000  &  1000000 & 3000000 \\\\\n",
      "Case          &         &         &          &         \\\\\n",
      "\\midrule\n",
      "Static        &      0\\% &      0\\% &    0.14\\% &   0.24\\% \\\\\n",
      "Periodic      &      0\\% &      0\\% &    0.04\\% &   0.20\\% \\\\\n",
      "Decreasing    &      0\\% &   0.10\\% &    0.13\\% &   0.04\\% \\\\\n",
      "Increasing    &   0.04\\% &   0.03\\% &    0.21\\% &   1.07\\% \\\\\n",
      "Once          &      0\\% &      0\\% &    1.73\\% &      0\\% \\\\\n",
      "Everything    &      0\\% &   0.13\\% &    0.40\\% & -27.15\\% \\\\\n",
      "Unpredictable &  11.67\\% &  44.80\\% &   63.94\\% & 114.21\\% \\\\\n",
      "\\bottomrule\n",
      "\\end{tabular}\n",
      "\n"
     ]
    },
    {
     "ename": "NameError",
     "evalue": "name 'display' is not defined",
     "output_type": "error",
     "traceback": [
      "\u001b[0;31m---------------------------------------------------------------------------\u001b[0m",
      "\u001b[0;31mNameError\u001b[0m                                 Traceback (most recent call last)",
      "\u001b[0;32m<ipython-input-779-b9f72b81c935>\u001b[0m in \u001b[0;36m<module>\u001b[0;34m()\u001b[0m\n\u001b[1;32m      8\u001b[0m \u001b[0mpd\u001b[0m\u001b[0;34m.\u001b[0m\u001b[0moptions\u001b[0m\u001b[0;34m.\u001b[0m\u001b[0mdisplay\u001b[0m\u001b[0;34m.\u001b[0m\u001b[0mfloat_format\u001b[0m \u001b[0;34m=\u001b[0m \u001b[0;34m\"{:5.2f}%\"\u001b[0m\u001b[0;34m.\u001b[0m\u001b[0mformat\u001b[0m\u001b[0;34m\u001b[0m\u001b[0m\n\u001b[1;32m      9\u001b[0m \u001b[0mprint\u001b[0m\u001b[0;34m(\u001b[0m\u001b[0ma\u001b[0m\u001b[0;34m.\u001b[0m\u001b[0mto_latex\u001b[0m\u001b[0;34m(\u001b[0m\u001b[0;34m)\u001b[0m\u001b[0;34m)\u001b[0m\u001b[0;34m\u001b[0m\u001b[0m\n\u001b[0;32m---> 10\u001b[0;31m \u001b[0mdisplay\u001b[0m\u001b[0;34m.\u001b[0m\u001b[0mdisplay\u001b[0m\u001b[0;34m(\u001b[0m\u001b[0ma\u001b[0m\u001b[0;34m)\u001b[0m\u001b[0;34m\u001b[0m\u001b[0m\n\u001b[0m\u001b[1;32m     11\u001b[0m \u001b[0mpd\u001b[0m\u001b[0;34m.\u001b[0m\u001b[0moptions\u001b[0m\u001b[0;34m.\u001b[0m\u001b[0mdisplay\u001b[0m\u001b[0;34m.\u001b[0m\u001b[0mfloat_format\u001b[0m \u001b[0;34m=\u001b[0m \u001b[0;32mNone\u001b[0m\u001b[0;34m\u001b[0m\u001b[0m\n",
      "\u001b[0;31mNameError\u001b[0m: name 'display' is not defined"
     ]
    }
   ],
   "source": [
    "# Get the same data in tabular form\n",
    "a=agg_data.copy()\n",
    "# Replace by 0 values close enough\n",
    "a[np.abs(a)< 1e-10] = 0\n",
    "a[a==0]=\"0%\"      # Replace those 0 by string \"0%\"\n",
    "\n",
    "# Format all float numbers as percentages, two decimals\n",
    "pd.options.display.float_format = \"{:5.2f}%\".format\n",
    "print(a.to_latex())\n",
    "pd.options.display.float_format = None"
   ]
  },
  {
   "cell_type": "code",
   "execution_count": null,
   "metadata": {
    "collapsed": true
   },
   "outputs": [],
   "source": []
  },
  {
   "cell_type": "code",
   "execution_count": null,
   "metadata": {
    "collapsed": true
   },
   "outputs": [],
   "source": []
  },
  {
   "cell_type": "code",
   "execution_count": null,
   "metadata": {
    "collapsed": true
   },
   "outputs": [],
   "source": []
  },
  {
   "cell_type": "code",
   "execution_count": null,
   "metadata": {
    "collapsed": true
   },
   "outputs": [],
   "source": []
  },
  {
   "cell_type": "markdown",
   "metadata": {},
   "source": [
    "# Real traces: Wikipedia"
   ]
  },
  {
   "cell_type": "markdown",
   "metadata": {},
   "source": [
    "## General description"
   ]
  },
  {
   "cell_type": "markdown",
   "metadata": {},
   "source": [
    "This section performs three different experiments. \n",
    "\n",
    "The first one is equivalent to the one performed with synthetic workloads, but in this case actual Wikipedia traces are used as characterization of the workload. We analyize the influence of binning over the time required to solve the problem and over the cost of the solution.\n",
    "\n",
    "The second one analyzes the influence of the predictor in the cost of the solution.\n",
    "\n",
    "The third one tests Lloovia in a multi-cloud environment, introducing Azure as a new provider. Azure does not provides reserved instances, and uses a different kind of limits, based on number of cores instead of number or types of VMs."
   ]
  },
  {
   "cell_type": "markdown",
   "metadata": {},
   "source": [
    "### Read the final solutions"
   ]
  },
  {
   "cell_type": "markdown",
   "metadata": {},
   "source": [
    "The results of the first and second experiments are stored in a single dataframe:"
   ]
  },
  {
   "cell_type": "code",
   "execution_count": 628,
   "metadata": {
    "ExecuteTime": {
     "end_time": "2016-12-16T09:37:47.743538",
     "start_time": "2016-12-16T09:37:47.738106"
    },
    "collapsed": false
   },
   "outputs": [],
   "source": [
    "wikidata = pd.read_pickle(\"../data/processed/all_wikipedia_results.pickle\")\n",
    "wikidata.index = wikidata.index.rename(\"Year\", level=1)"
   ]
  },
  {
   "cell_type": "code",
   "execution_count": 629,
   "metadata": {
    "ExecuteTime": {
     "end_time": "2016-12-16T09:37:48.562333",
     "start_time": "2016-12-16T09:37:48.537049"
    },
    "collapsed": false
   },
   "outputs": [
    {
     "data": {
      "text/html": [
       "<div>\n",
       "<table border=\"1\" class=\"dataframe\">\n",
       "  <thead>\n",
       "    <tr style=\"text-align: right;\">\n",
       "      <th></th>\n",
       "      <th></th>\n",
       "      <th></th>\n",
       "      <th></th>\n",
       "      <th>cost</th>\n",
       "      <th>seconds_to_solve</th>\n",
       "      <th>seconds_to_create</th>\n",
       "      <th>frac_gap</th>\n",
       "      <th>max_seconds</th>\n",
       "      <th>status</th>\n",
       "    </tr>\n",
       "    <tr>\n",
       "      <th>Case</th>\n",
       "      <th>Year</th>\n",
       "      <th>Phase</th>\n",
       "      <th>max_bins</th>\n",
       "      <th></th>\n",
       "      <th></th>\n",
       "      <th></th>\n",
       "      <th></th>\n",
       "      <th></th>\n",
       "      <th></th>\n",
       "    </tr>\n",
       "  </thead>\n",
       "  <tbody>\n",
       "    <tr>\n",
       "      <th rowspan=\"29\" valign=\"top\">Wikipedia</th>\n",
       "      <th rowspan=\"3\" valign=\"top\">2013</th>\n",
       "      <th>Naive</th>\n",
       "      <th>40</th>\n",
       "      <td>423324.968397</td>\n",
       "      <td>463.076503</td>\n",
       "      <td>42.315943</td>\n",
       "      <td>None</td>\n",
       "      <td>600</td>\n",
       "      <td>optimal</td>\n",
       "    </tr>\n",
       "    <tr>\n",
       "      <th>No predictor</th>\n",
       "      <th>40</th>\n",
       "      <td>716580.395000</td>\n",
       "      <td>769.975037</td>\n",
       "      <td>60.571068</td>\n",
       "      <td>None</td>\n",
       "      <td>3600</td>\n",
       "      <td>optimal</td>\n",
       "    </tr>\n",
       "    <tr>\n",
       "      <th>Oracle</th>\n",
       "      <th>8760</th>\n",
       "      <td>418067.586000</td>\n",
       "      <td>3099.316790</td>\n",
       "      <td>423.409144</td>\n",
       "      <td>None</td>\n",
       "      <td>3600</td>\n",
       "      <td>aborted</td>\n",
       "    </tr>\n",
       "    <tr>\n",
       "      <th rowspan=\"26\" valign=\"top\">2014</th>\n",
       "      <th rowspan=\"12\" valign=\"top\">I</th>\n",
       "      <th>5</th>\n",
       "      <td>382761.194740</td>\n",
       "      <td>0.056756</td>\n",
       "      <td>0.063750</td>\n",
       "      <td>0.001</td>\n",
       "      <td>3600</td>\n",
       "      <td>optimal</td>\n",
       "    </tr>\n",
       "    <tr>\n",
       "      <th>10</th>\n",
       "      <td>348740.528288</td>\n",
       "      <td>0.095461</td>\n",
       "      <td>0.144919</td>\n",
       "      <td>0.001</td>\n",
       "      <td>3600</td>\n",
       "      <td>optimal</td>\n",
       "    </tr>\n",
       "    <tr>\n",
       "      <th>20</th>\n",
       "      <td>333247.657055</td>\n",
       "      <td>0.181637</td>\n",
       "      <td>0.224688</td>\n",
       "      <td>0.001</td>\n",
       "      <td>3600</td>\n",
       "      <td>optimal</td>\n",
       "    </tr>\n",
       "    <tr>\n",
       "      <th>40</th>\n",
       "      <td>325311.364055</td>\n",
       "      <td>0.288104</td>\n",
       "      <td>0.401688</td>\n",
       "      <td>0.001</td>\n",
       "      <td>3600</td>\n",
       "      <td>optimal</td>\n",
       "    </tr>\n",
       "    <tr>\n",
       "      <th>80</th>\n",
       "      <td>321773.266205</td>\n",
       "      <td>0.477066</td>\n",
       "      <td>0.635918</td>\n",
       "      <td>0.001</td>\n",
       "      <td>3600</td>\n",
       "      <td>optimal</td>\n",
       "    </tr>\n",
       "    <tr>\n",
       "      <th>200</th>\n",
       "      <td>319434.620205</td>\n",
       "      <td>1.179688</td>\n",
       "      <td>1.481575</td>\n",
       "      <td>0.001</td>\n",
       "      <td>3600</td>\n",
       "      <td>optimal</td>\n",
       "    </tr>\n",
       "    <tr>\n",
       "      <th>400</th>\n",
       "      <td>318581.427219</td>\n",
       "      <td>4.898393</td>\n",
       "      <td>2.897418</td>\n",
       "      <td>0.001</td>\n",
       "      <td>3600</td>\n",
       "      <td>optimal</td>\n",
       "    </tr>\n",
       "    <tr>\n",
       "      <th>800</th>\n",
       "      <td>318168.836247</td>\n",
       "      <td>9.086538</td>\n",
       "      <td>5.648974</td>\n",
       "      <td>0.001</td>\n",
       "      <td>3600</td>\n",
       "      <td>optimal</td>\n",
       "    </tr>\n",
       "    <tr>\n",
       "      <th>1500</th>\n",
       "      <td>318010.671247</td>\n",
       "      <td>26.061860</td>\n",
       "      <td>10.016334</td>\n",
       "      <td>0.001</td>\n",
       "      <td>3600</td>\n",
       "      <td>optimal</td>\n",
       "    </tr>\n",
       "    <tr>\n",
       "      <th>3000</th>\n",
       "      <td>317909.194233</td>\n",
       "      <td>54.694270</td>\n",
       "      <td>20.832419</td>\n",
       "      <td>0.001</td>\n",
       "      <td>3600</td>\n",
       "      <td>optimal</td>\n",
       "    </tr>\n",
       "    <tr>\n",
       "      <th>6000</th>\n",
       "      <td>317859.223247</td>\n",
       "      <td>131.823503</td>\n",
       "      <td>43.467211</td>\n",
       "      <td>0.001</td>\n",
       "      <td>3600</td>\n",
       "      <td>optimal</td>\n",
       "    </tr>\n",
       "    <tr>\n",
       "      <th>8760</th>\n",
       "      <td>317770.453000</td>\n",
       "      <td>2722.267405</td>\n",
       "      <td>419.893840</td>\n",
       "      <td>NaN</td>\n",
       "      <td>3600</td>\n",
       "      <td>aborted</td>\n",
       "    </tr>\n",
       "    <tr>\n",
       "      <th rowspan=\"11\" valign=\"top\">II</th>\n",
       "      <th>5</th>\n",
       "      <td>367977.579740</td>\n",
       "      <td>15.258671</td>\n",
       "      <td>4.788416</td>\n",
       "      <td>None</td>\n",
       "      <td>600</td>\n",
       "      <td>optimal</td>\n",
       "    </tr>\n",
       "    <tr>\n",
       "      <th>10</th>\n",
       "      <td>326595.326288</td>\n",
       "      <td>84.908124</td>\n",
       "      <td>19.860265</td>\n",
       "      <td>None</td>\n",
       "      <td>600</td>\n",
       "      <td>optimal</td>\n",
       "    </tr>\n",
       "    <tr>\n",
       "      <th>20</th>\n",
       "      <td>318227.526055</td>\n",
       "      <td>136.788315</td>\n",
       "      <td>29.596736</td>\n",
       "      <td>None</td>\n",
       "      <td>600</td>\n",
       "      <td>optimal</td>\n",
       "    </tr>\n",
       "    <tr>\n",
       "      <th>40</th>\n",
       "      <td>318227.526055</td>\n",
       "      <td>140.805171</td>\n",
       "      <td>29.661657</td>\n",
       "      <td>None</td>\n",
       "      <td>600</td>\n",
       "      <td>optimal</td>\n",
       "    </tr>\n",
       "    <tr>\n",
       "      <th>80</th>\n",
       "      <td>317808.032205</td>\n",
       "      <td>167.557548</td>\n",
       "      <td>32.348132</td>\n",
       "      <td>None</td>\n",
       "      <td>600</td>\n",
       "      <td>optimal</td>\n",
       "    </tr>\n",
       "    <tr>\n",
       "      <th>200</th>\n",
       "      <td>317808.032205</td>\n",
       "      <td>161.571079</td>\n",
       "      <td>32.514733</td>\n",
       "      <td>None</td>\n",
       "      <td>600</td>\n",
       "      <td>optimal</td>\n",
       "    </tr>\n",
       "    <tr>\n",
       "      <th>400</th>\n",
       "      <td>317792.898219</td>\n",
       "      <td>158.948055</td>\n",
       "      <td>32.712889</td>\n",
       "      <td>None</td>\n",
       "      <td>600</td>\n",
       "      <td>optimal</td>\n",
       "    </tr>\n",
       "    <tr>\n",
       "      <th>800</th>\n",
       "      <td>317778.582247</td>\n",
       "      <td>193.093450</td>\n",
       "      <td>34.027881</td>\n",
       "      <td>None</td>\n",
       "      <td>600</td>\n",
       "      <td>optimal</td>\n",
       "    </tr>\n",
       "    <tr>\n",
       "      <th>1500</th>\n",
       "      <td>317778.582247</td>\n",
       "      <td>185.194589</td>\n",
       "      <td>34.074433</td>\n",
       "      <td>None</td>\n",
       "      <td>600</td>\n",
       "      <td>optimal</td>\n",
       "    </tr>\n",
       "    <tr>\n",
       "      <th>3000</th>\n",
       "      <td>317783.624233</td>\n",
       "      <td>162.419075</td>\n",
       "      <td>33.660497</td>\n",
       "      <td>None</td>\n",
       "      <td>600</td>\n",
       "      <td>optimal</td>\n",
       "    </tr>\n",
       "    <tr>\n",
       "      <th>6000</th>\n",
       "      <td>317778.582247</td>\n",
       "      <td>165.774775</td>\n",
       "      <td>33.466311</td>\n",
       "      <td>None</td>\n",
       "      <td>600</td>\n",
       "      <td>optimal</td>\n",
       "    </tr>\n",
       "    <tr>\n",
       "      <th>Naive</th>\n",
       "      <th>40</th>\n",
       "      <td>363389.275877</td>\n",
       "      <td>18.046500</td>\n",
       "      <td>5.523205</td>\n",
       "      <td>None</td>\n",
       "      <td>600</td>\n",
       "      <td>optimal</td>\n",
       "    </tr>\n",
       "    <tr>\n",
       "      <th>No predictor</th>\n",
       "      <th>40</th>\n",
       "      <td>542704.171000</td>\n",
       "      <td>1235.061124</td>\n",
       "      <td>59.611701</td>\n",
       "      <td>None</td>\n",
       "      <td>3600</td>\n",
       "      <td>optimal</td>\n",
       "    </tr>\n",
       "    <tr>\n",
       "      <th>Oracle</th>\n",
       "      <th>8760</th>\n",
       "      <td>317770.453000</td>\n",
       "      <td>2512.841090</td>\n",
       "      <td>422.487893</td>\n",
       "      <td>None</td>\n",
       "      <td>3600</td>\n",
       "      <td>aborted</td>\n",
       "    </tr>\n",
       "  </tbody>\n",
       "</table>\n",
       "</div>"
      ],
      "text/plain": [
       "                                               cost  seconds_to_solve  \\\n",
       "Case      Year Phase        max_bins                                    \n",
       "Wikipedia 2013 Naive        40        423324.968397        463.076503   \n",
       "               No predictor 40        716580.395000        769.975037   \n",
       "               Oracle       8760      418067.586000       3099.316790   \n",
       "          2014 I            5         382761.194740          0.056756   \n",
       "                            10        348740.528288          0.095461   \n",
       "                            20        333247.657055          0.181637   \n",
       "                            40        325311.364055          0.288104   \n",
       "                            80        321773.266205          0.477066   \n",
       "                            200       319434.620205          1.179688   \n",
       "                            400       318581.427219          4.898393   \n",
       "                            800       318168.836247          9.086538   \n",
       "                            1500      318010.671247         26.061860   \n",
       "                            3000      317909.194233         54.694270   \n",
       "                            6000      317859.223247        131.823503   \n",
       "                            8760      317770.453000       2722.267405   \n",
       "               II           5         367977.579740         15.258671   \n",
       "                            10        326595.326288         84.908124   \n",
       "                            20        318227.526055        136.788315   \n",
       "                            40        318227.526055        140.805171   \n",
       "                            80        317808.032205        167.557548   \n",
       "                            200       317808.032205        161.571079   \n",
       "                            400       317792.898219        158.948055   \n",
       "                            800       317778.582247        193.093450   \n",
       "                            1500      317778.582247        185.194589   \n",
       "                            3000      317783.624233        162.419075   \n",
       "                            6000      317778.582247        165.774775   \n",
       "               Naive        40        363389.275877         18.046500   \n",
       "               No predictor 40        542704.171000       1235.061124   \n",
       "               Oracle       8760      317770.453000       2512.841090   \n",
       "\n",
       "                                      seconds_to_create frac_gap  max_seconds  \\\n",
       "Case      Year Phase        max_bins                                            \n",
       "Wikipedia 2013 Naive        40                42.315943     None          600   \n",
       "               No predictor 40                60.571068     None         3600   \n",
       "               Oracle       8760             423.409144     None         3600   \n",
       "          2014 I            5                  0.063750    0.001         3600   \n",
       "                            10                 0.144919    0.001         3600   \n",
       "                            20                 0.224688    0.001         3600   \n",
       "                            40                 0.401688    0.001         3600   \n",
       "                            80                 0.635918    0.001         3600   \n",
       "                            200                1.481575    0.001         3600   \n",
       "                            400                2.897418    0.001         3600   \n",
       "                            800                5.648974    0.001         3600   \n",
       "                            1500              10.016334    0.001         3600   \n",
       "                            3000              20.832419    0.001         3600   \n",
       "                            6000              43.467211    0.001         3600   \n",
       "                            8760             419.893840      NaN         3600   \n",
       "               II           5                  4.788416     None          600   \n",
       "                            10                19.860265     None          600   \n",
       "                            20                29.596736     None          600   \n",
       "                            40                29.661657     None          600   \n",
       "                            80                32.348132     None          600   \n",
       "                            200               32.514733     None          600   \n",
       "                            400               32.712889     None          600   \n",
       "                            800               34.027881     None          600   \n",
       "                            1500              34.074433     None          600   \n",
       "                            3000              33.660497     None          600   \n",
       "                            6000              33.466311     None          600   \n",
       "               Naive        40                 5.523205     None          600   \n",
       "               No predictor 40                59.611701     None         3600   \n",
       "               Oracle       8760             422.487893     None         3600   \n",
       "\n",
       "                                       status  \n",
       "Case      Year Phase        max_bins           \n",
       "Wikipedia 2013 Naive        40        optimal  \n",
       "               No predictor 40        optimal  \n",
       "               Oracle       8760      aborted  \n",
       "          2014 I            5         optimal  \n",
       "                            10        optimal  \n",
       "                            20        optimal  \n",
       "                            40        optimal  \n",
       "                            80        optimal  \n",
       "                            200       optimal  \n",
       "                            400       optimal  \n",
       "                            800       optimal  \n",
       "                            1500      optimal  \n",
       "                            3000      optimal  \n",
       "                            6000      optimal  \n",
       "                            8760      aborted  \n",
       "               II           5         optimal  \n",
       "                            10        optimal  \n",
       "                            20        optimal  \n",
       "                            40        optimal  \n",
       "                            80        optimal  \n",
       "                            200       optimal  \n",
       "                            400       optimal  \n",
       "                            800       optimal  \n",
       "                            1500      optimal  \n",
       "                            3000      optimal  \n",
       "                            6000      optimal  \n",
       "               Naive        40        optimal  \n",
       "               No predictor 40        optimal  \n",
       "               Oracle       8760      aborted  "
      ]
     },
     "execution_count": 629,
     "metadata": {},
     "output_type": "execute_result"
    }
   ],
   "source": [
    "wikidata"
   ]
  },
  {
   "cell_type": "markdown",
   "metadata": {},
   "source": [
    "Phase \"I\" and \"II\" are the analysis of the influence of binning, under a \"Perfect prediction\" scenario (the STWP for phase II is the same than the LTWP for phase I\", and both are obtained from the English Wikipedia traces for that year)\n",
    "\n",
    "Phases \"Naive\", \"No predictor\" and \"Oracle\" are related to the second experiment. They are performed for years 2013 and 2014. The Naive solution uses as LTWP the workload from the previous year. The \"NoReserved\" and \"Oracle\" do not consider the previous year workload, but only the current year one. \"NoReserved\" fulfills this demand using only on-demand instances, while \"Oracle\" solves the whole year (using Lloovia's PhaseI) to find the optimal solution.\n",
    "\n",
    "Note that the oracle does not finish in the allotted time, so the optimal solution is not available. The value stored in \"cost\" is the best known lower bound at the time the solver was aborted."
   ]
  },
  {
   "cell_type": "markdown",
   "metadata": {},
   "source": [
    "## Binning analysis"
   ]
  },
  {
   "cell_type": "markdown",
   "metadata": {},
   "source": [
    "This section uses traces of English Wikipedia corresponding to year 2014"
   ]
  },
  {
   "cell_type": "code",
   "execution_count": 754,
   "metadata": {
    "ExecuteTime": {
     "end_time": "2016-12-16T10:54:45.682913",
     "start_time": "2016-12-16T10:54:45.222679"
    },
    "collapsed": false
   },
   "outputs": [
    {
     "data": {
      "image/png": "[encoded data removed]",
      "text/plain": [
       "<matplotlib.figure.Figure at 0x7f48f6a0f898>"
      ]
     },
     "metadata": {},
     "output_type": "display_data"
    }
   ],
   "source": [
    "workload = pd.read_csv(\"../data/processed/traces_en_wikipedia.csv\", \n",
    "                   sep=\";\", names=[\"time\", \"requests\"], header=None)\n",
    "workload.time = pd.to_datetime(workload.time)\n",
    "workload = workload.set_index(workload.time)\n",
    "with matplotlib.style.context(paper_style):\n",
    "    a = workload['2014'].plot(legend=None, linewidth=\"0.5\", \n",
    "                              figsize=(3.3, 1.5), color=\"RoyalBlue\")\n",
    "    a.set_ylabel(\"Requests per hour\")\n",
    "    plt.gcf().savefig(\"../reports/figures/fig-011-wikipedia-load-per-hour.pgf\",\n",
    "                     bbox_inches = 'tight')"
   ]
  },
  {
   "cell_type": "markdown",
   "metadata": {},
   "source": [
    "### Time to solve"
   ]
  },
  {
   "cell_type": "code",
   "execution_count": 755,
   "metadata": {
    "ExecuteTime": {
     "end_time": "2016-12-16T10:55:10.200341",
     "start_time": "2016-12-16T10:55:09.592010"
    },
    "collapsed": false,
    "scrolled": true
   },
   "outputs": [
    {
     "data": {
      "image/png": "[encoded data removed]",
      "text/plain": [
       "<matplotlib.figure.Figure at 0x7f48ea0372b0>"
      ]
     },
     "metadata": {},
     "output_type": "display_data"
    }
   ],
   "source": [
    "with matplotlib.style.context(paper_style):\n",
    "    ax = time_plot(wikidata, \"Wikipedia\", 2014, plot_phase_II=False)\n",
    "    plt.gcf().set_size_inches(3.3,1.5)\n",
    "    plt.gcf().savefig(\"../reports/figures/fig-012-time-to-solve.pgf\",\n",
    "                     bbox_inches=\"tight\")"
   ]
  },
  {
   "cell_type": "markdown",
   "metadata": {},
   "source": [
    "As expected, the time increases exponentially with the number of bins. The case without bins was aborted after 1h. Note that the case with 20 bins finds one solution in less than 1 second."
   ]
  },
  {
   "cell_type": "markdown",
   "metadata": {},
   "source": [
    "### Cost of the solution"
   ]
  },
  {
   "cell_type": "markdown",
   "metadata": {},
   "source": [
    "For each value of `max_bins` we compute `100*(cost-optimal)/optimal`. In this case `optimal` is not available, so we use the best bound instead."
   ]
  },
  {
   "cell_type": "code",
   "execution_count": 631,
   "metadata": {
    "ExecuteTime": {
     "end_time": "2016-12-16T09:38:23.903506",
     "start_time": "2016-12-16T09:38:23.896098"
    },
    "collapsed": false
   },
   "outputs": [],
   "source": [
    "phase_II_solution = wikidata.loc[(\"Wikipedia\", 2014, \"II\")].copy()\n",
    "best_bound = wikidata.loc[(\"Wikipedia\", 2014, \"I\", 24*365)].cost"
   ]
  },
  {
   "cell_type": "code",
   "execution_count": 756,
   "metadata": {
    "ExecuteTime": {
     "end_time": "2016-12-16T10:55:25.738627",
     "start_time": "2016-12-16T10:55:23.836177"
    },
    "collapsed": false
   },
   "outputs": [
    {
     "data": {
      "image/png": "[encoded data removed]",
      "text/plain": [
       "<matplotlib.figure.Figure at 0x7f48e9d12320>"
      ]
     },
     "metadata": {},
     "output_type": "display_data"
    }
   ],
   "source": [
    "phase_II_solution[\"% over lower bound\"] = np.round(\n",
    "                    (phase_II_solution.cost - best_bound)/best_bound * 100, 5)\n",
    "\n",
    "with matplotlib.style.context(paper_style):\n",
    "    ax = phase_II_solution.plot(y=\"% over lower bound\", color=\"red\",\n",
    "               figsize=(3.3,1.5), marker=\"s\",\n",
    "               markerfacecolor=\"white\",\n",
    "               markeredgecolor=\"k\", \n",
    "               markeredgewidth=0.5\n",
    "               )\n",
    "\n",
    "    ax.set_xscale(\"log\")\n",
    "    requested_bins = [int(x) for x in phase_II_solution.index]\n",
    "    ax.set_xticks(requested_bins)\n",
    "    ax.set_xticklabels(requested_bins[:-1] + [\"No bins\"], rotation='vertical')\n",
    "    ax.set_xlabel(\"Bins\", labelpad=-5)\n",
    "    ax.set_ylim(-0.1, 16)\n",
    "    ax.set_xlim(4.9, 8760)\n",
    "    annotate_subset = phase_II_solution.loc[10:200, [\"% over lower bound\"]\n",
    "                                           ].to_records()\n",
    "    \n",
    "    # Annotate some of the values, since they are very small to read in \n",
    "    # the y-scale\n",
    "    for n,(i,j) in enumerate(annotate_subset):\n",
    "        ax.annotate(\"{:1.2f}\".format(j),\n",
    "                    xy=(i,j), \n",
    "                    textcoords=\"axes fraction\",  fontsize=7,\n",
    "                    xytext=(0.15+0.7/len(annotate_subset)*n, \n",
    "                            0.7-0.6/len(annotate_subset)*n),\n",
    "                    arrowprops=dict(arrowstyle=\"->\",  \n",
    "                                    alpha=0.5, color=\"k\", \n",
    "                                    connectionstyle=\"arc3,rad=0.1\")\n",
    "                    )\n",
    "    plt.gcf().savefig(\"../reports/figures/fig-013-cost-vs-bins-labelled.pgf\",\n",
    "                    bbox_inches=\"tight\")"
   ]
  },
  {
   "cell_type": "markdown",
   "metadata": {},
   "source": [
    "This is Figure 13 in the paper. Note that for 20 bins (which we have seen that solves in less than 1 second), the overcost is very small (0.14%). Note also that this is the overcost with respect the lower bound, if the actual optimal were used it would be even smaller."
   ]
  },
  {
   "cell_type": "markdown",
   "metadata": {},
   "source": [
    "## Influence of the prediction"
   ]
  },
  {
   "cell_type": "markdown",
   "metadata": {},
   "source": [
    "Wikipedia workload varies from one year to the next. In this section we compare three simple strategies to forecast the workload for the next year, and evaluate how Lloovia performs with each one, comparing it against a \"oracle solution\" which knows the future and thus the exact load for the next year. The strategies to compare are:\n",
    "\n",
    "* Naive predictor. It simply uses the workload of the past year as a forecast for the next year\n",
    "* No predictor. The workload is considered unpredictable, and this no attempt is made to find the optimal number of reserved machines. Only on-demand instances are used\n",
    "* Oracle. Knows the future and thus can obtain the optimal solution. No other predictor can perform better.\n",
    "\n",
    "Of course other predictors could be tested, but the point is to see that, even with a naive predictor, Lloovia can get important savings over the case in which no predictor is used, and that it is not so far of the optimal solution given by the oracle."
   ]
  },
  {
   "cell_type": "markdown",
   "metadata": {},
   "source": [
    "### Variation in Wikipedia's workload"
   ]
  },
  {
   "cell_type": "markdown",
   "metadata": {},
   "source": [
    "We plot the avareage rph for each year, and see that it increases from 2012 to 2013, but decreases again in 2014 (this is figure 14 of the paper). We then decide to test the three predictors for years 2013 and 2014, to see two different cases for the naive predictor: one in which the actual workload is greater than the predicted, and other in which is the opposite."
   ]
  },
  {
   "cell_type": "code",
   "execution_count": 757,
   "metadata": {
    "ExecuteTime": {
     "end_time": "2016-12-16T10:55:40.854000",
     "start_time": "2016-12-16T10:55:40.533896"
    },
    "collapsed": false
   },
   "outputs": [
    {
     "data": {
      "image/png": "[encoded data removed]",
      "text/plain": [
       "<matplotlib.figure.Figure at 0x7f48e99918d0>"
      ]
     },
     "metadata": {},
     "output_type": "display_data"
    }
   ],
   "source": [
    "workload = pd.read_csv(\"../data/processed/traces_en_wikipedia.csv\", \n",
    "                   sep=\";\", names=[\"time\", \"requests\"], header=None)\n",
    "workload.time = pd.to_datetime(workload.time)\n",
    "workload = workload.set_index(workload.time)\n",
    "with matplotlib.style.context(paper_style):\n",
    "    workload.resample('A').mean().plot(marker=\"o\", ylim=0, legend=None, \n",
    "                            figsize=(3.3, 1.2), color=\"RoyalBlue\")\n",
    "    plt.xlabel('Year')\n",
    "    plt.ylabel('Requests')\n",
    "    plt.gcf().savefig(\"../reports/figures/fig-014-wikipedia-load-per-year.pgf\",\n",
    "                     bbox_inches = 'tight')"
   ]
  },
  {
   "cell_type": "markdown",
   "metadata": {},
   "source": [
    "### Comparison of predictors"
   ]
  },
  {
   "cell_type": "markdown",
   "metadata": {},
   "source": [
    "The following (somwhat complex) pandas operations on the dataframe provide a summary of the results, used to create Table 8 in paper"
   ]
  },
  {
   "cell_type": "code",
   "execution_count": 677,
   "metadata": {
    "ExecuteTime": {
     "end_time": "2016-12-16T09:59:50.591142",
     "start_time": "2016-12-16T09:59:50.565821"
    },
    "collapsed": false
   },
   "outputs": [
    {
     "data": {
      "text/html": [
       "<div>\n",
       "<table border=\"1\" class=\"dataframe\">\n",
       "  <thead>\n",
       "    <tr>\n",
       "      <th></th>\n",
       "      <th colspan=\"3\" halign=\"left\">cost</th>\n",
       "    </tr>\n",
       "    <tr>\n",
       "      <th>Predictor</th>\n",
       "      <th>Naive predictor</th>\n",
       "      <th>No predictor</th>\n",
       "      <th>Perfect predictor</th>\n",
       "    </tr>\n",
       "    <tr>\n",
       "      <th>Year</th>\n",
       "      <th></th>\n",
       "      <th></th>\n",
       "      <th></th>\n",
       "    </tr>\n",
       "  </thead>\n",
       "  <tbody>\n",
       "    <tr>\n",
       "      <th>2013</th>\n",
       "      <td>423324.968397</td>\n",
       "      <td>716580.395</td>\n",
       "      <td>418067.586</td>\n",
       "    </tr>\n",
       "    <tr>\n",
       "      <th>2014</th>\n",
       "      <td>363389.275877</td>\n",
       "      <td>542704.171</td>\n",
       "      <td>317770.453</td>\n",
       "    </tr>\n",
       "  </tbody>\n",
       "</table>\n",
       "</div>"
      ],
      "text/plain": [
       "                     cost                               \n",
       "Predictor Naive predictor No predictor Perfect predictor\n",
       "Year                                                    \n",
       "2013        423324.968397   716580.395        418067.586\n",
       "2014        363389.275877   542704.171        317770.453"
      ]
     },
     "execution_count": 677,
     "metadata": {},
     "output_type": "execute_result"
    }
   ],
   "source": [
    "summary_table = (wikidata.loc[pd.IndexSlice[\"Wikipedia\", :, [\"Oracle\", \"Naive\", \"No predictor\"]], [\"cost\"]]\n",
    " .reset_index()\n",
    " .drop([\"Case\",\"max_bins\"], axis=1)\n",
    " .rename(columns={\"Phase\": \"Predictor\"})\n",
    " .set_index([\"Year\", \"Predictor\"])\n",
    " .unstack(\"Predictor\")\n",
    " .rename(columns={\"Oracle\": \"Perfect predictor\",\n",
    "                  \"Naive\": \"Naive predictor\"})\n",
    ")\n",
    "\n",
    "summary_table"
   ]
  },
  {
   "cell_type": "markdown",
   "metadata": {},
   "source": [
    "This can be plotted in a bar graph (not used in the paper)"
   ]
  },
  {
   "cell_type": "code",
   "execution_count": 681,
   "metadata": {
    "ExecuteTime": {
     "end_time": "2016-12-16T10:00:23.482848",
     "start_time": "2016-12-16T10:00:23.275929"
    },
    "collapsed": false
   },
   "outputs": [
    {
     "data": {
      "image/png": "[encoded data removed]",
      "text/plain": [
       "<matplotlib.figure.Figure at 0x7f48f565a3c8>"
      ]
     },
     "metadata": {},
     "output_type": "display_data"
    }
   ],
   "source": [
    "with matplotlib.style.context(paper_style):\n",
    "    ax = summary_table.plot(kind=\"bar\", \n",
    "                            color=[\"DodgerBlue\", \"LightSteelBlue\", \"SkyBlue\"],\n",
    "                            rot=0)\n",
    "    ax.set_ylabel(\"Cost ($)\")\n",
    "    ax.legend(labels=summary_table.columns.levels[1])"
   ]
  },
  {
   "cell_type": "markdown",
   "metadata": {},
   "source": [
    "## Multicloud case"
   ]
  },
  {
   "cell_type": "markdown",
   "metadata": {},
   "source": [
    "### Load results"
   ]
  },
  {
   "cell_type": "code",
   "execution_count": 684,
   "metadata": {
    "ExecuteTime": {
     "end_time": "2016-12-16T10:10:33.787735",
     "start_time": "2016-12-16T10:10:33.776320"
    },
    "collapsed": true
   },
   "outputs": [],
   "source": [
    "azure_only = lloovia.SolutionII.load(\"/tmp/interim/phaseII_PP/case_wikipedia_2014_multi_Azure_bins_40.pickle\")\n",
    "amazon_only = lloovia.SolutionII.load(\"/tmp/interim/phaseII_PP/case_wikipedia_2014_multi_Amazon_bins_40.pickle\")\n",
    "both = lloovia.SolutionII.load(\"/tmp/interim/phaseII_PP/case_wikipedia_2014_multi_Both_bins_40.pickle\")"
   ]
  },
  {
   "cell_type": "markdown",
   "metadata": {},
   "source": [
    "### Cloud infrastructure"
   ]
  },
  {
   "cell_type": "code",
   "execution_count": 697,
   "metadata": {
    "ExecuteTime": {
     "end_time": "2016-12-16T10:16:35.893105",
     "start_time": "2016-12-16T10:16:35.861759"
    },
    "collapsed": false
   },
   "outputs": [
    {
     "data": {
      "text/html": [
       "<div>\n",
       "<table border=\"1\" class=\"dataframe\">\n",
       "  <thead>\n",
       "    <tr style=\"text-align: right;\">\n",
       "      <th></th>\n",
       "      <th></th>\n",
       "      <th>QPS</th>\n",
       "    </tr>\n",
       "    <tr>\n",
       "      <th>region</th>\n",
       "      <th>name</th>\n",
       "      <th></th>\n",
       "    </tr>\n",
       "  </thead>\n",
       "  <tbody>\n",
       "    <tr>\n",
       "      <th rowspan=\"5\" valign=\"top\">Amazon</th>\n",
       "      <th>c4.2xlarge</th>\n",
       "      <td>2592.50</td>\n",
       "    </tr>\n",
       "    <tr>\n",
       "      <th>c4.xlarge</th>\n",
       "      <td>1468.00</td>\n",
       "    </tr>\n",
       "    <tr>\n",
       "      <th>m4.2xlarge</th>\n",
       "      <td>2510.00</td>\n",
       "    </tr>\n",
       "    <tr>\n",
       "      <th>m4.large</th>\n",
       "      <td>636.00</td>\n",
       "    </tr>\n",
       "    <tr>\n",
       "      <th>m4.xlarge</th>\n",
       "      <td>1316.00</td>\n",
       "    </tr>\n",
       "    <tr>\n",
       "      <th rowspan=\"15\" valign=\"top\">Azure</th>\n",
       "      <th>A5</th>\n",
       "      <td>260.67</td>\n",
       "    </tr>\n",
       "    <tr>\n",
       "      <th>A6</th>\n",
       "      <td>594.00</td>\n",
       "    </tr>\n",
       "    <tr>\n",
       "      <th>Basic_A0</th>\n",
       "      <td>56.67</td>\n",
       "    </tr>\n",
       "    <tr>\n",
       "      <th>Basic_A1</th>\n",
       "      <td>81.33</td>\n",
       "    </tr>\n",
       "    <tr>\n",
       "      <th>Basic_A2</th>\n",
       "      <td>178.00</td>\n",
       "    </tr>\n",
       "    <tr>\n",
       "      <th>Basic_A3</th>\n",
       "      <td>657.33</td>\n",
       "    </tr>\n",
       "    <tr>\n",
       "      <th>ExtraSmall</th>\n",
       "      <td>54.67</td>\n",
       "    </tr>\n",
       "    <tr>\n",
       "      <th>Large</th>\n",
       "      <td>561.33</td>\n",
       "    </tr>\n",
       "    <tr>\n",
       "      <th>Medium</th>\n",
       "      <td>299.00</td>\n",
       "    </tr>\n",
       "    <tr>\n",
       "      <th>Small</th>\n",
       "      <td>109.00</td>\n",
       "    </tr>\n",
       "    <tr>\n",
       "      <th>Standard_D11_v2</th>\n",
       "      <td>660.00</td>\n",
       "    </tr>\n",
       "    <tr>\n",
       "      <th>Standard_D12_v2</th>\n",
       "      <td>1621.67</td>\n",
       "    </tr>\n",
       "    <tr>\n",
       "      <th>Standard_D1_v2</th>\n",
       "      <td>440.67</td>\n",
       "    </tr>\n",
       "    <tr>\n",
       "      <th>Standard_D2_v2</th>\n",
       "      <td>682.33</td>\n",
       "    </tr>\n",
       "    <tr>\n",
       "      <th>Standard_D3_v2</th>\n",
       "      <td>1560.00</td>\n",
       "    </tr>\n",
       "  </tbody>\n",
       "</table>\n",
       "</div>"
      ],
      "text/plain": [
       "                            QPS\n",
       "region name                    \n",
       "Amazon c4.2xlarge       2592.50\n",
       "       c4.xlarge        1468.00\n",
       "       m4.2xlarge       2510.00\n",
       "       m4.large          636.00\n",
       "       m4.xlarge        1316.00\n",
       "Azure  A5                260.67\n",
       "       A6                594.00\n",
       "       Basic_A0           56.67\n",
       "       Basic_A1           81.33\n",
       "       Basic_A2          178.00\n",
       "       Basic_A3          657.33\n",
       "       ExtraSmall         54.67\n",
       "       Large             561.33\n",
       "       Medium            299.00\n",
       "       Small             109.00\n",
       "       Standard_D11_v2   660.00\n",
       "       Standard_D12_v2  1621.67\n",
       "       Standard_D1_v2    440.67\n",
       "       Standard_D2_v2    682.33\n",
       "       Standard_D3_v2   1560.00"
      ]
     },
     "execution_count": 697,
     "metadata": {},
     "output_type": "execute_result"
    }
   ],
   "source": [
    "perfs = (pd.DataFrame([i.__dict__ for i in both.problem.instances])\n",
    " [[\"name\", \"cloud\", \"performance\", \"price\", \"reserved\"]]\n",
    " .assign(region=lambda x: x.cloud.astype(str).str.replace(\" .*\", \"\"))\n",
    " .assign(QPS=lambda x: x.performance/3600.0)\n",
    " .drop(\"cloud\", axis=1)\n",
    "# .reset_index()\n",
    " .pivot_table(index=[\"region\", \"name\"], values=[\"QPS\"])\n",
    " .rename(index={\"US\": \"Amazon\", \"us-east-2\": \"Azure\"})\n",
    " .sort_index()\n",
    " )\n",
    "perfs = np.round(perfs, decimals=2)\n",
    "perfs"
   ]
  },
  {
   "cell_type": "code",
   "execution_count": 699,
   "metadata": {
    "ExecuteTime": {
     "end_time": "2016-12-16T10:16:47.282578",
     "start_time": "2016-12-16T10:16:47.276333"
    },
    "collapsed": false
   },
   "outputs": [
    {
     "name": "stdout",
     "output_type": "stream",
     "text": [
      "\\begin{tabular}{llr}\n",
      "\\toprule\n",
      "       &    &      QPS \\\\\n",
      "region & name &          \\\\\n",
      "\\midrule\n",
      "Amazon & c4.2xlarge &  2592.50 \\\\\n",
      "       & c4.xlarge &  1468.00 \\\\\n",
      "       & m4.2xlarge &  2510.00 \\\\\n",
      "       & m4.large &   636.00 \\\\\n",
      "       & m4.xlarge &  1316.00 \\\\\n",
      "Azure & A5 &   260.67 \\\\\n",
      "       & A6 &   594.00 \\\\\n",
      "       & Basic\\_A0 &    56.67 \\\\\n",
      "       & Basic\\_A1 &    81.33 \\\\\n",
      "       & Basic\\_A2 &   178.00 \\\\\n",
      "       & Basic\\_A3 &   657.33 \\\\\n",
      "       & ExtraSmall &    54.67 \\\\\n",
      "       & Large &   561.33 \\\\\n",
      "       & Medium &   299.00 \\\\\n",
      "       & Small &   109.00 \\\\\n",
      "       & Standard\\_D11\\_v2 &   660.00 \\\\\n",
      "       & Standard\\_D12\\_v2 &  1621.67 \\\\\n",
      "       & Standard\\_D1\\_v2 &   440.67 \\\\\n",
      "       & Standard\\_D2\\_v2 &   682.33 \\\\\n",
      "       & Standard\\_D3\\_v2 &  1560.00 \\\\\n",
      "\\bottomrule\n",
      "\\end{tabular}\n",
      "\n"
     ]
    }
   ],
   "source": [
    "print(perfs.to_latex())"
   ]
  },
  {
   "cell_type": "code",
   "execution_count": 701,
   "metadata": {
    "ExecuteTime": {
     "end_time": "2016-12-16T10:18:30.458741",
     "start_time": "2016-12-16T10:18:30.409954"
    },
    "collapsed": false
   },
   "outputs": [
    {
     "data": {
      "text/plain": [
       "3490.989000000115"
      ]
     },
     "execution_count": 701,
     "metadata": {},
     "output_type": "execute_result"
    }
   ],
   "source": [
    "azure_only.get_cost()"
   ]
  },
  {
   "cell_type": "markdown",
   "metadata": {},
   "source": [
    "### Comparison of results"
   ]
  },
  {
   "cell_type": "code",
   "execution_count": 711,
   "metadata": {
    "ExecuteTime": {
     "end_time": "2016-12-16T10:23:21.480002",
     "start_time": "2016-12-16T10:23:21.318165"
    },
    "collapsed": false
   },
   "outputs": [
    {
     "data": {
      "image/png": "[encoded data removed]",
      "text/plain": [
       "<matplotlib.figure.Figure at 0x7f48f1e73940>"
      ]
     },
     "metadata": {},
     "output_type": "display_data"
    }
   ],
   "source": [
    "from collections import OrderedDict\n",
    "cost_multicloud = OrderedDict()\n",
    "cost_multicloud['Multi-cloud'] =  both.get_cost()\n",
    "cost_multicloud['Only Amazon'] = amazon_only.get_cost()\n",
    "cost_multicloud['Only Azure'] = azure_only.get_cost()\n",
    "c_multicloud = cost_multicloud['Multi-cloud']\n",
    "\n",
    "s = pd.Series(cost_multicloud)\n",
    "costdf = pd.DataFrame(s, columns=[\"Cost ($)\"])\n",
    "costdf['% increase (vs. multicloud)'] = (costdf[\"Cost ($)\"] -\n",
    "                                          c_multicloud) * 100  / c_multicloud\n",
    "\n",
    "with matplotlib.style.context(paper_style):\n",
    "    costdf[\"Cost ($)\"].plot(kind=\"bar\", color=\"#348ABD\", rot=0)\n",
    "    plt.ylabel(\"Cost ($)\")"
   ]
  },
  {
   "cell_type": "code",
   "execution_count": 712,
   "metadata": {
    "ExecuteTime": {
     "end_time": "2016-12-16T10:23:22.181190",
     "start_time": "2016-12-16T10:23:22.173897"
    },
    "collapsed": false
   },
   "outputs": [
    {
     "data": {
      "text/html": [
       "<div>\n",
       "<table border=\"1\" class=\"dataframe\">\n",
       "  <thead>\n",
       "    <tr style=\"text-align: right;\">\n",
       "      <th></th>\n",
       "      <th>Cost ($)</th>\n",
       "      <th>% increase (vs. multicloud)</th>\n",
       "    </tr>\n",
       "  </thead>\n",
       "  <tbody>\n",
       "    <tr>\n",
       "      <th>Multi-cloud</th>\n",
       "      <td>2450.69037</td>\n",
       "      <td>0.000000</td>\n",
       "    </tr>\n",
       "    <tr>\n",
       "      <th>Only Amazon</th>\n",
       "      <td>2582.30237</td>\n",
       "      <td>5.370405</td>\n",
       "    </tr>\n",
       "    <tr>\n",
       "      <th>Only Azure</th>\n",
       "      <td>3490.98900</td>\n",
       "      <td>42.449207</td>\n",
       "    </tr>\n",
       "  </tbody>\n",
       "</table>\n",
       "</div>"
      ],
      "text/plain": [
       "               Cost ($)  % increase (vs. multicloud)\n",
       "Multi-cloud  2450.69037                     0.000000\n",
       "Only Amazon  2582.30237                     5.370405\n",
       "Only Azure   3490.98900                    42.449207"
      ]
     },
     "execution_count": 712,
     "metadata": {},
     "output_type": "execute_result"
    }
   ],
   "source": [
    "costdf"
   ]
  },
  {
   "cell_type": "code",
   "execution_count": 713,
   "metadata": {
    "ExecuteTime": {
     "end_time": "2016-12-16T10:23:49.396135",
     "start_time": "2016-12-16T10:23:49.390975"
    },
    "collapsed": false
   },
   "outputs": [
    {
     "name": "stdout",
     "output_type": "stream",
     "text": [
      "\\begin{tabular}{lrr}\n",
      "\\toprule\n",
      "{} &    Cost (\\$) &  \\% increase (vs. multicloud) \\\\\n",
      "\\midrule\n",
      "Multi-cloud &  2450.69037 &                     0.000000 \\\\\n",
      "Only Amazon &  2582.30237 &                     5.370405 \\\\\n",
      "Only Azure  &  3490.98900 &                    42.449207 \\\\\n",
      "\\bottomrule\n",
      "\\end{tabular}\n",
      "\n"
     ]
    }
   ],
   "source": [
    "print(costdf.to_latex())"
   ]
  },
  {
   "cell_type": "markdown",
   "metadata": {},
   "source": [
    "### Plot of performance vs workload per cloud provider"
   ]
  },
  {
   "cell_type": "code",
   "execution_count": 760,
   "metadata": {
    "ExecuteTime": {
     "end_time": "2016-12-16T11:34:50.052274",
     "start_time": "2016-12-16T11:34:49.615817"
    },
    "collapsed": false
   },
   "outputs": [
    {
     "data": {
      "image/png": "[encoded data removed]",
      "text/plain": [
       "<matplotlib.figure.Figure at 0x7f48e9991c88>"
      ]
     },
     "metadata": {},
     "output_type": "display_data"
    }
   ],
   "source": [
    "solution_multicloud = both.get_cost_and_perf_dataframe()\n",
    "\n",
    "perf_of_amazon = solution_multicloud.loc[:,(\"Performance\",\"amazon\")].sum(axis=1)\n",
    "perf_of_azure = solution_multicloud.loc[:,(\"Performance\",\"azure\")].sum(axis=1)\n",
    "perf_global = perf_of_azure + perf_of_amazon\n",
    "workload = both.problem.workload\n",
    "\n",
    "aux = pd.DataFrame(dict(\n",
    "        performance = perf_global,\n",
    "        perf_azure = perf_of_azure,\n",
    "        perf_amazon = perf_of_amazon,\n",
    "        load = workload\n",
    "    ))\n",
    "\n",
    "def make_steps(df):\n",
    "    # Double the data, to make a stepwise function\n",
    "    aux = pd.DataFrame()\n",
    "    for c in df.columns:\n",
    "        y = df[c].values\n",
    "        yy = np.array([y,y]).flatten(\"F\")\n",
    "        aux[c] = yy[1:]\n",
    "    x = df.index\n",
    "    aux[\"time\"] = np.array([x,x]).flatten('F')[:-1]\n",
    "    return aux\n",
    "\n",
    "import matplotlib.patches as mpatches\n",
    "\n",
    "xlim = (6120, 6200)\n",
    "sli = slice(*xlim)\n",
    "with matplotlib.style.context(paper_style):\n",
    "    ax=make_steps(aux.iloc[sli]).plot(x=\"time\", y=\"performance\", kind=\"area\", lw=0.2,\n",
    "                                     label=\"Performance of Azure VMs\", color=\"#4D91C6\")\n",
    "    ax=make_steps(aux.iloc[sli]).plot(x=\"time\", y=\"perf_amazon\", ax=ax, ylim=(0e7, None),\n",
    "                               kind=\"area\", color=\"#ff9900\", lw=0.2, \n",
    "                                      label=\"Performance of Amazon VMs\")\n",
    "    ax=make_steps(aux.iloc[sli]).plot(x=\"time\", y=\"load\", ax=ax, ylim = (0e7, None),\n",
    "                                     lw=0.8, label=\"Load\", color=\"#606060\"\n",
    "                                     )\n",
    "    ax.set_ylabel(\"rph\")\n",
    "    ax.set_xlabel(\"Time slot (h)\")\n",
    "    # La leyenda no sale correctamente si la intento pintar mediante\n",
    "    # ax.legend(), pues en lugar de rectángulos sólidos pinta líneas\n",
    "    # Así que capturo los dibujadores originales:\n",
    "    handles, labels = ax.get_legend_handles_labels()\n",
    "    \n",
    "    # Y redefino los dos primeros correspondientes a áreas para que use rectángulos\n",
    "    new_handles = [mpatches.Rectangle((0, 1), 1, 1, fc=handle.get_color(),\n",
    "                                              linewidth=handle.get_linewidth(),\n",
    "                                              alpha=handle.get_alpha())\n",
    "                                  for handle in handles[:-1]]\n",
    "    # El tercero lo dejo como estaba\n",
    "    new_handles.append(handles[-1])\n",
    "    # Pinto la leyenda usando los nuevos handles\n",
    "    ax.legend(new_handles ,labels,\n",
    "            loc=\"lower left\", shadow=True, frameon=True)\n",
    "plt.gcf().savefig(\"../reports/figures/fig-015-multicloud-performance.pgf\", bbox_inches=\"tight\")"
   ]
  },
  {
   "cell_type": "code",
   "execution_count": null,
   "metadata": {
    "collapsed": true
   },
   "outputs": [],
   "source": []
  },
  {
   "cell_type": "code",
   "execution_count": null,
   "metadata": {
    "collapsed": true
   },
   "outputs": [],
   "source": []
  },
  {
   "cell_type": "code",
   "execution_count": null,
   "metadata": {
    "collapsed": true
   },
   "outputs": [],
   "source": []
  },
  {
   "cell_type": "code",
   "execution_count": null,
   "metadata": {
    "collapsed": true
   },
   "outputs": [],
   "source": []
  },
  {
   "cell_type": "code",
   "execution_count": null,
   "metadata": {
    "collapsed": true
   },
   "outputs": [],
   "source": []
  },
  {
   "cell_type": "code",
   "execution_count": null,
   "metadata": {
    "collapsed": true
   },
   "outputs": [],
   "source": []
  }
 ],
 "metadata": {
  "anaconda-cloud": {},
  "kernelspec": {
   "display_name": "Python [default]",
   "language": "python",
   "name": "python3"
  },
  "language_info": {
   "codemirror_mode": {
    "name": "ipython",
    "version": 3
   },
   "file_extension": ".py",
   "mimetype": "text/x-python",
   "name": "python",
   "nbconvert_exporter": "python",
   "pygments_lexer": "ipython3",
   "version": "3.5.2"
  },
  "toc": {
   "nav_menu": {
    "height": "12px",
    "width": "252px"
   },
   "navigate_menu": true,
   "number_sections": true,
   "sideBar": true,
   "threshold": 4,
   "toc_cell": false,
   "toc_position": {
    "height": "904px",
    "left": "0px",
    "right": "1646px",
    "top": "107px",
    "width": "212px"
   },
   "toc_section_display": "block",
   "toc_window_display": true
  }
 },
 "nbformat": 4,
 "nbformat_minor": 1
}
