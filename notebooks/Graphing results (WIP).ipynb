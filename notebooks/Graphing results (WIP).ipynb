{
 "cells": [
  {
   "cell_type": "code",
   "execution_count": 273,
   "metadata": {
    "ExecuteTime": {
     "end_time": "2016-12-14T18:19:12.627782",
     "start_time": "2016-12-14T18:19:12.618750"
    },
    "collapsed": false,
    "hide_input": true
   },
   "outputs": [],
   "source": [
    "import pickle\n",
    "import os,sys,inspect\n",
    "currentdir = os.path.dirname(\n",
    "    os.path.abspath(inspect.getfile(inspect.currentframe()))\n",
    "        )\n",
    "sys.path.insert(0, os.path.join(currentdir, os.path.pardir, \"src/solve\"))\n",
    "sys.path.insert(0, os.path.join(currentdir, os.path.pardir, \"src/visualization\"))\n",
    "sys.path.insert(0, os.path.join(currentdir, os.path.pardir, \"src/data\"))\n",
    "import lloovia\n",
    "%matplotlib inline\n",
    "import matplotlib.pyplot as plt\n",
    "import pandas as pd\n",
    "import numpy as np"
   ]
  },
  {
   "cell_type": "code",
   "execution_count": 275,
   "metadata": {
    "ExecuteTime": {
     "end_time": "2016-12-14T18:19:18.391091",
     "start_time": "2016-12-14T18:19:18.376351"
    },
    "collapsed": true,
    "hide_input": true
   },
   "outputs": [],
   "source": [
    "import matplotlib\n",
    "# Parámetros de las gráficas para publicación en artículo\n",
    "sb_white=dict(matplotlib.style.library[\"seaborn-whitegrid\"])\n",
    "sb_paper=dict(matplotlib.style.library[\"seaborn-paper\"])\n",
    "my_settings = {\n",
    "    \"axes.titlesize\": 8,\n",
    "    \"axes.labelsize\": 8,\n",
    "    \"xtick.labelsize\": 6,\n",
    "    \"ytick.labelsize\": 6,\n",
    "    \"figure.figsize\": (3.5, 2.5),\n",
    "    'grid.linestyle': '-',\n",
    "    \"grid.linewidth\": 0.5,\n",
    "    \"grid.alpha\": 0.5,\n",
    "    \"lines.markersize\": 3,\n",
    "    \"lines.linewidth\": 0.8,\n",
    "    \"text.usetex\": False,   \n",
    "    \"font.family\": \"serif\",\n",
    "    \"pgf.rcfonts\": False,\n",
    "    \"font.serif\": [],   \n",
    "    \"font.sans-serif\": [],\n",
    "    \"font.monospace\": [],\n",
    "}\n",
    "paper_style = {}\n",
    "for x in [sb_white, sb_paper, my_settings]:\n",
    "    paper_style.update(x)\n",
    "    \n",
    "# Parámetros para verlas en el notebook\n",
    "notebook_style = {}\n",
    "my_settings = {\n",
    "   \"figure.figsize\": (7, 5)\n",
    "}\n",
    "for x in [dict(matplotlib.style.library[\"seaborn-darkgrid\"]),\n",
    "          dict(matplotlib.style.library[\"seaborn-notebook\"])]:\n",
    "    notebook_style.update(x)"
   ]
  },
  {
   "cell_type": "markdown",
   "metadata": {},
   "source": [
    "# Synthetic experiments"
   ]
  },
  {
   "cell_type": "markdown",
   "metadata": {},
   "source": [
    "## Cloud infrastructure parameters"
   ]
  },
  {
   "cell_type": "markdown",
   "metadata": {},
   "source": [
    "The set of instace classes used in the synthetic experiments can be read from a pickle, and processed using Pandas to provide a summary table similar to Table 5 in the paper."
   ]
  },
  {
   "cell_type": "code",
   "execution_count": 428,
   "metadata": {
    "ExecuteTime": {
     "end_time": "2016-12-15T10:03:01.779397",
     "start_time": "2016-12-15T10:03:01.741873"
    },
    "collapsed": false
   },
   "outputs": [
    {
     "data": {
      "text/html": [
       "<div>\n",
       "<table border=\"1\" class=\"dataframe\">\n",
       "  <thead>\n",
       "    <tr>\n",
       "      <th></th>\n",
       "      <th></th>\n",
       "      <th colspan=\"2\" halign=\"left\">performance</th>\n",
       "      <th colspan=\"2\" halign=\"left\">price</th>\n",
       "    </tr>\n",
       "    <tr>\n",
       "      <th></th>\n",
       "      <th>reserved</th>\n",
       "      <th>False</th>\n",
       "      <th>True</th>\n",
       "      <th>False</th>\n",
       "      <th>True</th>\n",
       "    </tr>\n",
       "    <tr>\n",
       "      <th>name</th>\n",
       "      <th>region</th>\n",
       "      <th></th>\n",
       "      <th></th>\n",
       "      <th></th>\n",
       "      <th></th>\n",
       "    </tr>\n",
       "  </thead>\n",
       "  <tbody>\n",
       "    <tr>\n",
       "      <th rowspan=\"2\" valign=\"top\">c3.2xlarge</th>\n",
       "      <th>EU</th>\n",
       "      <td>46000.0</td>\n",
       "      <td>46000.0</td>\n",
       "      <td>0.478</td>\n",
       "      <td>0.307534</td>\n",
       "    </tr>\n",
       "    <tr>\n",
       "      <th>US</th>\n",
       "      <td>46000.0</td>\n",
       "      <td>46000.0</td>\n",
       "      <td>0.420</td>\n",
       "      <td>0.247717</td>\n",
       "    </tr>\n",
       "    <tr>\n",
       "      <th rowspan=\"2\" valign=\"top\">c3.large</th>\n",
       "      <th>EU</th>\n",
       "      <td>18000.0</td>\n",
       "      <td>18000.0</td>\n",
       "      <td>0.120</td>\n",
       "      <td>0.076598</td>\n",
       "    </tr>\n",
       "    <tr>\n",
       "      <th>US</th>\n",
       "      <td>18000.0</td>\n",
       "      <td>18000.0</td>\n",
       "      <td>0.105</td>\n",
       "      <td>0.061872</td>\n",
       "    </tr>\n",
       "    <tr>\n",
       "      <th rowspan=\"2\" valign=\"top\">c3.xlarge</th>\n",
       "      <th>EU</th>\n",
       "      <td>27000.0</td>\n",
       "      <td>27000.0</td>\n",
       "      <td>0.239</td>\n",
       "      <td>0.154224</td>\n",
       "    </tr>\n",
       "    <tr>\n",
       "      <th>US</th>\n",
       "      <td>27000.0</td>\n",
       "      <td>27000.0</td>\n",
       "      <td>0.210</td>\n",
       "      <td>0.124772</td>\n",
       "    </tr>\n",
       "    <tr>\n",
       "      <th rowspan=\"2\" valign=\"top\">m3.large</th>\n",
       "      <th>EU</th>\n",
       "      <td>11000.0</td>\n",
       "      <td>11000.0</td>\n",
       "      <td>0.146</td>\n",
       "      <td>0.100114</td>\n",
       "    </tr>\n",
       "    <tr>\n",
       "      <th>US</th>\n",
       "      <td>11000.0</td>\n",
       "      <td>11000.0</td>\n",
       "      <td>0.133</td>\n",
       "      <td>0.081393</td>\n",
       "    </tr>\n",
       "    <tr>\n",
       "      <th rowspan=\"2\" valign=\"top\">m3.medium</th>\n",
       "      <th>EU</th>\n",
       "      <td>9000.0</td>\n",
       "      <td>9000.0</td>\n",
       "      <td>0.073</td>\n",
       "      <td>0.049543</td>\n",
       "    </tr>\n",
       "    <tr>\n",
       "      <th>US</th>\n",
       "      <td>9000.0</td>\n",
       "      <td>9000.0</td>\n",
       "      <td>0.067</td>\n",
       "      <td>0.040297</td>\n",
       "    </tr>\n",
       "    <tr>\n",
       "      <th rowspan=\"2\" valign=\"top\">m3.xlarge</th>\n",
       "      <th>EU</th>\n",
       "      <td>39000.0</td>\n",
       "      <td>39000.0</td>\n",
       "      <td>0.293</td>\n",
       "      <td>0.199315</td>\n",
       "    </tr>\n",
       "    <tr>\n",
       "      <th>US</th>\n",
       "      <td>39000.0</td>\n",
       "      <td>39000.0</td>\n",
       "      <td>0.266</td>\n",
       "      <td>0.163014</td>\n",
       "    </tr>\n",
       "  </tbody>\n",
       "</table>\n",
       "</div>"
      ],
      "text/plain": [
       "                  performance           price          \n",
       "reserved                False    True   False     True \n",
       "name       region                                      \n",
       "c3.2xlarge EU         46000.0  46000.0  0.478  0.307534\n",
       "           US         46000.0  46000.0  0.420  0.247717\n",
       "c3.large   EU         18000.0  18000.0  0.120  0.076598\n",
       "           US         18000.0  18000.0  0.105  0.061872\n",
       "c3.xlarge  EU         27000.0  27000.0  0.239  0.154224\n",
       "           US         27000.0  27000.0  0.210  0.124772\n",
       "m3.large   EU         11000.0  11000.0  0.146  0.100114\n",
       "           US         11000.0  11000.0  0.133  0.081393\n",
       "m3.medium  EU          9000.0   9000.0  0.073  0.049543\n",
       "           US          9000.0   9000.0  0.067  0.040297\n",
       "m3.xlarge  EU         39000.0  39000.0  0.293  0.199315\n",
       "           US         39000.0  39000.0  0.266  0.163014"
      ]
     },
     "execution_count": 428,
     "metadata": {},
     "output_type": "execute_result"
    }
   ],
   "source": [
    "# Show the characteristics of the instances used in the experiments\n",
    "instances = pd.read_pickle(\"/tmp/interim/instances_for_synthetic_experiments.pickle\")\n",
    "(pd.DataFrame([i.__dict__ for i in instances])\n",
    " [[\"name\", \"cloud\", \"performance\", \"price\", \"reserved\"]]\n",
    " .assign(region=lambda x: x.cloud.astype(str).str.replace(\" .*\", \"\"))\n",
    " .drop(\"cloud\", axis=1)\n",
    "# .reset_index()\n",
    " .pivot_table(index=[\"name\", \"region\"], columns=\"reserved\", values=[\"price\", \"performance\"])\n",
    " .sort_index()\n",
    " )"
   ]
  },
  {
   "cell_type": "markdown",
   "metadata": {},
   "source": [
    "## Workload parameters"
   ]
  },
  {
   "cell_type": "markdown",
   "metadata": {},
   "source": [
    "Several workload shapes were used in each experiment. They are stored in `.csv` files, each one containing several columns for different base-level. There are two files for each workload shape, one is used as LTWP for Phase I and the other as STWP for Phase II in the \"realization\" experiment. All were synthetically generated and they can be regenerated to perform a new set of experiments if desired. Refer to README.\n",
    "\n",
    "This is the complete set of `.csv` files\n"
   ]
  },
  {
   "cell_type": "code",
   "execution_count": 429,
   "metadata": {
    "ExecuteTime": {
     "end_time": "2016-12-15T10:05:21.567141",
     "start_time": "2016-12-15T10:05:21.428100"
    },
    "collapsed": false,
    "scrolled": true
   },
   "outputs": [
    {
     "name": "stdout",
     "output_type": "stream",
     "text": [
      "../data/paper/traces_synthetic_decreasing_LTWP.csv\r\n",
      "../data/paper/traces_synthetic_decreasing_STWP.csv\r\n",
      "../data/paper/traces_synthetic_everything_LTWP.csv\r\n",
      "../data/paper/traces_synthetic_everything_STWP.csv\r\n",
      "../data/paper/traces_synthetic_increasing_LTWP.csv\r\n",
      "../data/paper/traces_synthetic_increasing_STWP.csv\r\n",
      "../data/paper/traces_synthetic_once_LTWP.csv\r\n",
      "../data/paper/traces_synthetic_once_STWP.csv\r\n",
      "../data/paper/traces_synthetic_periodic_LTWP.csv\r\n",
      "../data/paper/traces_synthetic_periodic_STWP.csv\r\n",
      "../data/paper/traces_synthetic_static_LTWP.csv\r\n",
      "../data/paper/traces_synthetic_static_STWP.csv\r\n",
      "../data/paper/traces_synthetic_unpredictable_LTWP.csv\r\n",
      "../data/paper/traces_synthetic_unpredictable_STWP.csv\r\n"
     ]
    }
   ],
   "source": [
    "!ls ../data/paper/traces_synthetic_*"
   ]
  },
  {
   "cell_type": "markdown",
   "metadata": {},
   "source": [
    "This is a plot which shows each workload shape, all for the LTWP version and base-level = 3000000. This is Fig. 8 in the paper"
   ]
  },
  {
   "cell_type": "code",
   "execution_count": 431,
   "metadata": {
    "ExecuteTime": {
     "end_time": "2016-12-15T10:15:07.951031",
     "start_time": "2016-12-15T10:15:01.319345"
    },
    "code_folding": [
     6
    ],
    "collapsed": false
   },
   "outputs": [
    {
     "data": {
      "image/png": "[encoded data removed]",
      "text/plain": [
       "<matplotlib.figure.Figure at 0x7f48f5fdb630>"
      ]
     },
     "metadata": {},
     "output_type": "display_data"
    }
   ],
   "source": [
    "# Load all workloads from CSVs\n",
    "cases = df.index.levels[0]            # Names of each case\n",
    "dfw = pd.DataFrame()\n",
    "for case in cases:\n",
    "    data = pd.read_csv(\"../data/processed/traces_synthetic_{}_LTWP.csv\".format(case.lower()),\n",
    "                       index_col=0).T\n",
    "    data[\"Case\"] = case\n",
    "    data[\"Level\"] = data.index\n",
    "    data.set_index([\"Case\", \"Level\"])\n",
    "    dfw = dfw.append(data)\n",
    "dfw = dfw.set_index([\"Case\", \"Level\"]).reindex().sort_index().T\n",
    "\n",
    "# Plot them all in a single graph (only for base_level=3000000)\n",
    "\n",
    "# Workloads\n",
    "k = dfw.loc[:, pd.IndexSlice[:, \"3000000\"]].astype(float)\n",
    "k.index.name = \"Time slot\"\n",
    "# Nombres de los casos\n",
    "k.columns = k.columns.get_level_values(0)\n",
    "\n",
    "# Force this given order in the subplots\n",
    "selection = [\"Static\", \"Periodic\", \"Increasing\", \n",
    "             \"Decreasing\", \"Unpredictable\", \"Once\", \"Everything\"]\n",
    "\n",
    "with matplotlib.style.context(paper_style):\n",
    "    axarr = k[selection].plot(subplots=True, sharex=True, layout=(4,2),\n",
    "                              lw=0.4, color=\"steelblue\", alpha=0.7, legend=False, \n",
    "                              rot=90,\n",
    "                              figsize=(3.3,5))#, fontsize=7)\n",
    "    plt.subplots_adjust(left=None, bottom=0.3, right=None, top=None,\n",
    "                        wspace=0.3,  hspace=0.4)\n",
    "    for ax, title in zip(axarr.flat, selection):\n",
    "        ax.set_title(title)#, fontsize=11)\n",
    "        # Lo siguiente fuerza a usar notación científica\n",
    "        ax.yaxis.get_major_formatter().set_powerlimits((0, 1))\n",
    "        ax.set_ylim(1e6,6.5e6)\n",
    "for ax in axarr[:,0]:\n",
    "    ax.set_ylabel(\"rph\", rotation=90)\n",
    "plt.gcf().savefig(\"../reports/figures/synthetic-workloads.pgf\", bbox_inches=\"tight\")"
   ]
  },
  {
   "cell_type": "markdown",
   "metadata": {},
   "source": [
    "## Solutions"
   ]
  },
  {
   "cell_type": "markdown",
   "metadata": {},
   "source": [
    "There are 7 workload shapes, and each one in 4 different \"base level\", which makes a total of 28 scenarios. Each of these scenarios is solved several times: \n",
    "\n",
    "* Phase I is run 11 times over each scenario, for different value of `max_bins`, plus another one without binning (the \"optimal\"). This makes 28*12=336 experiments. We call this phase \"I\"\n",
    "* Phase II is run 11 times, using the same prediction than phase I (perfect prediction) and using the number of reserved instances given by Phase I for each of the 11 cases of binning. This makes 28*11=308 additional experiments. We call this phase \"II\".\n",
    "* Phase II is run again 11 times, for each solution with bins in phase \"I\", but using this time different workloads as STWP, to evaluate the sensibilty of the solution to the accuracy of the prediction. This makes 28*11=308 additional experiments. We call this phase \"R\" (Realization).\n",
    "* An \"Oracle\" solution is found for each of the 28 scenarios. This oracle knows the future STWP and is able to obtain an optimal solution for the STWP. It is implemented by running phase I of lloovia without binning, but passing the STWP instead of the LTWP as input. This makes additional 28 experiments. We call this phase \"O\" (Oracle).\n",
    "\n",
    "In total there are 980 experiments. In order to bound the total time required for running them all, we set timeouts to find the solution in each experiment. Phase \"I\" experiments are limited to 15 minutes for the cases with binning, and 1 hour for the cases without binning. Phase \"II\" and \"R\" do not use binning and they have a time limit per timeslot which is never reached (because a single timeslot solves usually very fast), so in practice they do not require any timeout. Phase \"O\" is run without binning and with a timeout of 1h.\n",
    "\n",
    "Given the large number of experiments, the time to complete all of them is large (around 32h in a Intel(R) Xeon(R) CPU E5-2660 0 @ 2.20GHz). You can replicate the experiment using the Snakefiles provided, which automate all the workflow. Alternatively you can use the provided pickle which summarizes the results of all these experiments in a single dataframe, useful to explore and plot the data. All intermediate pickles produced during the analysis are not provided in this repository, because they take a large space in disk (~1.5Gb). Those pickles contain the individual allocation found by Lllovia for each timeslot of each of the 980 experiments.\n",
    "\n"
   ]
  },
  {
   "cell_type": "markdown",
   "metadata": {
    "ExecuteTime": {
     "end_time": "2016-12-15T10:33:58.416065",
     "start_time": "2016-12-15T10:33:58.204856"
    }
   },
   "source": [
    "### Read the final solution from file"
   ]
  },
  {
   "cell_type": "code",
   "execution_count": 463,
   "metadata": {
    "ExecuteTime": {
     "end_time": "2016-12-15T11:10:29.105181",
     "start_time": "2016-12-15T11:10:29.095915"
    },
    "collapsed": true
   },
   "outputs": [],
   "source": [
    "df = pd.read_pickle(\"../data/processed/all_experiments_result.pickle\")"
   ]
  },
  {
   "cell_type": "markdown",
   "metadata": {},
   "source": [
    "The resulting dataframe is multi-indexed by the name of each case, the base-level, the phase and the number of `max_bins` used. There is one row per experiment. Fore example, here is the first one:"
   ]
  },
  {
   "cell_type": "code",
   "execution_count": 446,
   "metadata": {
    "ExecuteTime": {
     "end_time": "2016-12-15T10:36:43.846536",
     "start_time": "2016-12-15T10:36:43.235955"
    },
    "collapsed": false
   },
   "outputs": [
    {
     "data": {
      "text/html": [
       "<div>\n",
       "<table border=\"1\" class=\"dataframe\">\n",
       "  <thead>\n",
       "    <tr style=\"text-align: right;\">\n",
       "      <th></th>\n",
       "      <th></th>\n",
       "      <th></th>\n",
       "      <th></th>\n",
       "      <th>cost</th>\n",
       "      <th>seconds_to_solve</th>\n",
       "      <th>seconds_to_create</th>\n",
       "      <th>frac_gap</th>\n",
       "      <th>max_seconds</th>\n",
       "      <th>status</th>\n",
       "    </tr>\n",
       "    <tr>\n",
       "      <th>Case</th>\n",
       "      <th>Base level</th>\n",
       "      <th>Phase</th>\n",
       "      <th>max_bins</th>\n",
       "      <th></th>\n",
       "      <th></th>\n",
       "      <th></th>\n",
       "      <th></th>\n",
       "      <th></th>\n",
       "      <th></th>\n",
       "    </tr>\n",
       "  </thead>\n",
       "  <tbody>\n",
       "    <tr>\n",
       "      <th>Decreasing</th>\n",
       "      <th>50000</th>\n",
       "      <th>I</th>\n",
       "      <th>5</th>\n",
       "      <td>1677.188</td>\n",
       "      <td>0.048798</td>\n",
       "      <td>0.014099</td>\n",
       "      <td>0.01</td>\n",
       "      <td>900.0</td>\n",
       "      <td>optimal</td>\n",
       "    </tr>\n",
       "  </tbody>\n",
       "</table>\n",
       "</div>"
      ],
      "text/plain": [
       "                                          cost  seconds_to_solve  \\\n",
       "Case       Base level Phase max_bins                               \n",
       "Decreasing 50000      I     5         1677.188          0.048798   \n",
       "\n",
       "                                      seconds_to_create frac_gap  max_seconds  \\\n",
       "Case       Base level Phase max_bins                                            \n",
       "Decreasing 50000      I     5                  0.014099     0.01        900.0   \n",
       "\n",
       "                                       status  \n",
       "Case       Base level Phase max_bins           \n",
       "Decreasing 50000      I     5         optimal  "
      ]
     },
     "execution_count": 446,
     "metadata": {},
     "output_type": "execute_result"
    }
   ],
   "source": [
    "df.head(1)"
   ]
  },
  {
   "cell_type": "markdown",
   "metadata": {},
   "source": [
    "It shows data about the case \"Decreasing\" with base level 50000, phase \"I\" with 5 bins. The only data stored per experiment is the final cost of the solution, the time required to create and solve the problem, some parameters passed to cbc (frac_gap and the timeout max_seconds), and the status of the solution. This status can be one of:\n",
    "\n",
    "* `optimal` The solver ran until the end and found the optimal solution (for that number of bins)\n",
    "* `aborted` The time limit given in `max_seconds` was reached, and no solution was found. In this case, the value of column `cost` is the best lower bound known by the solver at that point. \n",
    "* `overfull` This can only happen in phase \"R\", when the actual workload (STWP) is creater than predicted in LTWP. In this csae, is it possible that at some timeslots the workload cannot be fulfilled with the available ondemand instances. In this case Lloovia tries to maximize the performance during those timeslots, no matter the cost.\n",
    "\n",
    "**Note about the timeout:** The value of `max_seconds` passed to the cbc solver is not \"wall time\". Cbc divides that time between the number of execution threads. In our case, we used a machine with two cores and ran cbc in two threads. This means that, when `max_seconds=900`, the solver will abort the execution if it runs for more than 450 seconds."
   ]
  },
  {
   "cell_type": "code",
   "execution_count": 454,
   "metadata": {
    "ExecuteTime": {
     "end_time": "2016-12-15T10:51:24.207909",
     "start_time": "2016-12-15T10:51:24.157965"
    },
    "collapsed": false
   },
   "outputs": [
    {
     "name": "stdout",
     "output_type": "stream",
     "text": [
      "Number of experiment results in phase I  = 336\n",
      "Number of experiment results in phase II = 308\n",
      "Number of experiment results in phase R  = 28\n",
      "Number of experiment results in phase O  = 28\n"
     ]
    }
   ],
   "source": [
    "for phase in [\"I\", \"II\", \"R\", \"O\"]:\n",
    "    print(\"Number of experiment results in phase %-2s = %d\" % \n",
    "          (phase, len(df.query(\"Phase=='%s'\" % phase ))))"
   ]
  },
  {
   "cell_type": "markdown",
   "metadata": {},
   "source": [
    "Some general statistics about the number of solved/aborted experiments, per phase. "
   ]
  },
  {
   "cell_type": "code",
   "execution_count": 455,
   "metadata": {
    "ExecuteTime": {
     "end_time": "2016-12-15T10:55:44.961826",
     "start_time": "2016-12-15T10:55:44.801746"
    },
    "collapsed": false
   },
   "outputs": [
    {
     "data": {
      "text/plain": [
       "Phase  status  \n",
       "I      optimal     294\n",
       "       aborted      42\n",
       "II     optimal     281\n",
       "O      aborted      14\n",
       "       optimal      14\n",
       "R      optimal      27\n",
       "       overfull      1\n",
       "Name: status, dtype: int64"
      ]
     },
     "execution_count": 455,
     "metadata": {},
     "output_type": "execute_result"
    }
   ],
   "source": [
    "df.reset_index().groupby(\"Phase\").status.value_counts()"
   ]
  },
  {
   "cell_type": "markdown",
   "metadata": {},
   "source": [
    "## Phase I"
   ]
  },
  {
   "cell_type": "markdown",
   "metadata": {},
   "source": [
    "### Graphics of solving time"
   ]
  },
  {
   "cell_type": "code",
   "execution_count": 492,
   "metadata": {
    "ExecuteTime": {
     "end_time": "2016-12-15T11:22:52.167775",
     "start_time": "2016-12-15T11:22:52.111392"
    },
    "collapsed": false
   },
   "outputs": [],
   "source": [
    "def time_plot(all_data, case, level, \n",
    "              ax=None, legend=True, title=True, plot_phase_II=True):\n",
    "    # Get the data for the given case and level\n",
    "    data = all_data.loc[(case, level, \"I\"), \n",
    "                        [\"seconds_to_create\", \"seconds_to_solve\", \"status\"]\n",
    "                       ].reset_index()   \n",
    "    if title:\n",
    "        title=\"{} {}\".format(case, level)\n",
    "    else:\n",
    "        title=\"\"\n",
    "    labels = [\"sec to create\", \"sec to solve\"]\n",
    "    ax = data.plot(x=\"max_bins\", y=\"seconds_to_create\",\n",
    "                   title=title, marker=\"o\", #ls=\"--\", dashes=(1,1),\n",
    "                   ax=ax, legend=legend)\n",
    "    ax = data.plot(x=\"max_bins\", y=\"seconds_to_solve\",\n",
    "                  marker=\"s\", ls=\"solid\",\n",
    "                  ax=ax, legend=legend)\n",
    "    \n",
    "    if plot_phase_II:\n",
    "        data2 = all_data.loc[(case, level, \"II\"), \n",
    "                [\"seconds_to_create\", \"seconds_to_solve\"]].reset_index()\n",
    "        data2.plot(x=\"max_bins\", y=[\"seconds_to_create\", \"seconds_to_solve\"], \n",
    "                         marker=\"s\", markersize=3, ax=ax, legend=legend)\n",
    "        labels = [x + \" I\" for x in labels]\n",
    "        labels+= [\"sec to create II\", \"sec to solve II\"]\n",
    "\n",
    "    aborted = data[data.status.str.contains(\"aborted\") |\n",
    "                   data.status.str.contains(\"error\")]\n",
    "    if len(aborted):\n",
    "        aborted.plot(ax=ax, x=\"max_bins\", y=[\"seconds_to_solve\"], \n",
    "                     linestyle=\"\", color=\"y\", \n",
    "                     marker = \"D\", markerfacecolor=\"white\",\n",
    "                     markeredgecolor=\"k\", \n",
    "                     markeredgewidth=0.5,\n",
    "                     legend=legend)\n",
    "        labels+=[\"aborted\"]\n",
    "        \n",
    "    ax.set_yscale(\"log\")\n",
    "    ax.set_xscale(\"log\")\n",
    "    requested_bins = [int(x) for x in data.max_bins.tolist()]\n",
    "    requested_bins = [5, 20, 80, 400, 1600, 8760]\n",
    "    ax.set_xticks(requested_bins)\n",
    "    ax.set_xticklabels(requested_bins[:-1] + [\"No bins\"], rotation='vertical')\n",
    "    ax.set_xlabel(\"Bins\")\n",
    "    ax.set_yticks([0.1, 1, 10, 60, 60*10, 60*60])\n",
    "    ax.set_yticklabels([\"0.1s\", \"1s\", \"10s\", \"1min\", \"10min\", \"1h\"])\n",
    "    ax.set_ylim(0,60*80)\n",
    "    ax.set_xlim(0,10000)\n",
    "    ax.spines[\"top\"].set_visible(False)\n",
    "    ax.spines[\"right\"].set_visible(False)\n",
    "    if legend:\n",
    "        L=ax.legend(labels=labels, loc=\"best\")\n",
    "    return ax"
   ]
  },
  {
   "cell_type": "markdown",
   "metadata": {},
   "source": [
    "This function allows us to plot the relationship between the value of `max_bins` and the time required to create and solve each problem, for any of the cases and load-levels. For exmple:"
   ]
  },
  {
   "cell_type": "code",
   "execution_count": 457,
   "metadata": {
    "ExecuteTime": {
     "end_time": "2016-12-15T10:58:01.163795",
     "start_time": "2016-12-15T10:57:58.880912"
    },
    "collapsed": false
   },
   "outputs": [
    {
     "data": {
      "image/png": "[encoded data removed]",
      "text/plain": [
       "<matplotlib.figure.Figure at 0x7f48f67d1b00>"
      ]
     },
     "metadata": {},
     "output_type": "display_data"
    }
   ],
   "source": [
    "with matplotlib.style.context(notebook_style):\n",
    "    time_plot(df, \"Decreasing\", 3000000, plot_phase_II=False)\n",
    "    plt.gcf().set_size_inches((4,2))"
   ]
  },
  {
   "cell_type": "markdown",
   "metadata": {},
   "source": [
    "The following code plots a grid with all cases and levels. It is Fig. 9 in the paper"
   ]
  },
  {
   "cell_type": "code",
   "execution_count": 458,
   "metadata": {
    "ExecuteTime": {
     "end_time": "2016-12-15T11:02:43.807100",
     "start_time": "2016-12-15T11:02:24.148119"
    },
    "collapsed": false
   },
   "outputs": [
    {
     "data": {
      "image/png": "[encoded data removed]",
      "text/plain": [
       "<matplotlib.figure.Figure at 0x7f48eae429e8>"
      ]
     },
     "metadata": {},
     "output_type": "display_data"
    }
   ],
   "source": [
    "# Set the order of the rows in the grid of plots\n",
    "casetitles = [\"Static\", \"Periodic\", \"Increasing\", \"Decreasing\",\n",
    "              \"Unpredictable\", \"Once\", \"Everything\"]\n",
    "\n",
    "# Select the order of the columns in the grid of plots\n",
    "levels = [50000,100000,1000000,3000000]\n",
    "\n",
    "with matplotlib.style.context(paper_style):\n",
    "    # Create the subplots array\n",
    "    f, axarr = plt.subplots (len(casetitles), len(levels), sharex=True, \n",
    "                             sharey=True, figsize=(15,30))\n",
    "\n",
    "    # Plot each subplot\n",
    "    for i,case in enumerate(casetitles):\n",
    "        for j,level in enumerate(levels):\n",
    "            a = time_plot(df, case, level, \n",
    "                          ax=axarr[i,j], legend=False, title=False, \n",
    "                          plot_phase_II=False)\n",
    "            \n",
    "    # Set the size of the figure for the paper\n",
    "    f.set_size_inches(3.5,5)\n",
    "\n",
    "    # Create titles for rows and columns. Some case names are abridged\n",
    "    # to fit in the small space\n",
    "    for ax, casetitle in zip(axarr[:,0], \n",
    "            [\"Static\", \"Periodic\", \"Increas.\", \"Decreas.\", \n",
    "             \"Unpredict.\", \"Once\", \"Everything\"]):\n",
    "        ax.set_ylabel(casetitle, rotation=90)\n",
    "        \n",
    "    # For the column titles we use scientific notation to save space\n",
    "    for ax, level in zip(axarr[0,:], [\"5\\cdot10^4\", \n",
    "                                      \"10^5\", \n",
    "                                      \"10^6\", \n",
    "                                      \"3\\cdot10^6\" ]):\n",
    "        ax.set_title(\"Level ${}$\".format(level))\n",
    "\n",
    "    # Create a custom legend\n",
    "    patches, labels = axarr[-1,-1].get_legend_handles_labels()\n",
    "    f.legend(patches, labels=[\"creating\", \"solving\", \"aborted\"], \n",
    "             bbox_to_anchor=(0.5, 0.05), loc=\"center\",\n",
    "             markerscale=1.3,\n",
    "             ncol=3, shadow=False, fancybox=True, framealpha=0.8, \n",
    "             frameon=True)\n",
    "    f.subplots_adjust(bottom=0.2, left=0.15,right=0.95, top=0.95)"
   ]
  },
  {
   "cell_type": "markdown",
   "metadata": {},
   "source": [
    "## Phase II (Perfect Prediction)"
   ]
  },
  {
   "cell_type": "markdown",
   "metadata": {
    "collapsed": true
   },
   "source": [
    "### Overcost"
   ]
  },
  {
   "cell_type": "markdown",
   "metadata": {},
   "source": [
    "In the dataframe we have the total cost (in dollars) of each solution. In order to compare each solution which used binning with the optimal solution which used no binning, it is more relevant to compute the percentage of overcost. It is defined as:\n",
    "\n",
    "```\n",
    "overcost = 100*(cost_of_solution_with_binning - cost_of_solution_without_binning)/cost_of_solution_without_binning\n",
    "```\n",
    "\n",
    "However in some cases the solution without binning is not available because the solver was aborted due to the timeout. In those cases, instead of the optimal cost we use the lower bound of the optimal cost. This comparison is conservative, in the sense that the actual overcost would be smaller."
   ]
  },
  {
   "cell_type": "code",
   "execution_count": 476,
   "metadata": {
    "ExecuteTime": {
     "end_time": "2016-12-15T11:18:49.961014",
     "start_time": "2016-12-15T11:18:49.615717"
    },
    "collapsed": false
   },
   "outputs": [],
   "source": [
    "import itertools\n",
    "for case, level in itertools.product(df.index.levels[0], df.index.levels[1]):\n",
    "    # We get the optimal solution from phase I, for each case/level\n",
    "    optimal = df.loc[(case, level, \"I\"), \"cost\"].loc[8760]\n",
    "    # Compute the overcost, and add it as a new column in the dataframe\n",
    "    df.loc[pd.IndexSlice[case, level, \"I\":\"II\", :], \"% overcost\"] = (df.loc[\n",
    "                           pd.IndexSlice[case, level, \"I\":\"II\", :],\"cost\"]\n",
    "                                            -optimal)*100/optimal\n",
    "    # For the realization phase we compare against the oracle\n",
    "    oracle = df.loc[(case, level, \"O\"), \"cost\"].loc[8760]\n",
    "    df.loc[pd.IndexSlice[case, level, \"R\", :], \"% overcost\"] = (df.loc[\n",
    "                           pd.IndexSlice[case, level, \"R\", :],\"cost\"]\n",
    "                                            -oracle)*100/oracle"
   ]
  },
  {
   "cell_type": "markdown",
   "metadata": {},
   "source": [
    "The overcost is computed for both phases I, II and R, but in phase I it does not have much sense. Using binning, the solution in phase I is not optimal, and thus the overcost can be large. However, phase II will refine the result by recomputing the optimal number of ondemand instances with the actual workload, without binning, and this will reduce the overcost. So we will study only the overcost for phase II (both in \"II\" and \"R\" cases)"
   ]
  },
  {
   "cell_type": "code",
   "execution_count": 485,
   "metadata": {
    "ExecuteTime": {
     "end_time": "2016-12-15T11:21:26.774975",
     "start_time": "2016-12-15T11:21:26.754171"
    },
    "collapsed": false
   },
   "outputs": [
    {
     "data": {
      "text/html": [
       "<div>\n",
       "<table border=\"1\" class=\"dataframe\">\n",
       "  <thead>\n",
       "    <tr style=\"text-align: right;\">\n",
       "      <th></th>\n",
       "      <th></th>\n",
       "      <th></th>\n",
       "      <th></th>\n",
       "      <th>cost</th>\n",
       "      <th>seconds_to_solve</th>\n",
       "      <th>seconds_to_create</th>\n",
       "      <th>frac_gap</th>\n",
       "      <th>max_seconds</th>\n",
       "      <th>status</th>\n",
       "      <th>% overcost</th>\n",
       "    </tr>\n",
       "    <tr>\n",
       "      <th>Case</th>\n",
       "      <th>Base level</th>\n",
       "      <th>Phase</th>\n",
       "      <th>max_bins</th>\n",
       "      <th></th>\n",
       "      <th></th>\n",
       "      <th></th>\n",
       "      <th></th>\n",
       "      <th></th>\n",
       "      <th></th>\n",
       "      <th></th>\n",
       "    </tr>\n",
       "  </thead>\n",
       "  <tbody>\n",
       "    <tr>\n",
       "      <th rowspan=\"5\" valign=\"top\">Decreasing</th>\n",
       "      <th rowspan=\"5\" valign=\"top\">50000</th>\n",
       "      <th rowspan=\"5\" valign=\"top\">II</th>\n",
       "      <th>5</th>\n",
       "      <td>1626.268</td>\n",
       "      <td>0.151164</td>\n",
       "      <td>0.007354</td>\n",
       "      <td>None</td>\n",
       "      <td>600.0</td>\n",
       "      <td>optimal</td>\n",
       "      <td>5.905092e+00</td>\n",
       "    </tr>\n",
       "    <tr>\n",
       "      <th>10</th>\n",
       "      <td>1535.590</td>\n",
       "      <td>151.136600</td>\n",
       "      <td>11.808506</td>\n",
       "      <td>None</td>\n",
       "      <td>600.0</td>\n",
       "      <td>optimal</td>\n",
       "      <td>3.287138e-12</td>\n",
       "    </tr>\n",
       "    <tr>\n",
       "      <th>20</th>\n",
       "      <td>1535.590</td>\n",
       "      <td>168.320099</td>\n",
       "      <td>12.977067</td>\n",
       "      <td>None</td>\n",
       "      <td>600.0</td>\n",
       "      <td>optimal</td>\n",
       "      <td>3.287138e-12</td>\n",
       "    </tr>\n",
       "    <tr>\n",
       "      <th>40</th>\n",
       "      <td>1535.590</td>\n",
       "      <td>170.825480</td>\n",
       "      <td>12.589924</td>\n",
       "      <td>None</td>\n",
       "      <td>600.0</td>\n",
       "      <td>optimal</td>\n",
       "      <td>3.287138e-12</td>\n",
       "    </tr>\n",
       "    <tr>\n",
       "      <th>80</th>\n",
       "      <td>1535.590</td>\n",
       "      <td>162.678686</td>\n",
       "      <td>12.354026</td>\n",
       "      <td>None</td>\n",
       "      <td>600.0</td>\n",
       "      <td>optimal</td>\n",
       "      <td>3.287138e-12</td>\n",
       "    </tr>\n",
       "  </tbody>\n",
       "</table>\n",
       "</div>"
      ],
      "text/plain": [
       "                                          cost  seconds_to_solve  \\\n",
       "Case       Base level Phase max_bins                               \n",
       "Decreasing 50000      II    5         1626.268          0.151164   \n",
       "                            10        1535.590        151.136600   \n",
       "                            20        1535.590        168.320099   \n",
       "                            40        1535.590        170.825480   \n",
       "                            80        1535.590        162.678686   \n",
       "\n",
       "                                      seconds_to_create frac_gap  max_seconds  \\\n",
       "Case       Base level Phase max_bins                                            \n",
       "Decreasing 50000      II    5                  0.007354     None        600.0   \n",
       "                            10                11.808506     None        600.0   \n",
       "                            20                12.977067     None        600.0   \n",
       "                            40                12.589924     None        600.0   \n",
       "                            80                12.354026     None        600.0   \n",
       "\n",
       "                                       status    % overcost  \n",
       "Case       Base level Phase max_bins                         \n",
       "Decreasing 50000      II    5         optimal  5.905092e+00  \n",
       "                            10        optimal  3.287138e-12  \n",
       "                            20        optimal  3.287138e-12  \n",
       "                            40        optimal  3.287138e-12  \n",
       "                            80        optimal  3.287138e-12  "
      ]
     },
     "execution_count": 485,
     "metadata": {},
     "output_type": "execute_result"
    }
   ],
   "source": [
    "df.query(\"Phase=='II'\").head()"
   ]
  },
  {
   "cell_type": "markdown",
   "metadata": {},
   "source": [
    "### Graphics of overcost"
   ]
  },
  {
   "cell_type": "code",
   "execution_count": 497,
   "metadata": {
    "ExecuteTime": {
     "end_time": "2016-12-15T11:26:22.457386",
     "start_time": "2016-12-15T11:26:22.414050"
    },
    "collapsed": true
   },
   "outputs": [],
   "source": [
    "def plot_cost(all_data, case, level, ax = None,\n",
    "              plot_phase_I = False, legend=True):  \n",
    "    phase1 = all_data.loc[(case, level, \"I\"), :].reset_index()\n",
    "    phase2 = all_data.loc[(case, level, \"II\"), :].reset_index()\n",
    "    optimal_status = phase1.status.iloc[-1]\n",
    "    if optimal_status==\"aborted\":\n",
    "        label=\"% resp. best lower bound\"\n",
    "        style1 = dict(color=\"orange\", ls=\"solid\",\n",
    "                     # dashes=(1,1),\n",
    "                     marker=\"o\", markerfacecolor=\"white\",\n",
    "                     markeredgecolor=\"k\", \n",
    "                     markeredgewidth=0.5,\n",
    "                     markersize=2.5,\n",
    "                     label=label)\n",
    "        style2 = style1.copy()\n",
    "        style2.update(dict(color=\"red\", marker=\"s\"))\n",
    "    elif optimal_status == \"optimal\":\n",
    "        label = \"% resp. optimal\"\n",
    "        style1 = dict(color=\"blue\", ls=\"solid\",\n",
    "                     marker=\"o\",\n",
    "                     label=label)\n",
    "        style2 = style1.copy()\n",
    "        style2.update(dict(color=\"green\", marker=\"o\"))\n",
    "    else:\n",
    "        style1 = dict(color=\"orange\", ls=\"solid\",\n",
    "                     marker=\"D\",\n",
    "                     label=\"% unknown\")\n",
    "        style2 = style1.copy().update(dict(color=\"red\", marker=\"d\"))\n",
    "        \n",
    "    labels = []\n",
    "    if plot_phase_I:\n",
    "        ax = phase1.plot(x=\"max_bins\", y=\"% overcost\", \n",
    "                         **style1, #marker=marker1,  label=\"% overcost I\", color=color1, ls=ls, dashes=dashes,\n",
    "                         ax=ax, legend=legend)\n",
    "        labels.append(\"% overcost I\")\n",
    "        \n",
    "    phase2.plot(x=\"max_bins\", y=\"% overcost\",\n",
    "                **style2, # marker=marker2,  label=label, color=color2, ls=ls, dashes=dashes,\n",
    "                ax=ax, legend=legend)\n",
    "    labels.append(label)\n",
    "    \n",
    "    requested_bins = [int(x) for x in phase1.max_bins.tolist()]\n",
    "    requested_bins = [5, 20, 80, 400, 1600, 8760]\n",
    "    if ax==None:\n",
    "        ax=plt.gca()\n",
    "\n",
    "    ax.set_xscale(\"log\")\n",
    "    ax.set_xticks(requested_bins)\n",
    "    ax.set_xlabel(\"Bins\")\n",
    "    if legend: \n",
    "        ax.legend(labels=labels, loc='upper right')\n",
    "    ax.set_xticklabels(requested_bins[:-1] + [\"No bins\"], rotation='vertical')\n",
    "    return ax"
   ]
  },
  {
   "cell_type": "markdown",
   "metadata": {},
   "source": [
    "This function allows us to plot the relationship between the value of `max_bins` and the overcost of the solution with respect the optimal (or its lower bound), for any of the cases and load-levels. The graph is depicted in blue if the overcost is with respect the optimal, or in red if it is with respect to the best lower bound"
   ]
  },
  {
   "cell_type": "code",
   "execution_count": 498,
   "metadata": {
    "ExecuteTime": {
     "end_time": "2016-12-15T11:26:23.980621",
     "start_time": "2016-12-15T11:26:23.667912"
    },
    "collapsed": false
   },
   "outputs": [
    {
     "data": {
      "image/png": "[encoded data removed]",
      "text/plain": [
       "<matplotlib.figure.Figure at 0x7f48f0316630>"
      ]
     },
     "metadata": {},
     "output_type": "display_data"
    }
   ],
   "source": [
    "with matplotlib.style.context(paper_style):\n",
    "    ax = plot_cost(df, \"Periodic\", 1000000, plot_phase_I=False)"
   ]
  },
  {
   "cell_type": "code",
   "execution_count": 499,
   "metadata": {
    "ExecuteTime": {
     "end_time": "2016-12-15T11:26:26.041958",
     "start_time": "2016-12-15T11:26:25.735285"
    },
    "collapsed": false
   },
   "outputs": [
    {
     "data": {
      "image/png": "[encoded data removed]",
      "text/plain": [
       "<matplotlib.figure.Figure at 0x7f48f6776400>"
      ]
     },
     "metadata": {},
     "output_type": "display_data"
    }
   ],
   "source": [
    "with matplotlib.style.context(paper_style):\n",
    "    ax = plot_cost(df, \"Periodic\", 3000000, plot_phase_I=False)"
   ]
  },
  {
   "cell_type": "markdown",
   "metadata": {},
   "source": [
    "As it can be seen in the above plot, the graph can be incomplete. In the example above there is no points for `max_bins` above 200. This happens when the solution of Phase I is not available for that number of bins, because of the timeout which aborted the solver. In such a case phase II cannot be performed (because Phase II needs as input the allocation found in phase I)"
   ]
  },
  {
   "cell_type": "code",
   "execution_count": 353,
   "metadata": {
    "ExecuteTime": {
     "end_time": "2016-12-14T19:31:29.211149",
     "start_time": "2016-12-14T19:31:21.474435"
    },
    "collapsed": false,
    "hide_input": true,
    "scrolled": false
   },
   "outputs": [
    {
     "data": {
      "image/png": "[encoded data removed]",
      "text/plain": [
       "<matplotlib.figure.Figure at 0x7f48f2143cc0>"
      ]
     },
     "metadata": {},
     "output_type": "display_data"
    }
   ],
   "source": [
    "# Preparo qué casos quiero mostrar (y en qué orden)\n",
    "casetitles = [\"Static\", \"Periodic\", \"Increasing\", \"Decreasing\",\n",
    "              \"Unpredictable\", \"Once\", \"Everything\"]\n",
    "levels = [5,10,100,300]\n",
    "\n",
    "with matplotlib.style.context(paper_style):\n",
    "    # Preparo un array de subplots\n",
    "    f, axarr = plt.subplots (len(casetitles), len(levels), sharex=True, sharey=True, figsize=(15,30))\n",
    "\n",
    "    # Hago el plot de cada caso, cada uno en su subplot correspondiente\n",
    "    for i,case in enumerate(casetitles):\n",
    "        for j,level in enumerate(levels):\n",
    "            plot_cost(df, case, level*10000, ax=axarr[i,j],\n",
    "                          plot_phase_I = False, legend=False)\n",
    "\n",
    "    # Aumento el tamaño de la figura (por defecto muy pequeño)\n",
    "    f.set_size_inches(3.5,5)\n",
    "    #f.tight_layout()\n",
    "    # f.suptitle(\"% Overcost resp. optimal or lower bound\", y=1.03)\n",
    "\n",
    "    # Pongo títulos a filas y columnas\n",
    "    for ax, casetitle in zip(axarr[:,0], \n",
    "            [\"Static\", \"Periodic\", \"Increas.\", \"Decreas.\", \"Unpredict.\", \"Once\", \"Everything\"]\n",
    "            ):\n",
    "        ax.set_ylabel(casetitle, rotation=90)\n",
    "        ax.set_ylim([-0.5,10])\n",
    "    \n",
    "    for ax, level in zip(axarr[0,:], [\"5\\cdot10^4\", \"10^5\", \"10^6\", \"3\\cdot10^6\" ]):\n",
    "        ax.set_title(\"Level ${}$\".format(level))\n",
    "        ax.set_xlim(0,8760)\n",
    "    patches0, labels = axarr[0,0].get_legend_handles_labels()\n",
    "    patches1, labels = axarr[-1,-1].get_legend_handles_labels()\n",
    "    patches = patches0 + patches1\n",
    "    f.legend(patches, labels=[\"% resp. optimal\", \"% resp. best lower bound\"], \n",
    "             bbox_to_anchor=(0.5, 0.05), loc=\"center\",\n",
    "             markerscale=1.3,\n",
    "             ncol=2, shadow=False, fancybox=True, framealpha=1, \n",
    "             frameon=True)\n",
    "    f.subplots_adjust(bottom=0.2, left=0.15,right=0.95, top=0.95)"
   ]
  },
  {
   "cell_type": "markdown",
   "metadata": {},
   "source": [
    "# Real traces: Wikipedia"
   ]
  },
  {
   "cell_type": "markdown",
   "metadata": {},
   "source": [
    "## Binning analysis"
   ]
  },
  {
   "cell_type": "code",
   "execution_count": 513,
   "metadata": {
    "ExecuteTime": {
     "end_time": "2016-12-15T18:21:35.358083",
     "start_time": "2016-12-15T18:21:35.340227"
    },
    "collapsed": true
   },
   "outputs": [],
   "source": [
    "wikidata = pd.read_pickle(\"../data/processed/all_wikipedia_results.pickle\")"
   ]
  },
  {
   "cell_type": "code",
   "execution_count": 515,
   "metadata": {
    "ExecuteTime": {
     "end_time": "2016-12-15T18:21:56.048785",
     "start_time": "2016-12-15T18:21:56.014796"
    },
    "collapsed": false,
    "scrolled": true
   },
   "outputs": [
    {
     "data": {
      "text/plain": [
       "Phase  status \n",
       "I      optimal    11\n",
       "       aborted     1\n",
       "II     optimal    11\n",
       "O      aborted     2\n",
       "R      optimal     2\n",
       "Name: status, dtype: int64"
      ]
     },
     "execution_count": 515,
     "metadata": {},
     "output_type": "execute_result"
    }
   ],
   "source": [
    "wikidata.reset_index().groupby(\"Phase\").status.value_counts()"
   ]
  },
  {
   "cell_type": "code",
   "execution_count": null,
   "metadata": {
    "collapsed": true
   },
   "outputs": [],
   "source": []
  },
  {
   "cell_type": "code",
   "execution_count": 522,
   "metadata": {
    "ExecuteTime": {
     "end_time": "2016-12-15T18:39:10.737901",
     "start_time": "2016-12-15T18:39:09.705434"
    },
    "collapsed": false,
    "scrolled": true
   },
   "outputs": [
    {
     "data": {
      "image/png": "[encoded data removed]",
      "text/plain": [
       "<matplotlib.figure.Figure at 0x7f48f0f29518>"
      ]
     },
     "metadata": {},
     "output_type": "display_data"
    }
   ],
   "source": [
    "with matplotlib.style.context(paper_style):\n",
    "    ax = time_plot(wikidata, \"Wikipedia\", 2014, plot_phase_II=False)\n",
    "    plt.gcf().set_size_inches(3.3,1.5)\n",
    "    plt.gcf().savefig(\"../reports/figures/fig-012-time-to-solve.pgf\",\n",
    "                     bbox_inches=\"tight\")"
   ]
  },
  {
   "cell_type": "code",
   "execution_count": 517,
   "metadata": {
    "ExecuteTime": {
     "end_time": "2016-12-15T18:22:32.914125",
     "start_time": "2016-12-15T18:22:32.895686"
    },
    "collapsed": false
   },
   "outputs": [],
   "source": [
    "s = wikidata.loc[(\"Wikipedia\", 2014, \"II\")].copy()\n",
    "best_bound = wikidata.loc[(\"Wikipedia\", 2014, \"I\", 24*365)].cost"
   ]
  },
  {
   "cell_type": "code",
   "execution_count": 518,
   "metadata": {
    "ExecuteTime": {
     "end_time": "2016-12-15T18:22:34.174936",
     "start_time": "2016-12-15T18:22:33.051555"
    },
    "collapsed": false
   },
   "outputs": [
    {
     "data": {
      "image/png": "[encoded data removed]",
      "text/plain": [
       "<matplotlib.figure.Figure at 0x7f48ebe6e780>"
      ]
     },
     "metadata": {},
     "output_type": "display_data"
    }
   ],
   "source": [
    "s[\"% over lower bound\"] = np.round((s.cost - best_bound)/best_bound * 100, 5)\n",
    "\n",
    "with matplotlib.style.context(paper_style):\n",
    "    ax = s.plot(y=\"% over lower bound\", color=\"red\",\n",
    "               figsize=(3.3,1.5), marker=\"s\",\n",
    "               markerfacecolor=\"white\",\n",
    "               markeredgecolor=\"k\", \n",
    "               markeredgewidth=0.5\n",
    "               )\n",
    "\n",
    "    ax.set_xscale(\"log\")\n",
    "    requested_bins = [int(x) for x in s.index]\n",
    "                    # [5, 10, 20, 40, 80, 200, 400, 800, 1600, 3000, 6000, 8760]\n",
    "    ax.set_xticks(requested_bins)\n",
    "    ax.set_xticklabels(requested_bins[:-1] + [\"No bins\"], rotation='vertical')\n",
    "    ax.set_xlabel(\"Bins\", labelpad=-5)\n",
    "    ax.set_ylim(-0.1, 16)\n",
    "    ax.set_xlim(4.9, 8760)\n",
    "    annotate_subset = s.loc[10:200,[\"% over lower bound\"]].to_records()\n",
    "    for n,(i,j) in enumerate(annotate_subset):\n",
    "        ax.annotate(\"{:1.2f}\".format(j),\n",
    "                    xy=(i,j), \n",
    "                    textcoords=\"axes fraction\",  fontsize=7,\n",
    "                    xytext=(0.15+0.7/len(annotate_subset)*n, 0.7-0.6/len(annotate_subset)*n),\n",
    "                    arrowprops=dict(arrowstyle=\"->\",  alpha=0.5, color=\"k\", connectionstyle=\"arc3,rad=0.1\")\n",
    "                    )\n",
    "    plt.gcf().savefig(\"../reports/figures/fig-013-cost-vs-bins-labelled.pgf\",\n",
    "                    bbox_inches=\"tight\")"
   ]
  },
  {
   "cell_type": "markdown",
   "metadata": {},
   "source": [
    "## Influence of the prediction"
   ]
  },
  {
   "cell_type": "code",
   "execution_count": 527,
   "metadata": {
    "ExecuteTime": {
     "end_time": "2016-12-15T18:46:12.590343",
     "start_time": "2016-12-15T18:46:12.256644"
    },
    "collapsed": false
   },
   "outputs": [
    {
     "data": {
      "image/png": "[encoded data removed]",
      "text/plain": [
       "<matplotlib.figure.Figure at 0x7f48f0cb31d0>"
      ]
     },
     "metadata": {},
     "output_type": "display_data"
    }
   ],
   "source": [
    "workload = pd.read_csv(\"../data/processed/traces_en_wikipedia.csv\", \n",
    "                   sep=\";\", names=[\"time\", \"requests\"], header=None)\n",
    "workload.time = pd.to_datetime(workload.time)\n",
    "workload = workload.set_index(workload.time)\n",
    "with matplotlib.style.context(paper_style):\n",
    "    workload.resample('A').mean().plot(marker=\"o\", ylim=0, legend=None, \n",
    "                            figsize=(3.3, 1.2))\n",
    "    plt.xlabel('Year')\n",
    "    plt.ylabel('Requests')\n",
    "    # plt.gcf().savefig(\"../public/latex/paper/fig-010-wikipedia-load-per-year.pgf\",\n",
    "    #                 bbox_inches = 'tight')"
   ]
  },
  {
   "cell_type": "code",
   "execution_count": 530,
   "metadata": {
    "ExecuteTime": {
     "end_time": "2016-12-15T18:46:49.761344",
     "start_time": "2016-12-15T18:46:49.755438"
    },
    "collapsed": false
   },
   "outputs": [
    {
     "data": {
      "text/plain": [
       "8784"
      ]
     },
     "execution_count": 530,
     "metadata": {},
     "output_type": "execute_result"
    }
   ],
   "source": [
    "len(workload[\"2012\"])"
   ]
  },
  {
   "cell_type": "code",
   "execution_count": 591,
   "metadata": {
    "ExecuteTime": {
     "end_time": "2016-12-16T00:15:11.804297",
     "start_time": "2016-12-16T00:15:11.797051"
    },
    "collapsed": false
   },
   "outputs": [],
   "source": [
    "_x = pickle.load(open(\"/tmp/interim/phaseI/case_wikipedia_2014_multi_Azure_bins_40.pickle\", \"rb\"))"
   ]
  },
  {
   "cell_type": "code",
   "execution_count": 592,
   "metadata": {
    "ExecuteTime": {
     "end_time": "2016-12-16T00:15:12.443946",
     "start_time": "2016-12-16T00:15:12.439194"
    },
    "collapsed": false
   },
   "outputs": [
    {
     "data": {
      "text/plain": [
       "SolvingStatsI(max_bins=40, workload=LlooviaHistogram(30 elements), frac_gap=None, max_seconds=3600, creation_time=0.04349871282465756, solving_time=0.12526315706782043, status='optimal', lower_bound=None, optimal_cost=3582.3019999999992)"
      ]
     },
     "execution_count": 592,
     "metadata": {},
     "output_type": "execute_result"
    }
   ],
   "source": [
    "_x.solving_stats"
   ]
  },
  {
   "cell_type": "code",
   "execution_count": 593,
   "metadata": {
    "ExecuteTime": {
     "end_time": "2016-12-16T00:15:12.974110",
     "start_time": "2016-12-16T00:15:12.934661"
    },
    "collapsed": false
   },
   "outputs": [
    {
     "data": {
      "text/plain": [
       "612000.0"
      ]
     },
     "execution_count": 593,
     "metadata": {},
     "output_type": "execute_result"
    }
   ],
   "source": [
    "_x.compute_reserved_performance()"
   ]
  },
  {
   "cell_type": "code",
   "execution_count": 594,
   "metadata": {
    "ExecuteTime": {
     "end_time": "2016-12-16T00:15:13.881702",
     "start_time": "2016-12-16T00:15:13.874677"
    },
    "collapsed": true
   },
   "outputs": [],
   "source": [
    "_kk = _x.get_allocation_with_data()"
   ]
  },
  {
   "cell_type": "code",
   "execution_count": 595,
   "metadata": {
    "ExecuteTime": {
     "end_time": "2016-12-16T00:15:15.136198",
     "start_time": "2016-12-16T00:15:15.087412"
    },
    "collapsed": false
   },
   "outputs": [
    {
     "data": {
      "text/html": [
       "<div>\n",
       "<table border=\"1\" class=\"dataframe\">\n",
       "  <thead>\n",
       "    <tr style=\"text-align: right;\">\n",
       "      <th></th>\n",
       "      <th></th>\n",
       "      <th></th>\n",
       "      <th></th>\n",
       "      <th>VM</th>\n",
       "      <th>506665.325</th>\n",
       "      <th>2533326.625</th>\n",
       "      <th>4053322.6</th>\n",
       "      <th>5573318.575</th>\n",
       "      <th>6079983.9</th>\n",
       "      <th>6586649.225000001</th>\n",
       "      <th>7093314.55</th>\n",
       "      <th>7599979.875</th>\n",
       "      <th>8106645.2</th>\n",
       "      <th>...</th>\n",
       "      <th>15199959.75</th>\n",
       "      <th>15706625.075000001</th>\n",
       "      <th>16213290.4</th>\n",
       "      <th>16719955.725</th>\n",
       "      <th>17226621.05</th>\n",
       "      <th>17733286.375</th>\n",
       "      <th>19253282.35</th>\n",
       "      <th>20266613.0</th>\n",
       "      <th>perf</th>\n",
       "      <th>price</th>\n",
       "    </tr>\n",
       "    <tr>\n",
       "      <th>provider</th>\n",
       "      <th>rsv</th>\n",
       "      <th>Name</th>\n",
       "      <th>LS</th>\n",
       "      <th></th>\n",
       "      <th></th>\n",
       "      <th></th>\n",
       "      <th></th>\n",
       "      <th></th>\n",
       "      <th></th>\n",
       "      <th></th>\n",
       "      <th></th>\n",
       "      <th></th>\n",
       "      <th></th>\n",
       "      <th></th>\n",
       "      <th></th>\n",
       "      <th></th>\n",
       "      <th></th>\n",
       "      <th></th>\n",
       "      <th></th>\n",
       "      <th></th>\n",
       "      <th></th>\n",
       "      <th></th>\n",
       "      <th></th>\n",
       "      <th></th>\n",
       "    </tr>\n",
       "  </thead>\n",
       "  <tbody>\n",
       "    <tr>\n",
       "      <th rowspan=\"3\" valign=\"top\">azure</th>\n",
       "      <th rowspan=\"3\" valign=\"top\">False</th>\n",
       "      <th>Basic_A0</th>\n",
       "      <th>us-east-2</th>\n",
       "      <td>Basic_A0_us-east-2</td>\n",
       "      <td>3.0</td>\n",
       "      <td>0.0</td>\n",
       "      <td>1.0</td>\n",
       "      <td>0.0</td>\n",
       "      <td>0.0</td>\n",
       "      <td>2.0</td>\n",
       "      <td>0.0</td>\n",
       "      <td>0.0</td>\n",
       "      <td>1.0</td>\n",
       "      <td>...</td>\n",
       "      <td>0.0</td>\n",
       "      <td>0.0</td>\n",
       "      <td>2.0</td>\n",
       "      <td>0.0</td>\n",
       "      <td>0.0</td>\n",
       "      <td>2.0</td>\n",
       "      <td>2.0</td>\n",
       "      <td>0.0</td>\n",
       "      <td>204000.0</td>\n",
       "      <td>0.018</td>\n",
       "    </tr>\n",
       "    <tr>\n",
       "      <th>Standard_D1_v2</th>\n",
       "      <th>us-east-2</th>\n",
       "      <td>Standard_D1_v2_us-east-2</td>\n",
       "      <td>0.0</td>\n",
       "      <td>2.0</td>\n",
       "      <td>1.0</td>\n",
       "      <td>2.0</td>\n",
       "      <td>4.0</td>\n",
       "      <td>4.0</td>\n",
       "      <td>3.0</td>\n",
       "      <td>5.0</td>\n",
       "      <td>5.0</td>\n",
       "      <td>...</td>\n",
       "      <td>10.0</td>\n",
       "      <td>10.0</td>\n",
       "      <td>10.0</td>\n",
       "      <td>9.0</td>\n",
       "      <td>11.0</td>\n",
       "      <td>11.0</td>\n",
       "      <td>12.0</td>\n",
       "      <td>13.0</td>\n",
       "      <td>1586400.0</td>\n",
       "      <td>0.064</td>\n",
       "    </tr>\n",
       "    <tr>\n",
       "      <th>Standard_D2_v2</th>\n",
       "      <th>us-east-2</th>\n",
       "      <td>Standard_D2_v2_us-east-2</td>\n",
       "      <td>0.0</td>\n",
       "      <td>0.0</td>\n",
       "      <td>1.0</td>\n",
       "      <td>1.0</td>\n",
       "      <td>0.0</td>\n",
       "      <td>0.0</td>\n",
       "      <td>1.0</td>\n",
       "      <td>0.0</td>\n",
       "      <td>0.0</td>\n",
       "      <td>...</td>\n",
       "      <td>0.0</td>\n",
       "      <td>0.0</td>\n",
       "      <td>0.0</td>\n",
       "      <td>1.0</td>\n",
       "      <td>0.0</td>\n",
       "      <td>0.0</td>\n",
       "      <td>0.0</td>\n",
       "      <td>0.0</td>\n",
       "      <td>2456400.0</td>\n",
       "      <td>0.127</td>\n",
       "    </tr>\n",
       "  </tbody>\n",
       "</table>\n",
       "<p>3 rows × 33 columns</p>\n",
       "</div>"
      ],
      "text/plain": [
       "                                                               VM  506665.325  \\\n",
       "provider rsv   Name           LS                                                \n",
       "azure    False Basic_A0       us-east-2        Basic_A0_us-east-2         3.0   \n",
       "               Standard_D1_v2 us-east-2  Standard_D1_v2_us-east-2         0.0   \n",
       "               Standard_D2_v2 us-east-2  Standard_D2_v2_us-east-2         0.0   \n",
       "\n",
       "                                         2533326.625  4053322.6  5573318.575  \\\n",
       "provider rsv   Name           LS                                               \n",
       "azure    False Basic_A0       us-east-2          0.0        1.0          0.0   \n",
       "               Standard_D1_v2 us-east-2          2.0        1.0          2.0   \n",
       "               Standard_D2_v2 us-east-2          0.0        1.0          1.0   \n",
       "\n",
       "                                         6079983.9  6586649.225000001  \\\n",
       "provider rsv   Name           LS                                        \n",
       "azure    False Basic_A0       us-east-2        0.0                2.0   \n",
       "               Standard_D1_v2 us-east-2        4.0                4.0   \n",
       "               Standard_D2_v2 us-east-2        0.0                0.0   \n",
       "\n",
       "                                         7093314.55  7599979.875  8106645.2  \\\n",
       "provider rsv   Name           LS                                              \n",
       "azure    False Basic_A0       us-east-2         0.0          0.0        1.0   \n",
       "               Standard_D1_v2 us-east-2         3.0          5.0        5.0   \n",
       "               Standard_D2_v2 us-east-2         1.0          0.0        0.0   \n",
       "\n",
       "                                         ...    15199959.75  \\\n",
       "provider rsv   Name           LS         ...                  \n",
       "azure    False Basic_A0       us-east-2  ...            0.0   \n",
       "               Standard_D1_v2 us-east-2  ...           10.0   \n",
       "               Standard_D2_v2 us-east-2  ...            0.0   \n",
       "\n",
       "                                         15706625.075000001  16213290.4  \\\n",
       "provider rsv   Name           LS                                          \n",
       "azure    False Basic_A0       us-east-2                 0.0         2.0   \n",
       "               Standard_D1_v2 us-east-2                10.0        10.0   \n",
       "               Standard_D2_v2 us-east-2                 0.0         0.0   \n",
       "\n",
       "                                         16719955.725  17226621.05  \\\n",
       "provider rsv   Name           LS                                     \n",
       "azure    False Basic_A0       us-east-2           0.0          0.0   \n",
       "               Standard_D1_v2 us-east-2           9.0         11.0   \n",
       "               Standard_D2_v2 us-east-2           1.0          0.0   \n",
       "\n",
       "                                         17733286.375  19253282.35  \\\n",
       "provider rsv   Name           LS                                     \n",
       "azure    False Basic_A0       us-east-2           2.0          2.0   \n",
       "               Standard_D1_v2 us-east-2          11.0         12.0   \n",
       "               Standard_D2_v2 us-east-2           0.0          0.0   \n",
       "\n",
       "                                         20266613.0       perf  price  \n",
       "provider rsv   Name           LS                                       \n",
       "azure    False Basic_A0       us-east-2         0.0   204000.0  0.018  \n",
       "               Standard_D1_v2 us-east-2        13.0  1586400.0  0.064  \n",
       "               Standard_D2_v2 us-east-2         0.0  2456400.0  0.127  \n",
       "\n",
       "[3 rows x 33 columns]"
      ]
     },
     "execution_count": 595,
     "metadata": {},
     "output_type": "execute_result"
    }
   ],
   "source": [
    "_kk"
   ]
  },
  {
   "cell_type": "code",
   "execution_count": 596,
   "metadata": {
    "ExecuteTime": {
     "end_time": "2016-12-16T00:15:16.509295",
     "start_time": "2016-12-16T00:15:16.500728"
    },
    "collapsed": false
   },
   "outputs": [
    {
     "data": {
      "text/plain": [
       "612000.0"
      ]
     },
     "execution_count": 596,
     "metadata": {},
     "output_type": "execute_result"
    }
   ],
   "source": [
    "_x.compute_reserved_performance()"
   ]
  },
  {
   "cell_type": "code",
   "execution_count": 597,
   "metadata": {
    "ExecuteTime": {
     "end_time": "2016-12-16T00:15:17.383492",
     "start_time": "2016-12-16T00:15:17.325354"
    },
    "collapsed": false
   },
   "outputs": [
    {
     "ename": "KeyError",
     "evalue": "True",
     "output_type": "error",
     "traceback": [
      "\u001b[0;31m---------------------------------------------------------------------------\u001b[0m",
      "\u001b[0;31mKeyError\u001b[0m                                  Traceback (most recent call last)",
      "\u001b[0;32m/home/jldiaz/anaconda3/lib/python3.5/site-packages/pandas/indexes/base.py\u001b[0m in \u001b[0;36mget_loc\u001b[0;34m(self, key, method, tolerance)\u001b[0m\n\u001b[1;32m   1944\u001b[0m             \u001b[0;32mtry\u001b[0m\u001b[0;34m:\u001b[0m\u001b[0;34m\u001b[0m\u001b[0m\n\u001b[0;32m-> 1945\u001b[0;31m                 \u001b[0;32mreturn\u001b[0m \u001b[0mself\u001b[0m\u001b[0;34m.\u001b[0m\u001b[0m_engine\u001b[0m\u001b[0;34m.\u001b[0m\u001b[0mget_loc\u001b[0m\u001b[0;34m(\u001b[0m\u001b[0mkey\u001b[0m\u001b[0;34m)\u001b[0m\u001b[0;34m\u001b[0m\u001b[0m\n\u001b[0m\u001b[1;32m   1946\u001b[0m             \u001b[0;32mexcept\u001b[0m \u001b[0mKeyError\u001b[0m\u001b[0;34m:\u001b[0m\u001b[0;34m\u001b[0m\u001b[0m\n",
      "\u001b[0;32mpandas/index.pyx\u001b[0m in \u001b[0;36mpandas.index.IndexEngine.get_loc (pandas/index.c:4154)\u001b[0;34m()\u001b[0m\n",
      "\u001b[0;32mpandas/index.pyx\u001b[0m in \u001b[0;36mpandas.index.IndexEngine.get_loc (pandas/index.c:4018)\u001b[0;34m()\u001b[0m\n",
      "\u001b[0;32mpandas/hashtable.pyx\u001b[0m in \u001b[0;36mpandas.hashtable.PyObjectHashTable.get_item (pandas/hashtable.c:12368)\u001b[0;34m()\u001b[0m\n",
      "\u001b[0;32mpandas/hashtable.pyx\u001b[0m in \u001b[0;36mpandas.hashtable.PyObjectHashTable.get_item (pandas/hashtable.c:12322)\u001b[0;34m()\u001b[0m\n",
      "\u001b[0;31mKeyError\u001b[0m: True",
      "\nDuring handling of the above exception, another exception occurred:\n",
      "\u001b[0;31mKeyError\u001b[0m                                  Traceback (most recent call last)",
      "\u001b[0;32m<ipython-input-597-f2b2cb713594>\u001b[0m in \u001b[0;36m<module>\u001b[0;34m()\u001b[0m\n\u001b[0;32m----> 1\u001b[0;31m \u001b[0m_kk\u001b[0m\u001b[0;34m.\u001b[0m\u001b[0mloc\u001b[0m\u001b[0;34m[\u001b[0m\u001b[0mpd\u001b[0m\u001b[0;34m.\u001b[0m\u001b[0mIndexSlice\u001b[0m\u001b[0;34m[\u001b[0m\u001b[0;34m:\u001b[0m\u001b[0;34m,\u001b[0m\u001b[0;32mTrue\u001b[0m\u001b[0;34m]\u001b[0m\u001b[0;34m,\u001b[0m\u001b[0;34m]\u001b[0m\u001b[0;34m\u001b[0m\u001b[0m\n\u001b[0m",
      "\u001b[0;32m/home/jldiaz/anaconda3/lib/python3.5/site-packages/pandas/core/indexing.py\u001b[0m in \u001b[0;36m__getitem__\u001b[0;34m(self, key)\u001b[0m\n\u001b[1;32m   1292\u001b[0m \u001b[0;34m\u001b[0m\u001b[0m\n\u001b[1;32m   1293\u001b[0m         \u001b[0;32mif\u001b[0m \u001b[0mtype\u001b[0m\u001b[0;34m(\u001b[0m\u001b[0mkey\u001b[0m\u001b[0;34m)\u001b[0m \u001b[0;32mis\u001b[0m \u001b[0mtuple\u001b[0m\u001b[0;34m:\u001b[0m\u001b[0;34m\u001b[0m\u001b[0m\n\u001b[0;32m-> 1294\u001b[0;31m             \u001b[0;32mreturn\u001b[0m \u001b[0mself\u001b[0m\u001b[0;34m.\u001b[0m\u001b[0m_getitem_tuple\u001b[0m\u001b[0;34m(\u001b[0m\u001b[0mkey\u001b[0m\u001b[0;34m)\u001b[0m\u001b[0;34m\u001b[0m\u001b[0m\n\u001b[0m\u001b[1;32m   1295\u001b[0m         \u001b[0;32melse\u001b[0m\u001b[0;34m:\u001b[0m\u001b[0;34m\u001b[0m\u001b[0m\n\u001b[1;32m   1296\u001b[0m             \u001b[0;32mreturn\u001b[0m \u001b[0mself\u001b[0m\u001b[0;34m.\u001b[0m\u001b[0m_getitem_axis\u001b[0m\u001b[0;34m(\u001b[0m\u001b[0mkey\u001b[0m\u001b[0;34m,\u001b[0m \u001b[0maxis\u001b[0m\u001b[0;34m=\u001b[0m\u001b[0;36m0\u001b[0m\u001b[0;34m)\u001b[0m\u001b[0;34m\u001b[0m\u001b[0m\n",
      "\u001b[0;32m/home/jldiaz/anaconda3/lib/python3.5/site-packages/pandas/core/indexing.py\u001b[0m in \u001b[0;36m_getitem_tuple\u001b[0;34m(self, tup)\u001b[0m\n\u001b[1;32m    782\u001b[0m     \u001b[0;32mdef\u001b[0m \u001b[0m_getitem_tuple\u001b[0m\u001b[0;34m(\u001b[0m\u001b[0mself\u001b[0m\u001b[0;34m,\u001b[0m \u001b[0mtup\u001b[0m\u001b[0;34m)\u001b[0m\u001b[0;34m:\u001b[0m\u001b[0;34m\u001b[0m\u001b[0m\n\u001b[1;32m    783\u001b[0m         \u001b[0;32mtry\u001b[0m\u001b[0;34m:\u001b[0m\u001b[0;34m\u001b[0m\u001b[0m\n\u001b[0;32m--> 784\u001b[0;31m             \u001b[0;32mreturn\u001b[0m \u001b[0mself\u001b[0m\u001b[0;34m.\u001b[0m\u001b[0m_getitem_lowerdim\u001b[0m\u001b[0;34m(\u001b[0m\u001b[0mtup\u001b[0m\u001b[0;34m)\u001b[0m\u001b[0;34m\u001b[0m\u001b[0m\n\u001b[0m\u001b[1;32m    785\u001b[0m         \u001b[0;32mexcept\u001b[0m \u001b[0mIndexingError\u001b[0m\u001b[0;34m:\u001b[0m\u001b[0;34m\u001b[0m\u001b[0m\n\u001b[1;32m    786\u001b[0m             \u001b[0;32mpass\u001b[0m\u001b[0;34m\u001b[0m\u001b[0m\n",
      "\u001b[0;32m/home/jldiaz/anaconda3/lib/python3.5/site-packages/pandas/core/indexing.py\u001b[0m in \u001b[0;36m_getitem_lowerdim\u001b[0;34m(self, tup)\u001b[0m\n\u001b[1;32m    889\u001b[0m         \u001b[0;31m# we may have a nested tuples indexer here\u001b[0m\u001b[0;34m\u001b[0m\u001b[0;34m\u001b[0m\u001b[0m\n\u001b[1;32m    890\u001b[0m         \u001b[0;32mif\u001b[0m \u001b[0mself\u001b[0m\u001b[0;34m.\u001b[0m\u001b[0m_is_nested_tuple_indexer\u001b[0m\u001b[0;34m(\u001b[0m\u001b[0mtup\u001b[0m\u001b[0;34m)\u001b[0m\u001b[0;34m:\u001b[0m\u001b[0;34m\u001b[0m\u001b[0m\n\u001b[0;32m--> 891\u001b[0;31m             \u001b[0;32mreturn\u001b[0m \u001b[0mself\u001b[0m\u001b[0;34m.\u001b[0m\u001b[0m_getitem_nested_tuple\u001b[0m\u001b[0;34m(\u001b[0m\u001b[0mtup\u001b[0m\u001b[0;34m)\u001b[0m\u001b[0;34m\u001b[0m\u001b[0m\n\u001b[0m\u001b[1;32m    892\u001b[0m \u001b[0;34m\u001b[0m\u001b[0m\n\u001b[1;32m    893\u001b[0m         \u001b[0;31m# we maybe be using a tuple to represent multiple dimensions here\u001b[0m\u001b[0;34m\u001b[0m\u001b[0;34m\u001b[0m\u001b[0m\n",
      "\u001b[0;32m/home/jldiaz/anaconda3/lib/python3.5/site-packages/pandas/core/indexing.py\u001b[0m in \u001b[0;36m_getitem_nested_tuple\u001b[0;34m(self, tup)\u001b[0m\n\u001b[1;32m    962\u001b[0m \u001b[0;34m\u001b[0m\u001b[0m\n\u001b[1;32m    963\u001b[0m             \u001b[0mcurrent_ndim\u001b[0m \u001b[0;34m=\u001b[0m \u001b[0mobj\u001b[0m\u001b[0;34m.\u001b[0m\u001b[0mndim\u001b[0m\u001b[0;34m\u001b[0m\u001b[0m\n\u001b[0;32m--> 964\u001b[0;31m             \u001b[0mobj\u001b[0m \u001b[0;34m=\u001b[0m \u001b[0mgetattr\u001b[0m\u001b[0;34m(\u001b[0m\u001b[0mobj\u001b[0m\u001b[0;34m,\u001b[0m \u001b[0mself\u001b[0m\u001b[0;34m.\u001b[0m\u001b[0mname\u001b[0m\u001b[0;34m)\u001b[0m\u001b[0;34m.\u001b[0m\u001b[0m_getitem_axis\u001b[0m\u001b[0;34m(\u001b[0m\u001b[0mkey\u001b[0m\u001b[0;34m,\u001b[0m \u001b[0maxis\u001b[0m\u001b[0;34m=\u001b[0m\u001b[0maxis\u001b[0m\u001b[0;34m)\u001b[0m\u001b[0;34m\u001b[0m\u001b[0m\n\u001b[0m\u001b[1;32m    965\u001b[0m             \u001b[0maxis\u001b[0m \u001b[0;34m+=\u001b[0m \u001b[0;36m1\u001b[0m\u001b[0;34m\u001b[0m\u001b[0m\n\u001b[1;32m    966\u001b[0m \u001b[0;34m\u001b[0m\u001b[0m\n",
      "\u001b[0;32m/home/jldiaz/anaconda3/lib/python3.5/site-packages/pandas/core/indexing.py\u001b[0m in \u001b[0;36m_getitem_axis\u001b[0;34m(self, key, axis)\u001b[0m\n\u001b[1;32m   1458\u001b[0m             \u001b[0;31m# nested tuple slicing\u001b[0m\u001b[0;34m\u001b[0m\u001b[0;34m\u001b[0m\u001b[0m\n\u001b[1;32m   1459\u001b[0m             \u001b[0;32mif\u001b[0m \u001b[0mis_nested_tuple\u001b[0m\u001b[0;34m(\u001b[0m\u001b[0mkey\u001b[0m\u001b[0;34m,\u001b[0m \u001b[0mlabels\u001b[0m\u001b[0;34m)\u001b[0m\u001b[0;34m:\u001b[0m\u001b[0;34m\u001b[0m\u001b[0m\n\u001b[0;32m-> 1460\u001b[0;31m                 \u001b[0mlocs\u001b[0m \u001b[0;34m=\u001b[0m \u001b[0mlabels\u001b[0m\u001b[0;34m.\u001b[0m\u001b[0mget_locs\u001b[0m\u001b[0;34m(\u001b[0m\u001b[0mkey\u001b[0m\u001b[0;34m)\u001b[0m\u001b[0;34m\u001b[0m\u001b[0m\n\u001b[0m\u001b[1;32m   1461\u001b[0m                 \u001b[0mindexer\u001b[0m \u001b[0;34m=\u001b[0m \u001b[0;34m[\u001b[0m\u001b[0mslice\u001b[0m\u001b[0;34m(\u001b[0m\u001b[0;32mNone\u001b[0m\u001b[0;34m)\u001b[0m\u001b[0;34m]\u001b[0m \u001b[0;34m*\u001b[0m \u001b[0mself\u001b[0m\u001b[0;34m.\u001b[0m\u001b[0mndim\u001b[0m\u001b[0;34m\u001b[0m\u001b[0m\n\u001b[1;32m   1462\u001b[0m                 \u001b[0mindexer\u001b[0m\u001b[0;34m[\u001b[0m\u001b[0maxis\u001b[0m\u001b[0;34m]\u001b[0m \u001b[0;34m=\u001b[0m \u001b[0mlocs\u001b[0m\u001b[0;34m\u001b[0m\u001b[0m\n",
      "\u001b[0;32m/home/jldiaz/anaconda3/lib/python3.5/site-packages/pandas/indexes/multi.py\u001b[0m in \u001b[0;36mget_locs\u001b[0;34m(self, tup)\u001b[0m\n\u001b[1;32m   1909\u001b[0m                 \u001b[0;31m# a single label\u001b[0m\u001b[0;34m\u001b[0m\u001b[0;34m\u001b[0m\u001b[0m\n\u001b[1;32m   1910\u001b[0m                 indexer = _update_indexer(_convert_to_indexer(\n\u001b[0;32m-> 1911\u001b[0;31m                     self.get_loc_level(k, level=i, drop_level=False)[0]),\n\u001b[0m\u001b[1;32m   1912\u001b[0m                     indexer=indexer)\n\u001b[1;32m   1913\u001b[0m \u001b[0;34m\u001b[0m\u001b[0m\n",
      "\u001b[0;32m/home/jldiaz/anaconda3/lib/python3.5/site-packages/pandas/indexes/multi.py\u001b[0m in \u001b[0;36mget_loc_level\u001b[0;34m(self, key, level, drop_level)\u001b[0m\n\u001b[1;32m   1729\u001b[0m                 \u001b[0;32mreturn\u001b[0m \u001b[0mindexer\u001b[0m\u001b[0;34m,\u001b[0m \u001b[0mmaybe_droplevels\u001b[0m\u001b[0;34m(\u001b[0m\u001b[0mindexer\u001b[0m\u001b[0;34m,\u001b[0m \u001b[0milevels\u001b[0m\u001b[0;34m,\u001b[0m \u001b[0mdrop_level\u001b[0m\u001b[0;34m)\u001b[0m\u001b[0;34m\u001b[0m\u001b[0m\n\u001b[1;32m   1730\u001b[0m         \u001b[0;32melse\u001b[0m\u001b[0;34m:\u001b[0m\u001b[0;34m\u001b[0m\u001b[0m\n\u001b[0;32m-> 1731\u001b[0;31m             \u001b[0mindexer\u001b[0m \u001b[0;34m=\u001b[0m \u001b[0mself\u001b[0m\u001b[0;34m.\u001b[0m\u001b[0m_get_level_indexer\u001b[0m\u001b[0;34m(\u001b[0m\u001b[0mkey\u001b[0m\u001b[0;34m,\u001b[0m \u001b[0mlevel\u001b[0m\u001b[0;34m=\u001b[0m\u001b[0mlevel\u001b[0m\u001b[0;34m)\u001b[0m\u001b[0;34m\u001b[0m\u001b[0m\n\u001b[0m\u001b[1;32m   1732\u001b[0m             \u001b[0;32mreturn\u001b[0m \u001b[0mindexer\u001b[0m\u001b[0;34m,\u001b[0m \u001b[0mmaybe_droplevels\u001b[0m\u001b[0;34m(\u001b[0m\u001b[0mindexer\u001b[0m\u001b[0;34m,\u001b[0m \u001b[0;34m[\u001b[0m\u001b[0mlevel\u001b[0m\u001b[0;34m]\u001b[0m\u001b[0;34m,\u001b[0m \u001b[0mdrop_level\u001b[0m\u001b[0;34m)\u001b[0m\u001b[0;34m\u001b[0m\u001b[0m\n\u001b[1;32m   1733\u001b[0m \u001b[0;34m\u001b[0m\u001b[0m\n",
      "\u001b[0;32m/home/jldiaz/anaconda3/lib/python3.5/site-packages/pandas/indexes/multi.py\u001b[0m in \u001b[0;36m_get_level_indexer\u001b[0;34m(self, key, level, indexer)\u001b[0m\n\u001b[1;32m   1808\u001b[0m         \u001b[0;32melse\u001b[0m\u001b[0;34m:\u001b[0m\u001b[0;34m\u001b[0m\u001b[0m\n\u001b[1;32m   1809\u001b[0m \u001b[0;34m\u001b[0m\u001b[0m\n\u001b[0;32m-> 1810\u001b[0;31m             \u001b[0mloc\u001b[0m \u001b[0;34m=\u001b[0m \u001b[0mlevel_index\u001b[0m\u001b[0;34m.\u001b[0m\u001b[0mget_loc\u001b[0m\u001b[0;34m(\u001b[0m\u001b[0mkey\u001b[0m\u001b[0;34m)\u001b[0m\u001b[0;34m\u001b[0m\u001b[0m\n\u001b[0m\u001b[1;32m   1811\u001b[0m             \u001b[0;32mif\u001b[0m \u001b[0mlevel\u001b[0m \u001b[0;34m>\u001b[0m \u001b[0;36m0\u001b[0m \u001b[0;32mor\u001b[0m \u001b[0mself\u001b[0m\u001b[0;34m.\u001b[0m\u001b[0mlexsort_depth\u001b[0m \u001b[0;34m==\u001b[0m \u001b[0;36m0\u001b[0m\u001b[0;34m:\u001b[0m\u001b[0;34m\u001b[0m\u001b[0m\n\u001b[1;32m   1812\u001b[0m                 \u001b[0;32mreturn\u001b[0m \u001b[0mnp\u001b[0m\u001b[0;34m.\u001b[0m\u001b[0marray\u001b[0m\u001b[0;34m(\u001b[0m\u001b[0mlabels\u001b[0m \u001b[0;34m==\u001b[0m \u001b[0mloc\u001b[0m\u001b[0;34m,\u001b[0m \u001b[0mdtype\u001b[0m\u001b[0;34m=\u001b[0m\u001b[0mbool\u001b[0m\u001b[0;34m)\u001b[0m\u001b[0;34m\u001b[0m\u001b[0m\n",
      "\u001b[0;32m/home/jldiaz/anaconda3/lib/python3.5/site-packages/pandas/indexes/base.py\u001b[0m in \u001b[0;36mget_loc\u001b[0;34m(self, key, method, tolerance)\u001b[0m\n\u001b[1;32m   1945\u001b[0m                 \u001b[0;32mreturn\u001b[0m \u001b[0mself\u001b[0m\u001b[0;34m.\u001b[0m\u001b[0m_engine\u001b[0m\u001b[0;34m.\u001b[0m\u001b[0mget_loc\u001b[0m\u001b[0;34m(\u001b[0m\u001b[0mkey\u001b[0m\u001b[0;34m)\u001b[0m\u001b[0;34m\u001b[0m\u001b[0m\n\u001b[1;32m   1946\u001b[0m             \u001b[0;32mexcept\u001b[0m \u001b[0mKeyError\u001b[0m\u001b[0;34m:\u001b[0m\u001b[0;34m\u001b[0m\u001b[0m\n\u001b[0;32m-> 1947\u001b[0;31m                 \u001b[0;32mreturn\u001b[0m \u001b[0mself\u001b[0m\u001b[0;34m.\u001b[0m\u001b[0m_engine\u001b[0m\u001b[0;34m.\u001b[0m\u001b[0mget_loc\u001b[0m\u001b[0;34m(\u001b[0m\u001b[0mself\u001b[0m\u001b[0;34m.\u001b[0m\u001b[0m_maybe_cast_indexer\u001b[0m\u001b[0;34m(\u001b[0m\u001b[0mkey\u001b[0m\u001b[0;34m)\u001b[0m\u001b[0;34m)\u001b[0m\u001b[0;34m\u001b[0m\u001b[0m\n\u001b[0m\u001b[1;32m   1948\u001b[0m \u001b[0;34m\u001b[0m\u001b[0m\n\u001b[1;32m   1949\u001b[0m         \u001b[0mindexer\u001b[0m \u001b[0;34m=\u001b[0m \u001b[0mself\u001b[0m\u001b[0;34m.\u001b[0m\u001b[0mget_indexer\u001b[0m\u001b[0;34m(\u001b[0m\u001b[0;34m[\u001b[0m\u001b[0mkey\u001b[0m\u001b[0;34m]\u001b[0m\u001b[0;34m,\u001b[0m \u001b[0mmethod\u001b[0m\u001b[0;34m=\u001b[0m\u001b[0mmethod\u001b[0m\u001b[0;34m,\u001b[0m \u001b[0mtolerance\u001b[0m\u001b[0;34m=\u001b[0m\u001b[0mtolerance\u001b[0m\u001b[0;34m)\u001b[0m\u001b[0;34m\u001b[0m\u001b[0m\n",
      "\u001b[0;32mpandas/index.pyx\u001b[0m in \u001b[0;36mpandas.index.IndexEngine.get_loc (pandas/index.c:4154)\u001b[0;34m()\u001b[0m\n",
      "\u001b[0;32mpandas/index.pyx\u001b[0m in \u001b[0;36mpandas.index.IndexEngine.get_loc (pandas/index.c:4018)\u001b[0;34m()\u001b[0m\n",
      "\u001b[0;32mpandas/hashtable.pyx\u001b[0m in \u001b[0;36mpandas.hashtable.PyObjectHashTable.get_item (pandas/hashtable.c:12368)\u001b[0;34m()\u001b[0m\n",
      "\u001b[0;32mpandas/hashtable.pyx\u001b[0m in \u001b[0;36mpandas.hashtable.PyObjectHashTable.get_item (pandas/hashtable.c:12322)\u001b[0;34m()\u001b[0m\n",
      "\u001b[0;31mKeyError\u001b[0m: True"
     ]
    }
   ],
   "source": [
    "_kk.loc[pd.IndexSlice[:,True],]"
   ]
  },
  {
   "cell_type": "code",
   "execution_count": 598,
   "metadata": {
    "ExecuteTime": {
     "end_time": "2016-12-16T00:15:27.366383",
     "start_time": "2016-12-16T00:15:27.343971"
    },
    "collapsed": false
   },
   "outputs": [
    {
     "data": {
      "text/html": [
       "<div>\n",
       "<table border=\"1\" class=\"dataframe\">\n",
       "  <thead>\n",
       "    <tr style=\"text-align: right;\">\n",
       "      <th></th>\n",
       "      <th></th>\n",
       "      <th></th>\n",
       "      <th></th>\n",
       "      <th>VM</th>\n",
       "      <th>506665.325</th>\n",
       "      <th>2533326.625</th>\n",
       "      <th>4053322.6</th>\n",
       "      <th>5573318.575</th>\n",
       "      <th>6079983.9</th>\n",
       "      <th>6586649.225000001</th>\n",
       "      <th>7093314.55</th>\n",
       "      <th>7599979.875</th>\n",
       "      <th>8106645.2</th>\n",
       "      <th>...</th>\n",
       "      <th>15199959.75</th>\n",
       "      <th>15706625.075000001</th>\n",
       "      <th>16213290.4</th>\n",
       "      <th>16719955.725</th>\n",
       "      <th>17226621.05</th>\n",
       "      <th>17733286.375</th>\n",
       "      <th>19253282.35</th>\n",
       "      <th>20266613.0</th>\n",
       "      <th>perf</th>\n",
       "      <th>price</th>\n",
       "    </tr>\n",
       "    <tr>\n",
       "      <th>provider</th>\n",
       "      <th>rsv</th>\n",
       "      <th>Name</th>\n",
       "      <th>LS</th>\n",
       "      <th></th>\n",
       "      <th></th>\n",
       "      <th></th>\n",
       "      <th></th>\n",
       "      <th></th>\n",
       "      <th></th>\n",
       "      <th></th>\n",
       "      <th></th>\n",
       "      <th></th>\n",
       "      <th></th>\n",
       "      <th></th>\n",
       "      <th></th>\n",
       "      <th></th>\n",
       "      <th></th>\n",
       "      <th></th>\n",
       "      <th></th>\n",
       "      <th></th>\n",
       "      <th></th>\n",
       "      <th></th>\n",
       "      <th></th>\n",
       "      <th></th>\n",
       "    </tr>\n",
       "  </thead>\n",
       "  <tbody>\n",
       "  </tbody>\n",
       "</table>\n",
       "<p>0 rows × 33 columns</p>\n",
       "</div>"
      ],
      "text/plain": [
       "Empty DataFrame\n",
       "Columns: [VM, 506665.325, 2533326.625, 4053322.6, 5573318.575, 6079983.9, 6586649.225000001, 7093314.55, 7599979.875, 8106645.2, 8613310.525, 9119975.85, 9626641.175, 10133306.5, 10639971.825000001, 11146637.15, 11653302.475, 12159967.8, 12666633.125, 13173298.450000001, 13679963.775, 14186629.1, 14693294.425, 15199959.75, 15706625.075000001, 16213290.4, 16719955.725, 17226621.05, 17733286.375, 19253282.35, 20266613.0, perf, price]\n",
       "Index: []\n",
       "\n",
       "[0 rows x 33 columns]"
      ]
     },
     "execution_count": 598,
     "metadata": {},
     "output_type": "execute_result"
    }
   ],
   "source": [
    "_kk.query(\"rsv==True\")"
   ]
  },
  {
   "cell_type": "code",
   "execution_count": null,
   "metadata": {
    "collapsed": true
   },
   "outputs": [],
   "source": []
  }
 ],
 "metadata": {
  "anaconda-cloud": {},
  "kernelspec": {
   "display_name": "Python [default]",
   "language": "python",
   "name": "python3"
  },
  "language_info": {
   "codemirror_mode": {
    "name": "ipython",
    "version": 3
   },
   "file_extension": ".py",
   "mimetype": "text/x-python",
   "name": "python",
   "nbconvert_exporter": "python",
   "pygments_lexer": "ipython3",
   "version": "3.5.2"
  },
  "toc": {
   "nav_menu": {
    "height": "12px",
    "width": "252px"
   },
   "navigate_menu": true,
   "number_sections": true,
   "sideBar": true,
   "threshold": 4,
   "toc_cell": false,
   "toc_position": {
    "height": "904px",
    "left": "0px",
    "right": "1646px",
    "top": "107px",
    "width": "212px"
   },
   "toc_section_display": "block",
   "toc_window_display": true
  }
 },
 "nbformat": 4,
 "nbformat_minor": 1
}
