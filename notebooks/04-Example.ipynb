{
 "cells": [
  {
   "cell_type": "markdown",
   "metadata": {},
   "source": [
    "# Example"
   ]
  },
  {
   "cell_type": "markdown",
   "metadata": {},
   "source": [
    "## Preamble code"
   ]
  },
  {
   "cell_type": "code",
   "execution_count": 1,
   "metadata": {
    "ExecuteTime": {
     "end_time": "2016-12-11T01:46:19.456265",
     "start_time": "2016-12-11T01:46:18.980418"
    },
    "collapsed": true
   },
   "outputs": [],
   "source": [
    "# Preliminary setup and imports\n",
    "\n",
    "# For graphics\n",
    "import matplotlib\n",
    "import matplotlib.pyplot as plt\n",
    "plt.style.use(\"bmh\")\n",
    "%matplotlib inline\n",
    "from IPython.display import display, HTML\n",
    "\n",
    "# Solvers, math, etc.\n",
    "import numpy as np\n",
    "import pandas as pd\n",
    "from pulp import *\n",
    "import math"
   ]
  },
  {
   "cell_type": "code",
   "execution_count": 2,
   "metadata": {
    "ExecuteTime": {
     "end_time": "2016-12-11T01:46:19.462932",
     "start_time": "2016-12-11T01:46:19.458073"
    },
    "collapsed": true
   },
   "outputs": [],
   "source": [
    "# For llovia\n",
    "\n",
    "# Add to python path the folder where LLOVIA is located\n",
    "import os,sys,inspect\n",
    "currentdir = os.path.dirname(\n",
    "    os.path.abspath(inspect.getfile(inspect.currentframe())))\n",
    "sys.path.insert(0, os.path.join(currentdir, os.path.pardir, \"src/solve\"))\n",
    "sys.path.insert(0, os.path.join(currentdir, os.path.pardir, \"src/visualization\"))"
   ]
  },
  {
   "cell_type": "code",
   "execution_count": 3,
   "metadata": {
    "ExecuteTime": {
     "end_time": "2016-12-11T01:46:19.496414",
     "start_time": "2016-12-11T01:46:19.464308"
    },
    "collapsed": false
   },
   "outputs": [],
   "source": [
    "# imp.reload() forces reloading the module, which is useful\n",
    "# during development\n",
    "import imp\n",
    "import lloovia\n",
    "import lloovia_plot\n",
    "imp.reload(lloovia)\n",
    "from lloovia import (InstanceClass, Lloovia, LimitingSet, Problem, Solution)\n",
    "from lloovia_plot import plot_solution_slots"
   ]
  },
  {
   "cell_type": "code",
   "execution_count": 4,
   "metadata": {
    "ExecuteTime": {
     "end_time": "2016-12-11T01:46:19.548627",
     "start_time": "2016-12-11T01:46:19.498083"
    },
    "collapsed": true
   },
   "outputs": [],
   "source": [
    "# Auxiliar functions to draw a subplot which zooms another subplot\n",
    "# (for Fig. 2 in paper)\n",
    "\n",
    "from matplotlib.transforms import Bbox, TransformedBbox, \\\n",
    "    blended_transform_factory\n",
    "\n",
    "from mpl_toolkits.axes_grid1.inset_locator import BboxPatch, BboxConnector,\\\n",
    "    BboxConnectorPatch\n",
    "\n",
    "def connect_bbox(bbox1, bbox2,\n",
    "                 loc1a, loc2a, loc1b, loc2b,\n",
    "                 prop_lines, prop_patches=None):\n",
    "    if prop_patches is None:\n",
    "        prop_patches = prop_lines.copy()\n",
    "        prop_patches[\"alpha\"] = prop_patches.get(\"alpha\", 1)*0.2\n",
    "    c1 = BboxConnector(bbox1, bbox2, loc1=loc1a, loc2=loc2a, **prop_lines)\n",
    "    c1.set_clip_on(False)\n",
    "    c2 = BboxConnector(bbox1, bbox2, loc1=loc1b, loc2=loc2b, **prop_lines)\n",
    "    c2.set_clip_on(False)\n",
    "    prop_patches[\"ls\"] = \"solid\"\n",
    "    prop_patches[\"fc\"] = (1,0,0,0.01)\n",
    "    prop_patches[\"ec\"] = (1,0,0,0.9)\n",
    "    prop_patches[\"alpha\"] = None\n",
    "    bbox_patch1 = BboxPatch(bbox1, **prop_patches)\n",
    "    bbox_patch2 = BboxPatch(bbox2, **prop_patches)\n",
    "\n",
    "    prop_patches[\"alpha\"] = 0.3\n",
    "    p = BboxConnectorPatch(bbox1, bbox2,\n",
    "                           # loc1a=3, loc2a=2, loc1b=4, loc2b=1,\n",
    "                           loc1a=loc1a, loc2a=loc2a, loc1b=loc1b, loc2b=loc2b,\n",
    "                           **prop_patches)\n",
    "    p.set_clip_on(False)\n",
    "    return c1, c2, bbox_patch1, bbox_patch2, p\n",
    "\n",
    "def zoom_effect02(ax1, ax2, **kwargs):\n",
    "    \"\"\"\n",
    "    ax1 : the main axes\n",
    "    ax1 : the zoomed axes\n",
    "    \"\"\"\n",
    "    tt = ax1.transScale + (ax1.transLimits + ax2.transAxes)\n",
    "    trans = blended_transform_factory(ax2.transData, tt)\n",
    "\n",
    "    mybbox1 = ax1.bbox\n",
    "    mybbox2 = TransformedBbox(ax1.viewLim, trans)\n",
    "    prop_patches = kwargs.copy()\n",
    "    prop_patches[\"ec\"] = \"r\"\n",
    "    prop_patches[\"alpha\"] = 0.2\n",
    "    c1, c2, bbox_patch1, bbox_patch2, p = \\\n",
    "        connect_bbox(mybbox1, mybbox2,\n",
    "                     loc1a=1, loc2a=4, loc1b=2, loc2b=3,\n",
    "                     prop_lines=kwargs, prop_patches=prop_patches)\n",
    "    ax1.add_patch(bbox_patch1)\n",
    "    ax2.add_patch(bbox_patch2)\n",
    "    #ax2.add_patch(c1)\n",
    "    #ax2.add_patch(c2)\n",
    "    ax2.add_patch(p)\n",
    "    return c1, c2, bbox_patch1, bbox_patch2, p"
   ]
  },
  {
   "cell_type": "markdown",
   "metadata": {
    "collapsed": true
   },
   "source": [
    "```python\n",
    "# Run this code to setup the style for the paper figures\n",
    "# Don't run it to use a style more adequate for the notebook display\n",
    "\n",
    "# Parámetros de las gráficas para publicación en artículo\n",
    "sb_white=dict(matplotlib.style.library[\"seaborn-whitegrid\"])\n",
    "sb_paper=dict(matplotlib.style.library[\"seaborn-paper\"])\n",
    "my_settings = {\n",
    "    \"axes.titlesize\": 8,\n",
    "    \"axes.labelsize\": 8,\n",
    "    \"xtick.labelsize\": 6,\n",
    "    \"ytick.labelsize\": 6,\n",
    "    \"figure.figsize\": (3.5, 2.5),\n",
    "    'grid.linestyle': '-',\n",
    "    \"grid.linewidth\": 0.5,\n",
    "    \"grid.alpha\": 0.5,\n",
    "    \"lines.markersize\": 3,\n",
    "    \"lines.linewidth\": 0.8,\n",
    "    \"text.usetex\": False,   \n",
    "    \"font.family\": \"serif\",\n",
    "    \"pgf.rcfonts\": False,\n",
    "    \"font.serif\": [],   \n",
    "    \"font.sans-serif\": [],\n",
    "    \"font.monospace\": [],\n",
    "}\n",
    "paper_style = {}\n",
    "for x in [sb_white, sb_paper, my_settings]:\n",
    "    paper_style.update(x)\n",
    "    \n",
    "# Parámetros para verlas en el notebook\n",
    "notebook_style = {}\n",
    "my_settings = {\n",
    "   \"figure.figsize\": (7, 5)\n",
    "}\n",
    "for x in [dict(matplotlib.style.library[\"seaborn-darkgrid\"]),\n",
    "          dict(matplotlib.style.library[\"seaborn-notebook\"])]:\n",
    "    notebook_style.update(x)\n",
    "```"
   ]
  },
  {
   "cell_type": "code",
   "execution_count": 5,
   "metadata": {
    "ExecuteTime": {
     "end_time": "2016-12-11T01:46:19.563763",
     "start_time": "2016-12-11T01:46:19.550256"
    },
    "collapsed": false
   },
   "outputs": [],
   "source": [
    "# Parámetros de las gráficas para publicación en artículo\n",
    "sb_white=dict(matplotlib.style.library[\"seaborn-whitegrid\"])\n",
    "sb_paper=dict(matplotlib.style.library[\"seaborn-paper\"])\n",
    "my_settings = {\n",
    "    \"axes.titlesize\": 8,\n",
    "    \"axes.labelsize\": 8,\n",
    "    \"xtick.labelsize\": 6,\n",
    "    \"ytick.labelsize\": 6,\n",
    "    \"figure.figsize\": (3.5, 2.5),\n",
    "    'grid.linestyle': '-',\n",
    "    \"grid.linewidth\": 0.5,\n",
    "    \"grid.alpha\": 0.5,\n",
    "    \"lines.markersize\": 3,\n",
    "    \"lines.linewidth\": 0.8,\n",
    "    \"text.usetex\": False,   \n",
    "    \"font.family\": \"serif\",\n",
    "    \"pgf.rcfonts\": False,\n",
    "    \"font.serif\": [],   \n",
    "    \"font.sans-serif\": [],\n",
    "    \"font.monospace\": [],\n",
    "}\n",
    "paper_style = {}\n",
    "for x in [sb_white, sb_paper, my_settings]:\n",
    "    paper_style.update(x)\n",
    "    \n",
    "# Parámetros para verlas en el notebook\n",
    "notebook_style = {}\n",
    "my_settings = {\n",
    "   \"figure.figsize\": (7, 5)\n",
    "}\n",
    "for x in [dict(matplotlib.style.library[\"seaborn-darkgrid\"]),\n",
    "          dict(matplotlib.style.library[\"seaborn-notebook\"])]:\n",
    "    notebook_style.update(x)"
   ]
  },
  {
   "cell_type": "markdown",
   "metadata": {},
   "source": [
    "# Data for the problem"
   ]
  },
  {
   "cell_type": "markdown",
   "metadata": {},
   "source": [
    "## Limiting Sets\n",
    "\n",
    "$\\def\\LSetVMS{\\text{LS}^\\text{vms}}\\def\\LSetCORES{\\text{LS}^\\text{core}}\\def\\LSet{\\text{LS}}$\n",
    "\n",
    "From all considered cloud providers, the analyst has to choose a subset of regions and availability zones (Limiting Sets). For each Limiting Set, $\\LSet_i$, the maximum number of running VMs, $\\LSetVMS$ and maximum number of allocated cores, $\\LSetCORES_i$, can be obtained from the data provided by the cloud operator\n",
    "\n",
    "For this example we assume a cloud architecture like the one used by Amazon. Amazon imposes limits on the total number of on-demand VMs per region, so regions are limiting sets for that kind of VMs. However, in the case of reserved VMs, the limitation is per availability zone (there can be several zones per region), so zones are limiting sets for reserved VMs. Amazon does not impose any limit for the number of cores per region or zone.\n",
    "\n",
    "To keep the example simple, we assume that Region 1 can only be used to deploy on-demand VMs, while Region 2 can be used for both on-demand and reserved VMs. Therefore each region is a limiting set for the on-demand VMs, while the zones inside Region 2 are limiting sets for the reserved VMs. The total number of VMs that can be deployed would be 30 on-demand VMs (15 in each region) plus 24 reserved VMs (12 in each zone inside Region 2)."
   ]
  },
  {
   "cell_type": "code",
   "execution_count": 6,
   "metadata": {
    "ExecuteTime": {
     "end_time": "2016-12-11T01:46:19.577897",
     "start_time": "2016-12-11T01:46:19.565172"
    },
    "collapsed": false
   },
   "outputs": [],
   "source": [
    "# Define the different regions and zones, and set the limits\n",
    "region1 = LimitingSet(\"Region1\",  max_vms=15)    # Those are for on-demand\n",
    "region2 = LimitingSet(\"Region2\",  max_vms=15)\n",
    "zone1   = LimitingSet(\"Region2 Z1\", max_vms=12)  # Those are for reserved\n",
    "zone2   = LimitingSet(\"Region2 Z2\", max_vms=12)\n",
    "\n",
    "LS = [region1, region2, zone1, zone2]"
   ]
  },
  {
   "cell_type": "code",
   "execution_count": 7,
   "metadata": {
    "ExecuteTime": {
     "end_time": "2016-12-11T01:46:19.652719",
     "start_time": "2016-12-11T01:46:19.579304"
    },
    "collapsed": false,
    "scrolled": true
   },
   "outputs": [
    {
     "data": {
      "text/html": [
       "<div>\n",
       "<table border=\"1\" class=\"dataframe\">\n",
       "  <thead>\n",
       "    <tr style=\"text-align: right;\">\n",
       "      <th></th>\n",
       "      <th>$\\text{LS}_j$</th>\n",
       "      <th>$\\text{LS}_j^\\text{vms}$</th>\n",
       "      <th>$\\text{LS}_j^\\text{cores}$</th>\n",
       "    </tr>\n",
       "    <tr>\n",
       "      <th>$j$</th>\n",
       "      <th></th>\n",
       "      <th></th>\n",
       "      <th></th>\n",
       "    </tr>\n",
       "  </thead>\n",
       "  <tbody>\n",
       "    <tr>\n",
       "      <th>0</th>\n",
       "      <td>Region1</td>\n",
       "      <td>15</td>\n",
       "      <td>$\\infty$</td>\n",
       "    </tr>\n",
       "    <tr>\n",
       "      <th>1</th>\n",
       "      <td>Region2</td>\n",
       "      <td>15</td>\n",
       "      <td>$\\infty$</td>\n",
       "    </tr>\n",
       "    <tr>\n",
       "      <th>2</th>\n",
       "      <td>Region2 Z1</td>\n",
       "      <td>12</td>\n",
       "      <td>$\\infty$</td>\n",
       "    </tr>\n",
       "    <tr>\n",
       "      <th>3</th>\n",
       "      <td>Region2 Z2</td>\n",
       "      <td>12</td>\n",
       "      <td>$\\infty$</td>\n",
       "    </tr>\n",
       "  </tbody>\n",
       "</table>\n",
       "</div>"
      ],
      "text/plain": [
       "    $\\text{LS}_j$  $\\text{LS}_j^\\text{vms}$ $\\text{LS}_j^\\text{cores}$\n",
       "$j$                                                                   \n",
       "0         Region1                        15                   $\\infty$\n",
       "1         Region2                        15                   $\\infty$\n",
       "2      Region2 Z1                        12                   $\\infty$\n",
       "3      Region2 Z2                        12                   $\\infty$"
      ]
     },
     "metadata": {},
     "output_type": "display_data"
    }
   ],
   "source": [
    "# Generate table to summarize limiting sets using paper's notation\n",
    "df_ls = pd.DataFrame([OrderedDict(Str=str(i),**i.__dict__) for i in LS])\n",
    "df_ls = df_ls[[\"name\", \"max_vms\", \"max_cores\"]]\n",
    "df_ls.index.name  = \"$j$\"\n",
    "LSjvms= r\"$\\text{LS}_j^\\text{vms}$\"\n",
    "LSjcores = r\"$\\text{LS}_j^\\text{cores}$\"\n",
    "LSj = r\"$\\text{LS}_j$\"\n",
    "df_ls.columns = [LSj, LSjvms, LSjcores]\n",
    "df_ls[LSjcores] = \"$\\infty$\"\n",
    "display(df_ls)"
   ]
  },
  {
   "cell_type": "markdown",
   "metadata": {},
   "source": [
    "## Instance Classes\n",
    "\n",
    "$\\def\\IClass{\\text{IC}}\\def\\maxvm{\\text{max}^\\text{vm}}\\def\\perf{\\text{perf}}$\n",
    "\n",
    "For each limiting set, the analyst has to choose a subset of all offered VM types within that limiting set. This is the concept of Instance Class presented in the model. For each Instance Class, $\\IClass_i$, the analyst has to collect some cloud operator provided information, such as the price per hour, $p_i$, the number of cores, $c_i$, the limit imposed for that VM type, $\\maxvm_i$, etc. \n",
    "\n",
    "In addition, the performance, $\\perf_i$, of each instance class is also required, but this depends on the kind of application running in that VM, and thus must be found by benchmarking.\n",
    "\n",
    "Next cells define and show the Instance Classes chosen for this example. These are made up examples, and do not correspond to any real VM tpye offered by any particular cloud provider. The performance is assumed to be in the same units as the workload that has to be fulfilled, for example, in requests per hour (rph). Note that each IC belongs to a particular limiting set, and that reserved ICs have no limit on the number of instances per type (as it is the case for Amazon). We assume for this example that the performance of each VM type is the same across all regions; however, the price is different. The number of cores of each VM (column $c_i$) will not be used in this example, since the provider does not impose a limit on the total number of cores, but other providers (e.g., Azure) may enforce such a limit. \n"
   ]
  },
  {
   "cell_type": "code",
   "execution_count": 8,
   "metadata": {
    "ExecuteTime": {
     "end_time": "2016-12-11T01:46:19.664721",
     "start_time": "2016-12-11T01:46:19.654342"
    },
    "collapsed": true
   },
   "outputs": [],
   "source": [
    "# Define the instance clasess. Each one pertains to a limiting set\n",
    "# and in case of the on-demand ones they set also a max_vms per type\n",
    "instance_classes = [           # Price, performance\n",
    "    # on-demand\n",
    "    InstanceClass(\"small\", region1, 0.05,   5,  max_vms=10),\n",
    "    InstanceClass(\"large\", region1, 0.11,   10, max_vms=10, provides={\"cpus\": 2} ),\n",
    "    InstanceClass(\"small\", region2, 0.052,  5,  max_vms=10),\n",
    "    InstanceClass(\"large\", region2, 0.12,   10, max_vms=10, provides={\"cpus\": 2} ),\n",
    "    # Reserved\n",
    "    InstanceClass(\"small\", zone1,   0.038,  5,  reserved=True, max_vms=None),\n",
    "    InstanceClass(\"large\", zone1,   0.09,  10,  reserved=True, max_vms=None, provides={\"cpus\": 2} ),\n",
    "    InstanceClass(\"small\", zone2,   0.038,  5,  reserved=True, max_vms=None),\n",
    "    InstanceClass(\"large\", zone2,   0.09,  10,  reserved=True, max_vms=None, provides={\"cpus\": 2} ),\n",
    "]\n"
   ]
  },
  {
   "cell_type": "code",
   "execution_count": 9,
   "metadata": {
    "ExecuteTime": {
     "end_time": "2016-12-11T01:46:19.685796",
     "start_time": "2016-12-11T01:46:19.666240"
    },
    "collapsed": true
   },
   "outputs": [],
   "source": [
    "def prettify_names(instance_classes, amazon_or_azure=False):\n",
    "    \"\"\"Generate readable instance names from instance attributes\"\"\"\n",
    "    import re\n",
    "    colnames=[]\n",
    "    regions = set()\n",
    "    cont_regions = 0\n",
    "    n_provider=\"\"\n",
    "    for col in instance_classes:\n",
    "        if col.reserved:\n",
    "            n_res = \" [res]\"\n",
    "            n_zone = re.search(r'AZ(\\d+)',col.cloud.name)\n",
    "            if n_zone:\n",
    "                n_zone = \"-Z{}\".format(n_zone.groups()[0])\n",
    "            else:\n",
    "                n_zone = \"\"\n",
    "        else:\n",
    "            n_res = \" [dem]\"\n",
    "            n_zone = \"\"\n",
    "        if \"(\" in col.cloud.name:\n",
    "            m = re.search(r'(.*?) \\((.*?)\\)', col.cloud.name)\n",
    "            n_region = \"{}-{}\".format(m.group(1), m.group(2))\n",
    "            if amazon_or_azure:\n",
    "                n_provider = \"Amazon, \"\n",
    "        else:\n",
    "            n_region = col.cloud.name\n",
    "            if amazon_or_azure:\n",
    "                n_provider = \"Azure, \"\n",
    "\n",
    "        n_cloud = \" ({}{}{})\".format(n_provider, n_region, n_zone)\n",
    "        name = \"{}{}{}\".format(col.name, n_cloud, n_res)\n",
    "        colnames.append(name)\n",
    "    return colnames"
   ]
  },
  {
   "cell_type": "code",
   "execution_count": 10,
   "metadata": {
    "ExecuteTime": {
     "end_time": "2016-12-11T01:46:19.707089",
     "start_time": "2016-12-11T01:46:19.687221"
    },
    "collapsed": false
   },
   "outputs": [],
   "source": [
    "def display_table_of_instance_classes(instance_classes):\n",
    "    # Generate table to summarize instance classes using paper's notation\n",
    "    df_ic = pd.DataFrame([OrderedDict(Str=i,**i.__dict__) for i in instance_classes])\n",
    "    # Dictionary to convert to latex formulae the name of each field\n",
    "    d = OrderedDict([ \n",
    "            (\"IC_i\", r\"$\\text{IC}_i$\"),\n",
    "            (\"ls_i\", r\"$\\text{ls}_i$\"),\n",
    "          (\"c_i\",    r\"$c_i$\"),\n",
    "         (\"max_i\" ,  r\"$\\text{max}_i$\"),\n",
    "        (\"type_i\" ,  r\"$\\text{type}_i$\"),\n",
    "        (\"perf_i\" ,  r\"$\\text{perf}_i$\"),\n",
    "           (\"p_i\" ,  r\"$p_i$ (\\$/h)\"),\n",
    "         (\"rsv_i\" , r\"$\\text{rsv}_i$\")\n",
    "            ])\n",
    "    # Select the columns to display\n",
    "    df_ic = df_ic[[\"Str\", \"name\", \"max_vms\", \"cloud\", \n",
    "                   \"price\", \"performance\", \"cores\", \"reserved\" ]]\n",
    "    # Translate those columns to LaTeX using paper's notation\n",
    "    df_ic.columns = [d[key] for key in [\"IC_i\", \"type_i\", \"max_i\", \"ls_i\",\n",
    "                                        \"p_i\", \"perf_i\", \"c_i\", \"rsv_i\"]]\n",
    "    df_ic.index.name = \"$i$\"\n",
    "\n",
    "    # Put infinity in unset limits\n",
    "    df_ic[d[\"max_i\"]][df_ic[d[\"max_i\"]] == 0] = r\"$\\infty$\" \n",
    "\n",
    "    # Translate clouds names into LimitingSet indexes (j)\n",
    "    aux = df_ic[d[\"ls_i\"]].values\n",
    "    df_ic[d[\"ls_i\"]] = [LS.index(ls) for ls in aux]\n",
    "\n",
    "    # Prettify names of the InstanceClasses to match them to the ones used in plots\n",
    "    df_ic[d[\"IC_i\"]] = prettify_names(df_ic[d[\"IC_i\"]].values)\n",
    "    display(df_ic)"
   ]
  },
  {
   "cell_type": "code",
   "execution_count": 11,
   "metadata": {
    "ExecuteTime": {
     "end_time": "2016-12-11T01:46:19.803545",
     "start_time": "2016-12-11T01:46:19.708522"
    },
    "collapsed": false
   },
   "outputs": [
    {
     "data": {
      "text/html": [
       "<div>\n",
       "<table border=\"1\" class=\"dataframe\">\n",
       "  <thead>\n",
       "    <tr style=\"text-align: right;\">\n",
       "      <th></th>\n",
       "      <th>$\\text{IC}_i$</th>\n",
       "      <th>$\\text{type}_i$</th>\n",
       "      <th>$\\text{max}_i$</th>\n",
       "      <th>$\\text{ls}_i$</th>\n",
       "      <th>$p_i$ (\\$/h)</th>\n",
       "      <th>$\\text{perf}_i$</th>\n",
       "      <th>$c_i$</th>\n",
       "      <th>$\\text{rsv}_i$</th>\n",
       "    </tr>\n",
       "    <tr>\n",
       "      <th>$i$</th>\n",
       "      <th></th>\n",
       "      <th></th>\n",
       "      <th></th>\n",
       "      <th></th>\n",
       "      <th></th>\n",
       "      <th></th>\n",
       "      <th></th>\n",
       "      <th></th>\n",
       "    </tr>\n",
       "  </thead>\n",
       "  <tbody>\n",
       "    <tr>\n",
       "      <th>0</th>\n",
       "      <td>small (Region1) [dem]</td>\n",
       "      <td>small</td>\n",
       "      <td>10</td>\n",
       "      <td>0</td>\n",
       "      <td>0.050</td>\n",
       "      <td>5</td>\n",
       "      <td>1</td>\n",
       "      <td>False</td>\n",
       "    </tr>\n",
       "    <tr>\n",
       "      <th>1</th>\n",
       "      <td>large (Region1) [dem]</td>\n",
       "      <td>large</td>\n",
       "      <td>10</td>\n",
       "      <td>0</td>\n",
       "      <td>0.110</td>\n",
       "      <td>10</td>\n",
       "      <td>2</td>\n",
       "      <td>False</td>\n",
       "    </tr>\n",
       "    <tr>\n",
       "      <th>2</th>\n",
       "      <td>small (Region2) [dem]</td>\n",
       "      <td>small</td>\n",
       "      <td>10</td>\n",
       "      <td>1</td>\n",
       "      <td>0.052</td>\n",
       "      <td>5</td>\n",
       "      <td>1</td>\n",
       "      <td>False</td>\n",
       "    </tr>\n",
       "    <tr>\n",
       "      <th>3</th>\n",
       "      <td>large (Region2) [dem]</td>\n",
       "      <td>large</td>\n",
       "      <td>10</td>\n",
       "      <td>1</td>\n",
       "      <td>0.120</td>\n",
       "      <td>10</td>\n",
       "      <td>2</td>\n",
       "      <td>False</td>\n",
       "    </tr>\n",
       "    <tr>\n",
       "      <th>4</th>\n",
       "      <td>small (Region2 Z1) [res]</td>\n",
       "      <td>small</td>\n",
       "      <td>$\\infty$</td>\n",
       "      <td>2</td>\n",
       "      <td>0.038</td>\n",
       "      <td>5</td>\n",
       "      <td>1</td>\n",
       "      <td>True</td>\n",
       "    </tr>\n",
       "    <tr>\n",
       "      <th>5</th>\n",
       "      <td>large (Region2 Z1) [res]</td>\n",
       "      <td>large</td>\n",
       "      <td>$\\infty$</td>\n",
       "      <td>2</td>\n",
       "      <td>0.090</td>\n",
       "      <td>10</td>\n",
       "      <td>2</td>\n",
       "      <td>True</td>\n",
       "    </tr>\n",
       "    <tr>\n",
       "      <th>6</th>\n",
       "      <td>small (Region2 Z2) [res]</td>\n",
       "      <td>small</td>\n",
       "      <td>$\\infty$</td>\n",
       "      <td>3</td>\n",
       "      <td>0.038</td>\n",
       "      <td>5</td>\n",
       "      <td>1</td>\n",
       "      <td>True</td>\n",
       "    </tr>\n",
       "    <tr>\n",
       "      <th>7</th>\n",
       "      <td>large (Region2 Z2) [res]</td>\n",
       "      <td>large</td>\n",
       "      <td>$\\infty$</td>\n",
       "      <td>3</td>\n",
       "      <td>0.090</td>\n",
       "      <td>10</td>\n",
       "      <td>2</td>\n",
       "      <td>True</td>\n",
       "    </tr>\n",
       "  </tbody>\n",
       "</table>\n",
       "</div>"
      ],
      "text/plain": [
       "                $\\text{IC}_i$ $\\text{type}_i$ $\\text{max}_i$  $\\text{ls}_i$  \\\n",
       "$i$                                                                           \n",
       "0       small (Region1) [dem]           small             10              0   \n",
       "1       large (Region1) [dem]           large             10              0   \n",
       "2       small (Region2) [dem]           small             10              1   \n",
       "3       large (Region2) [dem]           large             10              1   \n",
       "4    small (Region2 Z1) [res]           small       $\\infty$              2   \n",
       "5    large (Region2 Z1) [res]           large       $\\infty$              2   \n",
       "6    small (Region2 Z2) [res]           small       $\\infty$              3   \n",
       "7    large (Region2 Z2) [res]           large       $\\infty$              3   \n",
       "\n",
       "     $p_i$ (\\$/h)  $\\text{perf}_i$  $c_i$ $\\text{rsv}_i$  \n",
       "$i$                                                       \n",
       "0           0.050                5      1          False  \n",
       "1           0.110               10      2          False  \n",
       "2           0.052                5      1          False  \n",
       "3           0.120               10      2          False  \n",
       "4           0.038                5      1           True  \n",
       "5           0.090               10      2           True  \n",
       "6           0.038                5      1           True  \n",
       "7           0.090               10      2           True  "
      ]
     },
     "metadata": {},
     "output_type": "display_data"
    }
   ],
   "source": [
    "display_table_of_instance_classes(instance_classes)"
   ]
  },
  {
   "cell_type": "markdown",
   "metadata": {},
   "source": [
    "## Workload\n",
    "\n",
    "For Phase I, a prediction of the workload for each time slot in a whole reservation period (LTWP) is required. Our method does not require nor assume any prediction model, since it only requires a list of predicted load values, one for each time slot.\n",
    "\n",
    "For this example, the reservation period will be one year, divided into 8760 time slots which represent each hour. The predicted workload will be modeled as a uniform random variable between 90 and 110, plus a sinusoid of amplitude 30 and period of one week, to represent the variations among weekdays, plus another sinusoid of amplitude 30 and period equal to 573 days, to represent slow variations among years. To make the example more interesting, a spike was added around time slot 5660 in which the load is 150 units larger than usual. This spike makes less obvious what is the optimal load-level which has to be covered by reserved instances."
   ]
  },
  {
   "cell_type": "markdown",
   "metadata": {},
   "source": [
    "The code below generates a `csv` file with an instance of the described workload. \n",
    "\n",
    "To reproduce the same results shown in the paper, don't re-run this code. Use instead the provided \"example_load.csv\"\n",
    "\n",
    "```python\n",
    "year = 8760  # Number of time slots in the year\n",
    "load = np.ones(year)*100                                  # Base load (100)\n",
    "load = load + np.random.rand(year)*20                     # Random variability (±20)\n",
    "load = load + np.sin(np.arange(year)/year*4)*30           # Stational cycle (±30)\n",
    "load = load + np.sin(np.arange(year)/year*2*np.pi*52)*30  # Weekly cycle (±30)\n",
    "load = load.clip(min=0)  # Remove negative values\n",
    "load = np.floor(load)    # Make the load integer\n",
    "load[5660:5670] += 150   # Insert spike at 5560--5670\n",
    "\n",
    "# Save this load to make the notebook reproducible\n",
    "df = pd.DataFrame(load)\n",
    "df.columns=[\"load\"]\n",
    "df.index.name=\"Time slot\"\n",
    "df.to_csv(\"example_load.csv\")\n",
    "```"
   ]
  },
  {
   "cell_type": "markdown",
   "metadata": {},
   "source": [
    "Load into the notebook the pre-generated workload example."
   ]
  },
  {
   "cell_type": "code",
   "execution_count": 12,
   "metadata": {
    "ExecuteTime": {
     "end_time": "2016-12-11T01:46:19.820143",
     "start_time": "2016-12-11T01:46:19.805102"
    },
    "collapsed": false
   },
   "outputs": [],
   "source": [
    "# Read pre-generated load from csv\n",
    "df = pd.read_csv(\"../data/processed/traces_example_simple.csv\", index_col=0)\n",
    "load=df.load.values"
   ]
  },
  {
   "cell_type": "markdown",
   "metadata": {},
   "source": [
    "Plot it for the whole year, with a zoom around the spike area."
   ]
  },
  {
   "cell_type": "code",
   "execution_count": 13,
   "metadata": {
    "ExecuteTime": {
     "end_time": "2016-12-11T01:46:21.431726",
     "start_time": "2016-12-11T01:46:19.821630"
    },
    "collapsed": false
   },
   "outputs": [
    {
     "name": "stderr",
     "output_type": "stream",
     "text": [
      "/home/jldiaz/anaconda3/lib/python3.5/site-packages/matplotlib/font_manager.py:1288: UserWarning: findfont: Font family ['serif'] not found. Falling back to Bitstream Vera Sans\n",
      "  (prop.get_family(), self.defaultFamily[fontext]))\n"
     ]
    },
    {
     "data": {
      "image/png": "[encoded data removed]",
      "text/plain": [
       "<matplotlib.figure.Figure at 0x7f38650c3f98>"
      ]
     },
     "metadata": {},
     "output_type": "display_data"
    }
   ],
   "source": [
    "zoom = (5550, 5750)  # xlimits to zoom in the auxiliar plot\n",
    "\n",
    "with matplotlib.style.context(paper_style):\n",
    "    f, ax = plt.subplots(2)\n",
    "\n",
    "    # First subplot, whole year\n",
    "    df.plot(ax=ax[0], linestyle=\"steps\", legend=False, linewidth=0.5) \n",
    "    #, figsize=(3.3,3))\n",
    "    f.subplots_adjust(hspace=0.7)\n",
    "    ax[0].set_ylabel(\"Load (rph)\")\n",
    "    ax[0].set_xlabel(\"\")\n",
    "\n",
    "    # Second subplot, zoom around region of interest\n",
    "    df[slice(*zoom)].plot(ax=ax[1], linestyle=\"steps\", linewidth=0.5, legend=False)\n",
    "    ax[1].set_ylabel(\"Load (rph)\")\n",
    "    ax[1].set_xlabel(\"Time slot (hour)\")\n",
    "    ax[0].set_xlim(0, 8160)\n",
    "    ax[1].set_xlim(*zoom)\n",
    "\n",
    "    # Connect subplots to show visually the zoom effect\n",
    "    zoom_effect02(ax[1], ax[0], color=\"r\", linestyle=\"dashed\", linewidth=0.6)\n",
    "    plt.gcf().savefig(\"../reports/figures/fig-002-synthetic-LTWP.pgf\", bbox_inches = 'tight')\n",
    "    plt.show()"
   ]
  },
  {
   "cell_type": "markdown",
   "metadata": {},
   "source": [
    "The problem input is composed of the set of instance classes, plus the workload. It can be saved in a pickle file for reusing it in a different notebook."
   ]
  },
  {
   "cell_type": "code",
   "execution_count": 14,
   "metadata": {
    "ExecuteTime": {
     "end_time": "2016-12-11T01:46:21.436938",
     "start_time": "2016-12-11T01:46:21.433430"
    },
    "collapsed": false
   },
   "outputs": [],
   "source": [
    "problem = Problem(instance_classes, load)\n",
    "problem.save(\"../data/interim/example_inputs.pickle\")"
   ]
  },
  {
   "cell_type": "code",
   "execution_count": 15,
   "metadata": {
    "ExecuteTime": {
     "end_time": "2016-12-11T01:46:21.505672",
     "start_time": "2016-12-11T01:46:21.438373"
    },
    "collapsed": false
   },
   "outputs": [],
   "source": [
    "# To read a saved problem, a method is provided\n",
    "problem = Problem.load(\"../data/interim/example_inputs.pickle\")"
   ]
  },
  {
   "cell_type": "code",
   "execution_count": 16,
   "metadata": {
    "ExecuteTime": {
     "end_time": "2016-12-11T01:46:21.527178",
     "start_time": "2016-12-11T01:46:21.508499"
    },
    "collapsed": false
   },
   "outputs": [
    {
     "name": "stdout",
     "output_type": "stream",
     "text": [
      "Problem with 8 instance classes and 8760 timeslots [small_Region1, large_Region1, small_Region2, large_Region2, small_Region2 Z1_R, large_Region2 Z1_R, small_Region2 Z2_R, large_Region2 Z2_R]\n"
     ]
    }
   ],
   "source": [
    "print(problem, problem.instances)"
   ]
  },
  {
   "cell_type": "markdown",
   "metadata": {},
   "source": [
    "# Histogram computation"
   ]
  },
  {
   "cell_type": "markdown",
   "metadata": {},
   "source": [
    "The LTWP is composed of 8760 values, one per time slot, several of them probably being repeated. Computing the frequency histogram of each possible load level can help to reduce the amount of data used as input, and thus the size of the LP problem to solve."
   ]
  },
  {
   "cell_type": "code",
   "execution_count": 17,
   "metadata": {
    "ExecuteTime": {
     "end_time": "2016-12-11T01:46:21.555134",
     "start_time": "2016-12-11T01:46:21.528692"
    },
    "collapsed": false
   },
   "outputs": [],
   "source": [
    "H = lloovia.get_load_hist_from_load(problem.load)\n",
    "\n",
    "# Convert it to dataframe for easier plotting and inspection\n",
    "dfh=pd.DataFrame(list(H.items()))\n",
    "dfh.columns=[\"Load level\", \"Count\"]\n",
    "dfh = dfh.sort_values(by=\"Load level\")\n",
    "dfh = dfh.set_index(\"Load level\")"
   ]
  },
  {
   "cell_type": "code",
   "execution_count": 18,
   "metadata": {
    "ExecuteTime": {
     "end_time": "2016-12-11T01:46:21.831214",
     "start_time": "2016-12-11T01:46:21.557726"
    },
    "collapsed": false
   },
   "outputs": [
    {
     "data": {
      "image/png": "[encoded data removed]",
      "text/plain": [
       "<matplotlib.figure.Figure at 0x7f3865171a20>"
      ]
     },
     "metadata": {},
     "output_type": "display_data"
    }
   ],
   "source": [
    "# Plot the histogram\n",
    "\n",
    "# Fill with zero all load-levels not present in dfh\n",
    "all_levels = pd.DataFrame(list(range(int(dfh.index.max()))), columns=[\"Load level\"])\n",
    "all_levels = all_levels.set_index(\"Load level\")\n",
    "all_levels = pd.concat([all_levels,dfh], axis=1).fillna(method=\"bfill\", limit=2)\n",
    "\n",
    "\n",
    "# Plot the resulting data as area-plot\n",
    "with matplotlib.style.context(paper_style):\n",
    "    ax = all_levels.plot(kind=\"area\", grid=True, alpha=0.8, \n",
    "                     figsize=(3.3,1.3),   # Size for paper\n",
    "                     linewidth=0, legend=False)\n",
    "\n",
    "    # Select a subset of the xticks to be labelled\n",
    "    ticks = [48] + list(range(60,185,20)) + [250, 264]\n",
    "    ax.set_xticks(ticks)\n",
    "    ax.set_xticklabels(ticks, rotation=90)\n",
    "    ax.set_ylabel(\"Count\")\n",
    "    ax.set_xlabel(\"Load level (rph)\")\n",
    "    plt.gcf().savefig(\"../reports/figures/fig-003-histogram.pgf\", bbox_inches = 'tight')"
   ]
  },
  {
   "cell_type": "markdown",
   "metadata": {},
   "source": [
    "It can be seen in this plot that the minimum predicted load is 48, and the maximum is 264, which correspond to the spike. Thus, we can expect $264-48=216$ different load values at maximum. However, it should be noted that there are no load values between 180 and 250, so the effective number of load values will be in fact lower (139 in this example).\n",
    "\n",
    "This shows one of the advantages of switching from the time-slot domain to the load-level domain. The size of the input data is reduced from 8760 to 139 in this example. In the worst case, in which the load levels never repeat among time slots, this transformation would not reduce the size of the problem, but it would not increase it either.\n",
    "\n",
    "A second advantage is that we have control over the size of the input, because the size of the histogram can be further reduced by using binning when computing it. For example, if 12 bins are used, the resulting histogram will consider only 12 different load levels, between 0 and the maximum. In fact, since some of the bins could be empty, the number of effective load levels may be less than 12. "
   ]
  },
  {
   "cell_type": "markdown",
   "metadata": {},
   "source": [
    "## Binning"
   ]
  },
  {
   "cell_type": "markdown",
   "metadata": {},
   "source": [
    "Now, recompute the histogram with 12 bins (divide the range 0-max(load) in 12 parts). We illustrate in this notebook how the histogram can be computed. In the normal use of Lloovia this is not neccessary, since the histogram is automatically computed by Lloovia when the parameter `max_bins` is used."
   ]
  },
  {
   "cell_type": "code",
   "execution_count": 19,
   "metadata": {
    "ExecuteTime": {
     "end_time": "2016-12-11T01:46:21.843271",
     "start_time": "2016-12-11T01:46:21.833772"
    },
    "collapsed": false,
    "scrolled": true
   },
   "outputs": [
    {
     "data": {
      "text/plain": [
       "{22.0: 0,\n",
       " 44.0: 0,\n",
       " 66.0: 181,\n",
       " 88.0: 833,\n",
       " 110.0: 2048,\n",
       " 132.0: 2465,\n",
       " 154.0: 2027,\n",
       " 176.0: 1178,\n",
       " 198.0: 18,\n",
       " 220.0: 0,\n",
       " 242.0: 0,\n",
       " 264.0: 10}"
      ]
     },
     "execution_count": 19,
     "metadata": {},
     "output_type": "execute_result"
    }
   ],
   "source": [
    "# We substract epsilon to each load level, so that it falls inside the\n",
    "# bin whose right mark is that load level\n",
    "epsilon = 1e-6\n",
    "h = np.histogram(problem.load-epsilon, bins=12, range=(0, max(problem.load)))\n",
    "# Convert this histogram into a dictionary whose keys are load-levels\n",
    "# and the values are the corresponding count. We take the right mark of each\n",
    "# bin as representative of the bin\n",
    "H12 = dict(zip(h[1][1:], h[0]))\n",
    "H12"
   ]
  },
  {
   "cell_type": "code",
   "execution_count": 20,
   "metadata": {
    "ExecuteTime": {
     "end_time": "2016-12-11T01:46:21.865634",
     "start_time": "2016-12-11T01:46:21.847831"
    },
    "collapsed": false
   },
   "outputs": [
    {
     "data": {
      "text/plain": [
       "{66.0: 181,\n",
       " 88.0: 833,\n",
       " 110.0: 2048,\n",
       " 132.0: 2465,\n",
       " 154.0: 2027,\n",
       " 176.0: 1178,\n",
       " 198.0: 18,\n",
       " 264.0: 10}"
      ]
     },
     "execution_count": 20,
     "metadata": {},
     "output_type": "execute_result"
    }
   ],
   "source": [
    "# remove empty bins to keep only effective load levels\n",
    "H12 = {l: count for l, count in H12.items()  if count>0}\n",
    "H12"
   ]
  },
  {
   "cell_type": "code",
   "execution_count": 21,
   "metadata": {
    "ExecuteTime": {
     "end_time": "2016-12-11T01:46:21.889853",
     "start_time": "2016-12-11T01:46:21.867972"
    },
    "collapsed": false
   },
   "outputs": [],
   "source": [
    "# Convert it to pandas dataframe for easier plotting and inspection\n",
    "dfh12 = pd.DataFrame(list(H12.items()))\n",
    "dfh12.columns = [\"Load level\", \"Count\"]\n",
    "dfh12 = dfh12.sort_values(by=\"Load level\")\n",
    "dfh12 = dfh12.set_index(\"Load level\")"
   ]
  },
  {
   "cell_type": "code",
   "execution_count": 22,
   "metadata": {
    "ExecuteTime": {
     "end_time": "2016-12-11T01:46:22.139361",
     "start_time": "2016-12-11T01:46:21.891949"
    },
    "collapsed": false
   },
   "outputs": [
    {
     "data": {
      "image/png": "[encoded data removed]",
      "text/plain": [
       "<matplotlib.figure.Figure at 0x7f3862660390>"
      ]
     },
     "metadata": {},
     "output_type": "display_data"
    }
   ],
   "source": [
    "# Plot the histogram\n",
    "\n",
    "# Fill with zero all load-levels not present in dfh10\n",
    "all_levels = pd.DataFrame(list(range(int(dfh12.index.max()))), columns=[\"Load level\"])\n",
    "all_levels = all_levels.set_index(\"Load level\")\n",
    "all_levels = pd.concat([all_levels,dfh12], axis=1).fillna(method=\"bfill\", limit=2).fillna(method=\"ffill\", limit=2)\n",
    "\n",
    "# Plot the resulting data as area-plot\n",
    "with matplotlib.style.context(paper_style):\n",
    "    ax = all_levels.plot(kind=\"area\", \n",
    "                         figsize=(3.3,1.3), # Size for paper\n",
    "                         alpha=0.7, xlim=(0,270),\n",
    "                         linewidth=0.5, legend=False)\n",
    "\n",
    "    # put x labels only for the resulting effective load levels\n",
    "    ticks = list(map(int, sorted(list(H12.keys()))))\n",
    "    ax.set_xticks(ticks)\n",
    "    ax.set_xticklabels(ticks, rotation=90)\n",
    "    ax.set_ylabel(\"Count\")\n",
    "    ax.set_xlabel(\"Load level (rph)\")\n",
    "    plt.gcf().savefig(\"../reports/figures/fig-004-histogram-binned.pgf\", bbox_inches = 'tight')"
   ]
  },
  {
   "cell_type": "markdown",
   "metadata": {},
   "source": [
    "# Solving, Phase I"
   ]
  },
  {
   "cell_type": "markdown",
   "metadata": {},
   "source": [
    "## No binning (optimal solution)"
   ]
  },
  {
   "cell_type": "markdown",
   "metadata": {},
   "source": [
    "$\\def\\ICres{\\text{IC}^\\text{res}}\\def\\ICdem{\\text{IC}^\\text{dem}}$\n",
    "\n",
    "Once all required information is gathered, it is used to create the LP problem. In this example, the problem will have four integer variables $Y_i$ which represent the number of reserved VMs for each $\\ICres_i$ to allocate during the whole reservation period, plus $4\\times|H|$ integer variables $X_{il}$ which represent the number of on-demand VMs for each $\\ICdem_i$ to allocate for each predicted load level (being $|H|$ the number of non-empty bins in the histogram). In our case, if no binning is performed, $|H|=139$, so the total number of variables in the LP problem would be 560. If we use binning with 12 bins, then $|H|=8$ as already shown and the total number of variables is reduced to 36.\n",
    "\n",
    "The number of constraints in the problem is also related to the size of $|H|$, since performance restrictions have to be satisfied for each load level. In this example, without binning, the total number of constraints is 1251. Using 12 bins the number of constraints in the problem is reduced to only 72."
   ]
  },
  {
   "cell_type": "code",
   "execution_count": 23,
   "metadata": {
    "ExecuteTime": {
     "end_time": "2016-12-11T01:46:22.376990",
     "start_time": "2016-12-11T01:46:22.141837"
    },
    "collapsed": false
   },
   "outputs": [],
   "source": [
    "phase_I = lloovia.PhaseI(problem, title=\"Example, no binning\")\n",
    "phase_I.solve()"
   ]
  },
  {
   "cell_type": "markdown",
   "metadata": {},
   "source": [
    "Several statistics about the status (optimallity) of the solution, the time required to create and solve the problem, the parameters passed to the solver, and a copy of the problem, can be retrieved from `phase_I.solution`. See for example the solving stats:"
   ]
  },
  {
   "cell_type": "code",
   "execution_count": 24,
   "metadata": {
    "ExecuteTime": {
     "end_time": "2016-12-11T01:46:22.382942",
     "start_time": "2016-12-11T01:46:22.378784"
    },
    "collapsed": false
   },
   "outputs": [
    {
     "data": {
      "text/plain": [
       "SolvingStats(max_bins=None, histogram=LlooviaHistogram(139 elements), frac_gap=None, max_seconds=None, creation_time=0.1079194740159437, solving_time=0.11085418192669749, status='optimal', lower_bound=None, optimal_cost=9015.216000000004)"
      ]
     },
     "execution_count": 24,
     "metadata": {},
     "output_type": "execute_result"
    }
   ],
   "source": [
    "phase_I.solution.solving_stats"
   ]
  },
  {
   "cell_type": "markdown",
   "metadata": {},
   "source": [
    "The complete allocation for each load-level is also available as a pandas DataFrame, and from it several results can be obtained, such as the total cost of the proposed allocation, which has to be equal to the optimal cost found by the solver (see above)"
   ]
  },
  {
   "cell_type": "code",
   "execution_count": 25,
   "metadata": {
    "ExecuteTime": {
     "end_time": "2016-12-11T01:46:22.432607",
     "start_time": "2016-12-11T01:46:22.384401"
    },
    "collapsed": false
   },
   "outputs": [
    {
     "name": "stdout",
     "output_type": "stream",
     "text": [
      "Total cost: 9015.216000\n",
      "Cost of reserved instances: 6990.480000\n",
      "Cost of on-demand instances: 2024.736000\n"
     ]
    }
   ],
   "source": [
    "print(\"Total cost: %f\" % phase_I.solution.get_cost(\"total\"))\n",
    "print(\"Cost of reserved instances: %f\" % phase_I.solution.get_cost(\"reserved\"))\n",
    "print(\"Cost of on-demand instances: %f\" % phase_I.solution.get_cost(\"ondemand\"))"
   ]
  },
  {
   "cell_type": "markdown",
   "metadata": {},
   "source": [
    "The solution from Phase I is the optimal number of reserved and on-demand VMs that should be allocated at each possible predicted load level to minimize the cost while satisfying performance constraints and the limits enforced by the cloud provider. This solution is stored in a table, whose index is all the possible load levels (in the LTWP), and the rows store the optimal number of VMs for each $\\text{IC}_i$ to allocate for that load level. In addition, the value of the objective function is the optimal cost, assuming that the actual load that will be present when the system is in production is equal to the predicted LTWP. In this example this cost is 9015.216."
   ]
  },
  {
   "cell_type": "code",
   "execution_count": 26,
   "metadata": {
    "ExecuteTime": {
     "end_time": "2016-12-11T01:46:22.442315",
     "start_time": "2016-12-11T01:46:22.435158"
    },
    "collapsed": false
   },
   "outputs": [
    {
     "data": {
      "text/plain": [
       "large_Region2 Z1_R     0.0\n",
       "small_Region2 Z2_R     9.0\n",
       "large_Region2 Z2_R     0.0\n",
       "small_Region2 Z1_R    12.0\n",
       "large_Region1          0.0\n",
       "small_Region2          1.0\n",
       "small_Region1         10.0\n",
       "large_Region2          0.0\n",
       "Name: 160.0, dtype: float64"
      ]
     },
     "execution_count": 26,
     "metadata": {},
     "output_type": "execute_result"
    }
   ],
   "source": [
    "allocation = phase_I.solution.allocation\n",
    "# Show part of the solution, for example, the optimal allocation for l=160\n",
    "l=160\n",
    "allocation.loc[l]"
   ]
  },
  {
   "cell_type": "markdown",
   "metadata": {},
   "source": [
    "This information can be represented also as a graph, shown below. In this graph, the x-axis shows all possible load levels in the LTWP, and for each one of them the optimal number of VMs is represented as a stacked bar, using different colours for each IC. The legend for this graph is shown separately to save space, since it is shared with other graphs shown in this notebook."
   ]
  },
  {
   "cell_type": "code",
   "execution_count": 27,
   "metadata": {
    "ExecuteTime": {
     "end_time": "2016-12-11T01:46:22.452131",
     "start_time": "2016-12-11T01:46:22.444707"
    },
    "collapsed": true
   },
   "outputs": [],
   "source": [
    "# Define some colors for the following plots\n",
    "import matplotlib.cm as cm\n",
    "mycolors = [\n",
    "    cm.Greens(0.6), cm.Greens(0.9), # Those are for reserved VMs in any zone\n",
    "    cm.Blues(0.6), cm.Blues(0.9),   # Those are for on-demand VMs in Region1\n",
    "    cm.Reds(0.6), cm.Reds(0.9),     # Those are for on-demand VMs in Region2\n",
    "]"
   ]
  },
  {
   "cell_type": "code",
   "execution_count": 28,
   "metadata": {
    "ExecuteTime": {
     "end_time": "2016-12-11T01:46:22.741226",
     "start_time": "2016-12-11T01:46:22.454359"
    },
    "collapsed": false
   },
   "outputs": [
    {
     "data": {
      "image/png": "[encoded data removed]",
      "text/plain": [
       "<matplotlib.figure.Figure at 0x7f38624c49e8>"
      ]
     },
     "metadata": {},
     "output_type": "display_data"
    }
   ],
   "source": [
    "# Plot the legend (the same for all the plots to follow)\n",
    "import matplotlib.patches as mpatches\n",
    "\n",
    "# Create auxiliar plot to get the colors and labels for the legend\n",
    "with matplotlib.style.context(paper_style):\n",
    "    aux = plot_solution_slots(allocation, linewidth=0, legend=False,  \n",
    "                              amazon_or_azure=False, colors=mycolors)\n",
    "    plt.close() # Close the plot to avoid displaying it\n",
    "\n",
    "    # Draw a separate legend\n",
    "    patches, labels = aux.get_legend_handles_labels()\n",
    "    f = plt.figure(figsize=(1,1))\n",
    "    ax = f.add_subplot(111)\n",
    "    ax.set_axis_off()  #turn off the axis \n",
    "    ax.legend(reversed([mpatches.Rectangle((0, 0), 1, 1, fc=handle.get_color(),\n",
    "                                                  linewidth=handle.get_linewidth(),\n",
    "                                                  alpha=handle.get_alpha())\n",
    "                               for handle in patches]) , reversed(labels))\n",
    "    \n",
    "    plt.gcf().savefig(\"../reports/figures/fig-007-legend.pgf\", bbox_inches = 'tight')"
   ]
  },
  {
   "cell_type": "code",
   "execution_count": 29,
   "metadata": {
    "ExecuteTime": {
     "end_time": "2016-12-11T01:46:23.208856",
     "start_time": "2016-12-11T01:46:22.742744"
    },
    "collapsed": false
   },
   "outputs": [
    {
     "data": {
      "image/png": "[encoded data removed]",
      "text/plain": [
       "<matplotlib.figure.Figure at 0x7f38624b3ef0>"
      ]
     },
     "metadata": {},
     "output_type": "display_data"
    }
   ],
   "source": [
    "# Plot the allocation (using load levels as x-axis)\n",
    "\n",
    "# First, fill with zero the load levels absent from the input histogram\n",
    "all_levels = pd.DataFrame(list(range(int(dfh.index.max()))), columns=[\"Load level\"])\n",
    "all_levels = all_levels.set_index(\"Load level\")\n",
    "allocation.index.name=\"Load level\"\n",
    "all_levels = pd.concat([all_levels, allocation], axis=1).fillna(method=\"bfill\", limit=3)\n",
    "\n",
    "# Plot the result as a stacked area graph\n",
    "with matplotlib.style.context(paper_style):\n",
    "    p = plot_solution_slots(all_levels, linewidth=0, \n",
    "                            figsize=(3.3, 1.5), # Size for paper\n",
    "                            #figsize=(8,4),\n",
    "                            legend=False,  amazon_or_azure=False, colors=mycolors)\n",
    "    p.set_xlabel(\"Load level (rph)\")\n",
    "    p.set_ylabel(\"Number of VMs\")\n",
    "    p.set_xlim(0,270)\n",
    "\n",
    "    # Select a subset of x-ticks to label\n",
    "    ticks = [48] + list(range(60,185,20)) + [250, 264]\n",
    "    p.set_xticks(ticks)\n",
    "    p.set_xticklabels(ticks, rotation=90)\n",
    "    plt.gcf().savefig(\"../reports/figures/fig-005-optimal-alloc-vs-load.pgf\", bbox_inches = 'tight')"
   ]
  },
  {
   "cell_type": "markdown",
   "metadata": {},
   "source": [
    "The gaps in this plot correspond to load levels which do not appear in the LTWP. It can be seen that the optimal number of reserved VMs is 21 VMs of type small (12 in zone 1, and 9 in zone 2), and the number of on-demand VMs depends on the value of the load level. When the load is under 110 rph, the reserved VMs are enough to fulfill it. As the load level increases, more VMs of type small are purchased in Region 1 (which is cheaper) until the limit of 10 VMs of type small is reached, for a load level around 150. Then, as the load continues increasing, small VMs in Region 2 are added. The optimal allocation for higher load values is more interesting. For a load level of 254 the absolute limit of 15 VMs for Region 1 is reached. In addition, there are 10 small VMs allocated in Region 2. For a load level of 256 the solution exchanges one small VM for a large VM in the same region, so that the limit of 15 is still preserved and the performance is greater. However, for higher values of load, such as 264, it is more cost-effective to switch again to 10 small and 5 large VMs in Region 1, and allocate a new large VM in Region 2. The purpose of this explanation is to show how the determination of the optimal number of VMs of each class, for each load level, is a complex task, even for a simple example such as the one presented, which cannot be solved without the aid of a tool."
   ]
  },
  {
   "cell_type": "code",
   "execution_count": 30,
   "metadata": {
    "ExecuteTime": {
     "end_time": "2016-12-11T01:46:23.216924",
     "start_time": "2016-12-11T01:46:23.210432"
    },
    "collapsed": false
   },
   "outputs": [],
   "source": [
    "# Convert the solution from the load-level domain to the time-slot domain\n",
    "def load_levels_to_slots(load, allocation):\n",
    "    bins = allocation.index\n",
    "    q_index = np.digitize(load, bins, right=True)\n",
    "    npsol = np.take(allocation.get_values(), q_index, axis=0)\n",
    "    return pd.DataFrame(npsol, columns=allocation.columns)\n",
    "\n",
    "allocation_t = load_levels_to_slots(problem.load, allocation)"
   ]
  },
  {
   "cell_type": "markdown",
   "metadata": {},
   "source": [
    "The allocation for Phase I can be expanded in time again, as shown in next plot, using for each time slot the optimal allocation given by the solution for the load level present in that time slot."
   ]
  },
  {
   "cell_type": "code",
   "execution_count": 31,
   "metadata": {
    "ExecuteTime": {
     "end_time": "2016-12-11T01:46:23.779495",
     "start_time": "2016-12-11T01:46:23.218328"
    },
    "collapsed": false
   },
   "outputs": [
    {
     "data": {
      "image/png": "[encoded data removed]",
      "text/plain": [
       "<matplotlib.figure.Figure at 0x7f3862660dd8>"
      ]
     },
     "metadata": {},
     "output_type": "display_data"
    }
   ],
   "source": [
    "# Plot again the solution, but using time slots as x-axis\n",
    "# Instead of plotting the whole year, we show only a region of interest \n",
    "# around the spike\n",
    "xlim = zoom\n",
    "\n",
    "with matplotlib.style.context(paper_style):\n",
    "    # Two subplots, one for the allocations, another for the workload\n",
    "    f, axarr = plt.subplots(2, sharex=True, gridspec_kw = {'height_ratios':[3, 2]})\n",
    "\n",
    "    # 1) Plot the allocations as stacked areas\n",
    "    plot_solution_slots(allocation_t, ax = axarr[0], linewidth=0, colors=mycolors,\n",
    "                       amazon_or_azure=False, \n",
    "                        figsize=(3.3,2),   # Size for  paper\n",
    "                        # figsize=(8,6),\n",
    "                       xlim = xlim, legend=False)\n",
    "    axarr[0].set_ylabel(\"Number of VMs\")\n",
    "\n",
    "    # 2) Plot the workload as a stepwise function\n",
    "    sli = slice(*xlim)\n",
    "    r = range(*xlim)\n",
    "    axarr[1].step(r, load[sli], alpha=0.4, color=\"green\", linewidth=1)\n",
    "    axarr[1].set_ylabel(\"Load (rph)\")\n",
    "    axarr[1].set_xlabel(\"Time slot (hour)\")\n",
    "    f.subplots_adjust(hspace=0.2)\n",
    "    plt.gcf().savefig(\"../reports/figures/fig-006-optimal-alloc-vs-time.pgf\", bbox_inches = 'tight')"
   ]
  },
  {
   "cell_type": "markdown",
   "metadata": {},
   "source": [
    "## Binning (12 bins, 8 effective load levels)"
   ]
  },
  {
   "cell_type": "markdown",
   "metadata": {},
   "source": [
    "In some real-world cases, when the number of different instance classes is very large, and the LTWP does not repeat values, so that the histogram does not help to reduce the size of the problem, the time to solve the LP problem required for Phase I can be prohibitively long. For these cases, the proposed approximation is to reduce the size of the problem by using bins when computing the histogram.\n",
    "\n",
    "Using the histogram with the 12 bins already computed, instead of the full histogram, the LP problem for this example can be generated and solved in 0.024s. However, the solution is no longer optimal, since much information has been lost in the binning."
   ]
  },
  {
   "cell_type": "code",
   "execution_count": 32,
   "metadata": {
    "ExecuteTime": {
     "end_time": "2016-12-11T01:46:23.821883",
     "start_time": "2016-12-11T01:46:23.781113"
    },
    "collapsed": false
   },
   "outputs": [],
   "source": [
    "phase_I_12 = lloovia.PhaseI(problem, title=\"Example, no binning\")\n",
    "phase_I_12.solve(max_bins=12)"
   ]
  },
  {
   "cell_type": "markdown",
   "metadata": {},
   "source": [
    "The cost of this allocation is not optimal. It will be enhanced in Phase II."
   ]
  },
  {
   "cell_type": "code",
   "execution_count": 33,
   "metadata": {
    "ExecuteTime": {
     "end_time": "2016-12-11T01:46:23.850324",
     "start_time": "2016-12-11T01:46:23.823626"
    },
    "collapsed": false
   },
   "outputs": [
    {
     "name": "stdout",
     "output_type": "stream",
     "text": [
      "Cost of this allocation: 9653.178\n"
     ]
    }
   ],
   "source": [
    "allocation_12 = phase_I_12.solution.allocation\n",
    "print(\"Cost of this allocation:\", phase_I_12.solution.get_cost())"
   ]
  },
  {
   "cell_type": "code",
   "execution_count": 34,
   "metadata": {
    "ExecuteTime": {
     "end_time": "2016-12-11T01:46:24.134128",
     "start_time": "2016-12-11T01:46:23.851818"
    },
    "collapsed": false
   },
   "outputs": [
    {
     "data": {
      "image/png": "[encoded data removed]",
      "text/plain": [
       "<matplotlib.figure.Figure at 0x7f386512b6a0>"
      ]
     },
     "metadata": {},
     "output_type": "display_data"
    }
   ],
   "source": [
    "# Plot the solution with load-levels in x-axis\n",
    "\n",
    "# First, fill with zeros the load-levels not present in the solution\n",
    "all_levels = pd.DataFrame(list(range(int(dfh12.index.max()))), columns=[\"Load level\"])\n",
    "all_levels = all_levels.set_index(\"Load level\")\n",
    "allocation_12.index.name=\"Load level\"\n",
    "all_levels = pd.concat([all_levels, allocation_12], axis=1).fillna(method=\"bfill\", limit=4)\n",
    "\n",
    "# Plot this solution\n",
    "with matplotlib.style.context(paper_style):\n",
    "    p = plot_solution_slots(all_levels,  linewidth=0, legend=False,\n",
    "                            # figsize=(3.3, 1.6),   # Size for the paper version\n",
    "                            figsize=(8,4),\n",
    "                            amazon_or_azure=False, colors=mycolors)\n",
    "\n",
    "    # Put labels only at xticks present in the solution\n",
    "    ticks = [int(round(t)) for t in H12.keys()]\n",
    "    p.set_xticks(ticks)\n",
    "    p.set_xticklabels(ticks, rotation=90)\n",
    "    p.set_xlabel(\"Load level (rph)\")\n",
    "    p.set_ylabel(\"Number of VMs\")\n",
    "    p.set_xlim(0,270)\n",
    "    plt.show() "
   ]
  },
  {
   "cell_type": "markdown",
   "metadata": {},
   "source": [
    "The plot shows the solution for this case. In this solution, the optimal allocation is found only for a small subset of predicted workloads, which are the ones labeled in the x-axis (coincident with the ones in the histogram obtained with binning). "
   ]
  },
  {
   "cell_type": "code",
   "execution_count": 35,
   "metadata": {
    "ExecuteTime": {
     "end_time": "2016-12-11T01:46:24.139091",
     "start_time": "2016-12-11T01:46:24.135685"
    },
    "collapsed": true
   },
   "outputs": [],
   "source": [
    "# Convert the solution from the load-level domain to the time-slot domain\n",
    "allocation_12_t = load_levels_to_slots(problem.load, allocation_12)"
   ]
  },
  {
   "cell_type": "markdown",
   "metadata": {},
   "source": [
    "To plot this solution on the time axis, as shown below, each load level is quantized to the closest above in the set of effective load levels produced by the binning. The lower part of that plot shows this quantization."
   ]
  },
  {
   "cell_type": "code",
   "execution_count": 36,
   "metadata": {
    "ExecuteTime": {
     "end_time": "2016-12-11T01:46:24.663942",
     "start_time": "2016-12-11T01:46:24.140490"
    },
    "collapsed": false
   },
   "outputs": [
    {
     "data": {
      "image/png": "[encoded data removed]",
      "text/plain": [
       "<matplotlib.figure.Figure at 0x7f386229a898>"
      ]
     },
     "metadata": {},
     "output_type": "display_data"
    }
   ],
   "source": [
    "# Plot again the solution, but using time slots as x-axis\n",
    "# Instead of plotting the whole year, we show only a region of interest \n",
    "# around the spike\n",
    "\n",
    "xlim = zoom\n",
    "\n",
    "\n",
    "\n",
    "# Plot the allocations\n",
    "with matplotlib.style.context(paper_style):\n",
    "    # Two subplots, one for the allocation, another for the workload\n",
    "    f, ax = plt.subplots(2, sharex=True, gridspec_kw = {'height_ratios':[3, 2.3]})\n",
    "    plot_solution_slots(allocation_12_t, ax = ax[0], linewidth=0, colors=mycolors,\n",
    "                       amazon_or_azure=False, xlim = xlim, legend=False,\n",
    "                       # figsize=(3.3,3),    # Size for the paper version\n",
    "                       figsize=(8,6),\n",
    "                       )\n",
    "    ax[0].set_ylabel(\"Number of VMs\")\n",
    "\n",
    "    # Plot the workload, showing the quantization effect of binning\n",
    "    r = range(*xlim)\n",
    "    sli = slice(*xlim)\n",
    "    ax[1].step(r, load[sli], label=\"original\", color=\"green\", alpha=0.6, linewidth=1)\n",
    "\n",
    "    # Quantize the load and plot it too\n",
    "    bins = sorted(list(H12.keys()))\n",
    "    load_q = np.take(bins, np.digitize(load, bins, right=True))\n",
    "    ax[1].step(r, load_q[sli], alpha=0.5, color=\"red\", label=\"quantized\", linewidth=1)\n",
    "\n",
    "    # Label y-ticks in the load only for effective load levels\n",
    "    ax[1].set_yticks(list(H12.keys()))\n",
    "    ax[1].set_ylabel(\"Load (rph)\")\n",
    "    ax[1].set_xlabel(\"Time slot (hour)\")\n",
    "    ax[1].legend()\n",
    "    f.subplots_adjust(hspace=0.2)\n",
    "    plt.show()"
   ]
  },
  {
   "cell_type": "markdown",
   "metadata": {},
   "source": [
    "Although the solution of Phase~I is very different when using binning compared to the optimal one when no binning is used, it is our hypothesis that the number of reserved VMs would be very close to the optimal one. In this example, indeed, the difference is only one extra reserved VM of type small in Zone 2. Other notebooks will explore this with more detail, for synthetic workloads and real-world case studies."
   ]
  },
  {
   "cell_type": "markdown",
   "metadata": {},
   "source": [
    "The solution from Phase I can be saved in a file to make it more independent of Phase II, which can be performed in a different notebook or process."
   ]
  },
  {
   "cell_type": "code",
   "execution_count": 38,
   "metadata": {
    "ExecuteTime": {
     "end_time": "2016-12-11T01:46:33.849472",
     "start_time": "2016-12-11T01:46:33.844229"
    },
    "collapsed": false
   },
   "outputs": [],
   "source": [
    "phase_I_12.solution.save(\"../data/interim/example_phase_I_12_solution.pickle\")"
   ]
  },
  {
   "cell_type": "markdown",
   "metadata": {},
   "source": [
    "# Solving, Phase II"
   ]
  },
  {
   "cell_type": "markdown",
   "metadata": {},
   "source": [
    "To solve Phase~II the required inputs are: the characteristics of instance classes used in Phase I (we assume here that these characteristics are fixed in time, but it would be trivial to allow the price or performance data to be updated at each time slot), the solution obtained in Phase I, and the STWP for the next time slot. With this information we proceed as follows:\n",
    "\n",
    "For this example we assume that STWP=LTWP=`load`, which means that LTWP was a \"perfect prediction\"."
   ]
  },
  {
   "cell_type": "markdown",
   "metadata": {},
   "source": [
    "Phase II is only applied to `example2`, which is the one using binning. There is no point in applying Phase II to the solution without binning when using LTWP as STWP, because for this case the Phase II solution will be identical to the time-slot representation of Phase I solution."
   ]
  },
  {
   "cell_type": "code",
   "execution_count": 35,
   "metadata": {
    "ExecuteTime": {
     "end_time": "2016-12-01T12:54:16.342215",
     "start_time": "2016-12-01T12:52:54.585742"
    },
    "collapsed": false
   },
   "outputs": [
    {
     "name": "stdout",
     "output_type": "stream",
     "text": [
      "CPU times: user 28.5 s, sys: 20.4 s, total: 49 s\n",
      "Wall time: 1min 21s\n"
     ]
    }
   ],
   "source": [
    "%%time\n",
    "solution2_II, cost2_II = example2.online_solution(load)"
   ]
  },
  {
   "cell_type": "markdown",
   "metadata": {},
   "source": [
    "Note that the time shown above is the one required to solve all the 8760 time slots. Divide by 8760 to get the time required to solve the on-demand allocation at each time slot.\n",
    "\n",
    "The cost of the allocation given by Phase II is very close to the optimal (found by Phase I with no binning)."
   ]
  },
  {
   "cell_type": "code",
   "execution_count": 36,
   "metadata": {
    "ExecuteTime": {
     "end_time": "2016-12-01T13:02:12.477501",
     "start_time": "2016-12-01T13:02:12.473139"
    },
    "collapsed": false
   },
   "outputs": [
    {
     "name": "stdout",
     "output_type": "stream",
     "text": [
      "Cost for the whole year:   9031.699999999919\n",
      "Compare with optimal:      9015.216\n",
      "Compare with Phase I only: 9718.572\n"
     ]
    }
   ],
   "source": [
    "print(\"Cost for the whole year:  \", cost2_II)\n",
    "print(\"Compare with optimal:     \", example.cost())\n",
    "print(\"Compare with Phase I only:\", example2.cost())"
   ]
  },
  {
   "cell_type": "code",
   "execution_count": 37,
   "metadata": {
    "ExecuteTime": {
     "end_time": "2016-12-01T13:02:17.087703",
     "start_time": "2016-12-01T13:02:16.395494"
    },
    "collapsed": false
   },
   "outputs": [
    {
     "data": {
      "image/png": "[encoded data removed]",
      "text/plain": [
       "<matplotlib.figure.Figure at 0x7f10aa360fd0>"
      ]
     },
     "metadata": {},
     "output_type": "display_data"
    }
   ],
   "source": [
    "# Plot the optimal allocation for each time-slot for the whole year \n",
    "# (this plot was not shown in the paper)\n",
    "with matplotlib.style.context(paper_style):\n",
    "    p = plot_solution_slots(solution2_II, linewidth=0, colors=mycolors,\n",
    "                       amazon_or_azure=False, figsize=(13,4),\n",
    "                       pos_legend=(\"center left\", (1,0.5)))\n",
    "    p.set_xlabel(\"Time slot (hour)\")"
   ]
  },
  {
   "cell_type": "code",
   "execution_count": 38,
   "metadata": {
    "ExecuteTime": {
     "end_time": "2016-12-01T13:02:21.342308",
     "start_time": "2016-12-01T13:02:20.935524"
    },
    "collapsed": false
   },
   "outputs": [
    {
     "data": {
      "image/png": "[encoded data removed]",
      "text/plain": [
       "<matplotlib.figure.Figure at 0x7f10aa2c3be0>"
      ]
     },
     "metadata": {},
     "output_type": "display_data"
    }
   ],
   "source": [
    "# Zoom around the spike (not shown in the paper)\n",
    "xlim = zoom\n",
    "\n",
    "with matplotlib.style.context(paper_style):\n",
    "    # Two subplots, one for the allocation, another for the workload\n",
    "    f, axarr = plt.subplots(2, sharex=True, gridspec_kw = {'height_ratios':[3, 1.5]})\n",
    "\n",
    "    # Plot the allocations\n",
    "    plot_solution_slots(solution2_II, ax = axarr[0], linewidth=0, colors=mycolors,\n",
    "                       amazon_or_azure=False, figsize=(8,6),\n",
    "                       xlim = xlim, legend=False)\n",
    "\n",
    "    # Plot the workload\n",
    "    sli = slice(*xlim)\n",
    "    r = range(*xlim)\n",
    "    axarr[1].step(r, load[sli], label=\"original\", color=\"green\", alpha=0.4, linewidth=1)\n",
    "    axarr[1].set_ylabel(\"Load (rph)\")\n",
    "    axarr[0].set_ylabel(\"Number of VMs\")\n",
    "    axarr[1].set_xlabel(\"Time slot (hour)\")\n",
    "    f.subplots_adjust(hspace=0.2)\n",
    "    plt.show()"
   ]
  },
  {
   "cell_type": "markdown",
   "metadata": {
    "collapsed": true
   },
   "source": [
    "The influence of using binning in Phase I is twofold: first, the number of pre-computed allocations from Phase I is much smaller; second, and more crucially, the number of reserved instances obtained in Phase I is no longer optimal, so the cost of Phase II solution will be greater when binning was used in Phase I. In this particular example, the cost of the optimal solution was already shown to be 9015.216, while the cost of Phase II for the whole reservation period, even in the case in which STWP was identical to \\LTWP{} for all time slots, is 9031.700 in this example.\n"
   ]
  },
  {
   "cell_type": "code",
   "execution_count": null,
   "metadata": {
    "collapsed": true
   },
   "outputs": [],
   "source": []
  }
 ],
 "metadata": {
  "hide_input": false,
  "kernelspec": {
   "display_name": "Python [default]",
   "language": "python",
   "name": "python3"
  },
  "language_info": {
   "codemirror_mode": {
    "name": "ipython",
    "version": 3
   },
   "file_extension": ".py",
   "mimetype": "text/x-python",
   "name": "python",
   "nbconvert_exporter": "python",
   "pygments_lexer": "ipython3",
   "version": "3.5.2"
  },
  "toc": {
   "nav_menu": {
    "height": "252px",
    "width": "252px"
   },
   "navigate_menu": true,
   "number_sections": true,
   "sideBar": true,
   "threshold": 4,
   "toc_cell": false,
   "toc_position": {
    "height": "904px",
    "left": "0px",
    "right": "1626px",
    "top": "107px",
    "width": "232px"
   },
   "toc_section_display": "block",
   "toc_window_display": true
  }
 },
 "nbformat": 4,
 "nbformat_minor": 0
}
